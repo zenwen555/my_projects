{
 "cells": [
  {
   "cell_type": "markdown",
   "metadata": {},
   "source": [
    "# Введение в машинное обучение"
   ]
  },
  {
   "cell_type": "markdown",
   "metadata": {},
   "source": [
    "Данные по клиентам заархивированы в формате zip - разархивируем их с помощью библиотеки zipfile."
   ]
  },
  {
   "cell_type": "code",
   "execution_count": 1,
   "metadata": {
    "tags": []
   },
   "outputs": [],
   "source": [
    "import zipfile\n",
    "import pandas as pd\n",
    "\n",
    "import numpy as np\n",
    "import matplotlib.pyplot as plt\n",
    "import seaborn as sns\n",
    "%matplotlib inline"
   ]
  },
  {
   "cell_type": "code",
   "execution_count": 2,
   "metadata": {
    "tags": []
   },
   "outputs": [],
   "source": [
    "with zipfile.ZipFile('../datasets/client_info.csv.zip', 'r') as zip_ref:\n",
    "    zip_ref.extractall('../datasets')"
   ]
  },
  {
   "cell_type": "code",
   "execution_count": 3,
   "metadata": {
    "id": "dxhM1MLjPc31",
    "tags": []
   },
   "outputs": [],
   "source": [
    "df = pd.read_csv('../datasets/client_info.csv')"
   ]
  },
  {
   "cell_type": "code",
   "execution_count": 4,
   "metadata": {
    "tags": []
   },
   "outputs": [
    {
     "data": {
      "text/html": [
       "<div>\n",
       "<style scoped>\n",
       "    .dataframe tbody tr th:only-of-type {\n",
       "        vertical-align: middle;\n",
       "    }\n",
       "\n",
       "    .dataframe tbody tr th {\n",
       "        vertical-align: top;\n",
       "    }\n",
       "\n",
       "    .dataframe thead th {\n",
       "        text-align: right;\n",
       "    }\n",
       "</style>\n",
       "<table border=\"1\" class=\"dataframe\">\n",
       "  <thead>\n",
       "    <tr style=\"text-align: right;\">\n",
       "      <th></th>\n",
       "      <th>ID</th>\n",
       "      <th>CR_PROD_CNT_IL</th>\n",
       "      <th>AMOUNT_RUB_CLO_PRC</th>\n",
       "      <th>APP_REGISTR_RGN_CODE</th>\n",
       "      <th>TURNOVER_DYNAMIC_IL_1M</th>\n",
       "      <th>LDEAL_YQZ_COM_GROUP</th>\n",
       "      <th>LDEAL_YQZ_CHRG_GROUP</th>\n",
       "      <th>AVG_PCT_MONTH_TO_PCLOSE_GROUP</th>\n",
       "      <th>MAX_PCLOSE_DATE_GROUP</th>\n",
       "      <th>AVG_PCT_DEBT_TO_DEAL_AMT_GROUP</th>\n",
       "      <th>...</th>\n",
       "      <th>CLNT_SETUP_TENOR</th>\n",
       "      <th>TURNOVER_DYNAMIC_PAYM_3M</th>\n",
       "      <th>TURNOVER_DYNAMIC_PAYM_1M</th>\n",
       "      <th>TRANS_AMOUNT_TENDENCY3M</th>\n",
       "      <th>TRANS_CNT_TENDENCY3M</th>\n",
       "      <th>REST_DYNAMIC_CC_1M</th>\n",
       "      <th>TURNOVER_DYNAMIC_CC_1M</th>\n",
       "      <th>REST_DYNAMIC_CC_3M</th>\n",
       "      <th>TURNOVER_DYNAMIC_CC_3M</th>\n",
       "      <th>TARGET</th>\n",
       "    </tr>\n",
       "  </thead>\n",
       "  <tbody>\n",
       "    <tr>\n",
       "      <th>0</th>\n",
       "      <td>146841</td>\n",
       "      <td>0</td>\n",
       "      <td>0.000000</td>\n",
       "      <td>неизвестна</td>\n",
       "      <td>0.0</td>\n",
       "      <td>неизвестна</td>\n",
       "      <td>неизвестна</td>\n",
       "      <td>неизвестна</td>\n",
       "      <td>неизвестна</td>\n",
       "      <td>неизвестна</td>\n",
       "      <td>...</td>\n",
       "      <td>1.593023</td>\n",
       "      <td>0.0</td>\n",
       "      <td>0.0</td>\n",
       "      <td>0.483032</td>\n",
       "      <td>0.406780</td>\n",
       "      <td>0.0</td>\n",
       "      <td>0.0</td>\n",
       "      <td>0.0</td>\n",
       "      <td>0.0</td>\n",
       "      <td>0</td>\n",
       "    </tr>\n",
       "    <tr>\n",
       "      <th>1</th>\n",
       "      <td>146842</td>\n",
       "      <td>0</td>\n",
       "      <td>0.041033</td>\n",
       "      <td>неизвестна</td>\n",
       "      <td>0.0</td>\n",
       "      <td>неизвестна</td>\n",
       "      <td>неизвестна</td>\n",
       "      <td>неизвестна</td>\n",
       "      <td>неизвестна</td>\n",
       "      <td>неизвестна</td>\n",
       "      <td>...</td>\n",
       "      <td>1.587647</td>\n",
       "      <td>0.0</td>\n",
       "      <td>0.0</td>\n",
       "      <td>0.394340</td>\n",
       "      <td>0.545455</td>\n",
       "      <td>0.0</td>\n",
       "      <td>0.0</td>\n",
       "      <td>0.0</td>\n",
       "      <td>0.0</td>\n",
       "      <td>0</td>\n",
       "    </tr>\n",
       "    <tr>\n",
       "      <th>2</th>\n",
       "      <td>146843</td>\n",
       "      <td>0</td>\n",
       "      <td>0.006915</td>\n",
       "      <td>неизвестна</td>\n",
       "      <td>0.0</td>\n",
       "      <td>неизвестна</td>\n",
       "      <td>неизвестна</td>\n",
       "      <td>неизвестна</td>\n",
       "      <td>неизвестна</td>\n",
       "      <td>неизвестна</td>\n",
       "      <td>...</td>\n",
       "      <td>1.587647</td>\n",
       "      <td>0.0</td>\n",
       "      <td>0.0</td>\n",
       "      <td>0.399342</td>\n",
       "      <td>0.297297</td>\n",
       "      <td>0.0</td>\n",
       "      <td>0.0</td>\n",
       "      <td>0.0</td>\n",
       "      <td>0.0</td>\n",
       "      <td>0</td>\n",
       "    </tr>\n",
       "    <tr>\n",
       "      <th>3</th>\n",
       "      <td>146844</td>\n",
       "      <td>0</td>\n",
       "      <td>0.000000</td>\n",
       "      <td>неизвестна</td>\n",
       "      <td>0.0</td>\n",
       "      <td>неизвестна</td>\n",
       "      <td>неизвестна</td>\n",
       "      <td>неизвестна</td>\n",
       "      <td>неизвестна</td>\n",
       "      <td>неизвестна</td>\n",
       "      <td>...</td>\n",
       "      <td>1.583333</td>\n",
       "      <td>0.0</td>\n",
       "      <td>0.0</td>\n",
       "      <td>0.552169</td>\n",
       "      <td>0.558824</td>\n",
       "      <td>0.0</td>\n",
       "      <td>0.0</td>\n",
       "      <td>0.0</td>\n",
       "      <td>0.0</td>\n",
       "      <td>0</td>\n",
       "    </tr>\n",
       "    <tr>\n",
       "      <th>4</th>\n",
       "      <td>146845</td>\n",
       "      <td>0</td>\n",
       "      <td>0.000000</td>\n",
       "      <td>неизвестна</td>\n",
       "      <td>0.0</td>\n",
       "      <td>неизвестна</td>\n",
       "      <td>неизвестна</td>\n",
       "      <td>неизвестна</td>\n",
       "      <td>неизвестна</td>\n",
       "      <td>неизвестна</td>\n",
       "      <td>...</td>\n",
       "      <td>1.583333</td>\n",
       "      <td>0.0</td>\n",
       "      <td>0.0</td>\n",
       "      <td>0.611610</td>\n",
       "      <td>0.620690</td>\n",
       "      <td>0.0</td>\n",
       "      <td>0.0</td>\n",
       "      <td>0.0</td>\n",
       "      <td>0.0</td>\n",
       "      <td>0</td>\n",
       "    </tr>\n",
       "  </tbody>\n",
       "</table>\n",
       "<p>5 rows × 105 columns</p>\n",
       "</div>"
      ],
      "text/plain": [
       "       ID  CR_PROD_CNT_IL  AMOUNT_RUB_CLO_PRC APP_REGISTR_RGN_CODE   \n",
       "0  146841               0            0.000000           неизвестна  \\\n",
       "1  146842               0            0.041033           неизвестна   \n",
       "2  146843               0            0.006915           неизвестна   \n",
       "3  146844               0            0.000000           неизвестна   \n",
       "4  146845               0            0.000000           неизвестна   \n",
       "\n",
       "   TURNOVER_DYNAMIC_IL_1M LDEAL_YQZ_COM_GROUP LDEAL_YQZ_CHRG_GROUP   \n",
       "0                     0.0          неизвестна           неизвестна  \\\n",
       "1                     0.0          неизвестна           неизвестна   \n",
       "2                     0.0          неизвестна           неизвестна   \n",
       "3                     0.0          неизвестна           неизвестна   \n",
       "4                     0.0          неизвестна           неизвестна   \n",
       "\n",
       "  AVG_PCT_MONTH_TO_PCLOSE_GROUP MAX_PCLOSE_DATE_GROUP   \n",
       "0                    неизвестна            неизвестна  \\\n",
       "1                    неизвестна            неизвестна   \n",
       "2                    неизвестна            неизвестна   \n",
       "3                    неизвестна            неизвестна   \n",
       "4                    неизвестна            неизвестна   \n",
       "\n",
       "  AVG_PCT_DEBT_TO_DEAL_AMT_GROUP  ... CLNT_SETUP_TENOR   \n",
       "0                     неизвестна  ...         1.593023  \\\n",
       "1                     неизвестна  ...         1.587647   \n",
       "2                     неизвестна  ...         1.587647   \n",
       "3                     неизвестна  ...         1.583333   \n",
       "4                     неизвестна  ...         1.583333   \n",
       "\n",
       "  TURNOVER_DYNAMIC_PAYM_3M TURNOVER_DYNAMIC_PAYM_1M TRANS_AMOUNT_TENDENCY3M   \n",
       "0                      0.0                      0.0                0.483032  \\\n",
       "1                      0.0                      0.0                0.394340   \n",
       "2                      0.0                      0.0                0.399342   \n",
       "3                      0.0                      0.0                0.552169   \n",
       "4                      0.0                      0.0                0.611610   \n",
       "\n",
       "  TRANS_CNT_TENDENCY3M REST_DYNAMIC_CC_1M TURNOVER_DYNAMIC_CC_1M   \n",
       "0             0.406780                0.0                    0.0  \\\n",
       "1             0.545455                0.0                    0.0   \n",
       "2             0.297297                0.0                    0.0   \n",
       "3             0.558824                0.0                    0.0   \n",
       "4             0.620690                0.0                    0.0   \n",
       "\n",
       "  REST_DYNAMIC_CC_3M TURNOVER_DYNAMIC_CC_3M TARGET  \n",
       "0                0.0                    0.0      0  \n",
       "1                0.0                    0.0      0  \n",
       "2                0.0                    0.0      0  \n",
       "3                0.0                    0.0      0  \n",
       "4                0.0                    0.0      0  \n",
       "\n",
       "[5 rows x 105 columns]"
      ]
     },
     "execution_count": 4,
     "metadata": {},
     "output_type": "execute_result"
    }
   ],
   "source": [
    "df.head(5)"
   ]
  },
  {
   "cell_type": "markdown",
   "metadata": {},
   "source": [
    "### Task 1"
   ]
  },
  {
   "cell_type": "markdown",
   "metadata": {},
   "source": [
    "Колонку **ID** сделаем индексом таблицы"
   ]
  },
  {
   "cell_type": "code",
   "execution_count": 5,
   "metadata": {
    "tags": []
   },
   "outputs": [
    {
     "data": {
      "text/html": [
       "<div>\n",
       "<style scoped>\n",
       "    .dataframe tbody tr th:only-of-type {\n",
       "        vertical-align: middle;\n",
       "    }\n",
       "\n",
       "    .dataframe tbody tr th {\n",
       "        vertical-align: top;\n",
       "    }\n",
       "\n",
       "    .dataframe thead th {\n",
       "        text-align: right;\n",
       "    }\n",
       "</style>\n",
       "<table border=\"1\" class=\"dataframe\">\n",
       "  <thead>\n",
       "    <tr style=\"text-align: right;\">\n",
       "      <th></th>\n",
       "      <th>CR_PROD_CNT_IL</th>\n",
       "      <th>AMOUNT_RUB_CLO_PRC</th>\n",
       "      <th>APP_REGISTR_RGN_CODE</th>\n",
       "      <th>TURNOVER_DYNAMIC_IL_1M</th>\n",
       "      <th>LDEAL_YQZ_COM_GROUP</th>\n",
       "      <th>LDEAL_YQZ_CHRG_GROUP</th>\n",
       "      <th>AVG_PCT_MONTH_TO_PCLOSE_GROUP</th>\n",
       "      <th>MAX_PCLOSE_DATE_GROUP</th>\n",
       "      <th>AVG_PCT_DEBT_TO_DEAL_AMT_GROUP</th>\n",
       "      <th>LDEAL_AMT_MONTH_GROUP</th>\n",
       "      <th>...</th>\n",
       "      <th>CLNT_SETUP_TENOR</th>\n",
       "      <th>TURNOVER_DYNAMIC_PAYM_3M</th>\n",
       "      <th>TURNOVER_DYNAMIC_PAYM_1M</th>\n",
       "      <th>TRANS_AMOUNT_TENDENCY3M</th>\n",
       "      <th>TRANS_CNT_TENDENCY3M</th>\n",
       "      <th>REST_DYNAMIC_CC_1M</th>\n",
       "      <th>TURNOVER_DYNAMIC_CC_1M</th>\n",
       "      <th>REST_DYNAMIC_CC_3M</th>\n",
       "      <th>TURNOVER_DYNAMIC_CC_3M</th>\n",
       "      <th>TARGET</th>\n",
       "    </tr>\n",
       "    <tr>\n",
       "      <th>ID</th>\n",
       "      <th></th>\n",
       "      <th></th>\n",
       "      <th></th>\n",
       "      <th></th>\n",
       "      <th></th>\n",
       "      <th></th>\n",
       "      <th></th>\n",
       "      <th></th>\n",
       "      <th></th>\n",
       "      <th></th>\n",
       "      <th></th>\n",
       "      <th></th>\n",
       "      <th></th>\n",
       "      <th></th>\n",
       "      <th></th>\n",
       "      <th></th>\n",
       "      <th></th>\n",
       "      <th></th>\n",
       "      <th></th>\n",
       "      <th></th>\n",
       "      <th></th>\n",
       "    </tr>\n",
       "  </thead>\n",
       "  <tbody>\n",
       "    <tr>\n",
       "      <th>146841</th>\n",
       "      <td>0</td>\n",
       "      <td>0.000000</td>\n",
       "      <td>неизвестна</td>\n",
       "      <td>0.0</td>\n",
       "      <td>неизвестна</td>\n",
       "      <td>неизвестна</td>\n",
       "      <td>неизвестна</td>\n",
       "      <td>неизвестна</td>\n",
       "      <td>неизвестна</td>\n",
       "      <td>неизвестна</td>\n",
       "      <td>...</td>\n",
       "      <td>1.593023</td>\n",
       "      <td>0.0</td>\n",
       "      <td>0.0</td>\n",
       "      <td>0.483032</td>\n",
       "      <td>0.406780</td>\n",
       "      <td>0.0</td>\n",
       "      <td>0.0</td>\n",
       "      <td>0.0</td>\n",
       "      <td>0.0</td>\n",
       "      <td>0</td>\n",
       "    </tr>\n",
       "    <tr>\n",
       "      <th>146842</th>\n",
       "      <td>0</td>\n",
       "      <td>0.041033</td>\n",
       "      <td>неизвестна</td>\n",
       "      <td>0.0</td>\n",
       "      <td>неизвестна</td>\n",
       "      <td>неизвестна</td>\n",
       "      <td>неизвестна</td>\n",
       "      <td>неизвестна</td>\n",
       "      <td>неизвестна</td>\n",
       "      <td>неизвестна</td>\n",
       "      <td>...</td>\n",
       "      <td>1.587647</td>\n",
       "      <td>0.0</td>\n",
       "      <td>0.0</td>\n",
       "      <td>0.394340</td>\n",
       "      <td>0.545455</td>\n",
       "      <td>0.0</td>\n",
       "      <td>0.0</td>\n",
       "      <td>0.0</td>\n",
       "      <td>0.0</td>\n",
       "      <td>0</td>\n",
       "    </tr>\n",
       "    <tr>\n",
       "      <th>146843</th>\n",
       "      <td>0</td>\n",
       "      <td>0.006915</td>\n",
       "      <td>неизвестна</td>\n",
       "      <td>0.0</td>\n",
       "      <td>неизвестна</td>\n",
       "      <td>неизвестна</td>\n",
       "      <td>неизвестна</td>\n",
       "      <td>неизвестна</td>\n",
       "      <td>неизвестна</td>\n",
       "      <td>неизвестна</td>\n",
       "      <td>...</td>\n",
       "      <td>1.587647</td>\n",
       "      <td>0.0</td>\n",
       "      <td>0.0</td>\n",
       "      <td>0.399342</td>\n",
       "      <td>0.297297</td>\n",
       "      <td>0.0</td>\n",
       "      <td>0.0</td>\n",
       "      <td>0.0</td>\n",
       "      <td>0.0</td>\n",
       "      <td>0</td>\n",
       "    </tr>\n",
       "    <tr>\n",
       "      <th>146844</th>\n",
       "      <td>0</td>\n",
       "      <td>0.000000</td>\n",
       "      <td>неизвестна</td>\n",
       "      <td>0.0</td>\n",
       "      <td>неизвестна</td>\n",
       "      <td>неизвестна</td>\n",
       "      <td>неизвестна</td>\n",
       "      <td>неизвестна</td>\n",
       "      <td>неизвестна</td>\n",
       "      <td>неизвестна</td>\n",
       "      <td>...</td>\n",
       "      <td>1.583333</td>\n",
       "      <td>0.0</td>\n",
       "      <td>0.0</td>\n",
       "      <td>0.552169</td>\n",
       "      <td>0.558824</td>\n",
       "      <td>0.0</td>\n",
       "      <td>0.0</td>\n",
       "      <td>0.0</td>\n",
       "      <td>0.0</td>\n",
       "      <td>0</td>\n",
       "    </tr>\n",
       "    <tr>\n",
       "      <th>146845</th>\n",
       "      <td>0</td>\n",
       "      <td>0.000000</td>\n",
       "      <td>неизвестна</td>\n",
       "      <td>0.0</td>\n",
       "      <td>неизвестна</td>\n",
       "      <td>неизвестна</td>\n",
       "      <td>неизвестна</td>\n",
       "      <td>неизвестна</td>\n",
       "      <td>неизвестна</td>\n",
       "      <td>неизвестна</td>\n",
       "      <td>...</td>\n",
       "      <td>1.583333</td>\n",
       "      <td>0.0</td>\n",
       "      <td>0.0</td>\n",
       "      <td>0.611610</td>\n",
       "      <td>0.620690</td>\n",
       "      <td>0.0</td>\n",
       "      <td>0.0</td>\n",
       "      <td>0.0</td>\n",
       "      <td>0.0</td>\n",
       "      <td>0</td>\n",
       "    </tr>\n",
       "  </tbody>\n",
       "</table>\n",
       "<p>5 rows × 104 columns</p>\n",
       "</div>"
      ],
      "text/plain": [
       "        CR_PROD_CNT_IL  AMOUNT_RUB_CLO_PRC APP_REGISTR_RGN_CODE   \n",
       "ID                                                                \n",
       "146841               0            0.000000           неизвестна  \\\n",
       "146842               0            0.041033           неизвестна   \n",
       "146843               0            0.006915           неизвестна   \n",
       "146844               0            0.000000           неизвестна   \n",
       "146845               0            0.000000           неизвестна   \n",
       "\n",
       "        TURNOVER_DYNAMIC_IL_1M LDEAL_YQZ_COM_GROUP LDEAL_YQZ_CHRG_GROUP   \n",
       "ID                                                                        \n",
       "146841                     0.0          неизвестна           неизвестна  \\\n",
       "146842                     0.0          неизвестна           неизвестна   \n",
       "146843                     0.0          неизвестна           неизвестна   \n",
       "146844                     0.0          неизвестна           неизвестна   \n",
       "146845                     0.0          неизвестна           неизвестна   \n",
       "\n",
       "       AVG_PCT_MONTH_TO_PCLOSE_GROUP MAX_PCLOSE_DATE_GROUP   \n",
       "ID                                                           \n",
       "146841                    неизвестна            неизвестна  \\\n",
       "146842                    неизвестна            неизвестна   \n",
       "146843                    неизвестна            неизвестна   \n",
       "146844                    неизвестна            неизвестна   \n",
       "146845                    неизвестна            неизвестна   \n",
       "\n",
       "       AVG_PCT_DEBT_TO_DEAL_AMT_GROUP LDEAL_AMT_MONTH_GROUP  ...   \n",
       "ID                                                           ...   \n",
       "146841                     неизвестна            неизвестна  ...  \\\n",
       "146842                     неизвестна            неизвестна  ...   \n",
       "146843                     неизвестна            неизвестна  ...   \n",
       "146844                     неизвестна            неизвестна  ...   \n",
       "146845                     неизвестна            неизвестна  ...   \n",
       "\n",
       "       CLNT_SETUP_TENOR TURNOVER_DYNAMIC_PAYM_3M TURNOVER_DYNAMIC_PAYM_1M   \n",
       "ID                                                                          \n",
       "146841         1.593023                      0.0                      0.0  \\\n",
       "146842         1.587647                      0.0                      0.0   \n",
       "146843         1.587647                      0.0                      0.0   \n",
       "146844         1.583333                      0.0                      0.0   \n",
       "146845         1.583333                      0.0                      0.0   \n",
       "\n",
       "       TRANS_AMOUNT_TENDENCY3M TRANS_CNT_TENDENCY3M REST_DYNAMIC_CC_1M   \n",
       "ID                                                                       \n",
       "146841                0.483032             0.406780                0.0  \\\n",
       "146842                0.394340             0.545455                0.0   \n",
       "146843                0.399342             0.297297                0.0   \n",
       "146844                0.552169             0.558824                0.0   \n",
       "146845                0.611610             0.620690                0.0   \n",
       "\n",
       "       TURNOVER_DYNAMIC_CC_1M REST_DYNAMIC_CC_3M TURNOVER_DYNAMIC_CC_3M TARGET  \n",
       "ID                                                                              \n",
       "146841                    0.0                0.0                    0.0      0  \n",
       "146842                    0.0                0.0                    0.0      0  \n",
       "146843                    0.0                0.0                    0.0      0  \n",
       "146844                    0.0                0.0                    0.0      0  \n",
       "146845                    0.0                0.0                    0.0      0  \n",
       "\n",
       "[5 rows x 104 columns]"
      ]
     },
     "execution_count": 5,
     "metadata": {},
     "output_type": "execute_result"
    }
   ],
   "source": [
    "df.set_index('ID', inplace=True)\n",
    "df.head()"
   ]
  },
  {
   "cell_type": "markdown",
   "metadata": {},
   "source": [
    "### Task 2"
   ]
  },
  {
   "cell_type": "markdown",
   "metadata": {},
   "source": [
    "Признаки сохраним в переменную `X`. Целевую переменную **'TARGET'**, которую мы будем предсказывать, в переменную `Y` \\\n",
    "Выведем размерность этих таблиц"
   ]
  },
  {
   "cell_type": "code",
   "execution_count": 6,
   "metadata": {},
   "outputs": [
    {
     "name": "stdout",
     "output_type": "stream",
     "text": [
      "X - (355190, 103)\n",
      "Y - (355190, 1)\n"
     ]
    }
   ],
   "source": [
    "X = df.drop('TARGET', axis = 1) # признаки\n",
    "Y = df['TARGET'] # целевая переменная \n",
    "Y = pd.DataFrame(Y) # преобразуем в датасет целевую переменную\n",
    "\n",
    "print('X -', X.shape)\n",
    "print('Y -', Y.shape)"
   ]
  },
  {
   "cell_type": "markdown",
   "metadata": {},
   "source": [
    "### Task 3"
   ]
  },
  {
   "cell_type": "markdown",
   "metadata": {},
   "source": [
    "Признаки содержат в себе как количественные, так и категориальные переменные \\\n",
    "Категориальные переменные сохрани в переменную `X_cat`, а количественные в `X_num` \\\n",
    "Выведем число категориальных и количественные переменных"
   ]
  },
  {
   "cell_type": "code",
   "execution_count": 7,
   "metadata": {},
   "outputs": [
    {
     "name": "stdout",
     "output_type": "stream",
     "text": [
      "Число категориальных переменных - 56\n",
      "Число количественные переменных - 47\n"
     ]
    }
   ],
   "source": [
    "X_cat=X.select_dtypes(include=['object']) # категориальные\n",
    "X_num=X.select_dtypes(include=['int', 'float']) # количественные\n",
    "\n",
    "print('Число категориальных переменных -', len(X_cat.columns))\n",
    "print('Число количественные переменных -', len(X_num.columns))"
   ]
  },
  {
   "cell_type": "markdown",
   "metadata": {},
   "source": [
    "### Task 4"
   ]
  },
  {
   "cell_type": "markdown",
   "metadata": {},
   "source": [
    "Предобработка количественныех переменных. Проведём стандартизацию для признаков `X_num` \\\n",
    "Выведем среднее и стандартное отклонение по датасету для каждого признака после стандартизации"
   ]
  },
  {
   "cell_type": "code",
   "execution_count": 8,
   "metadata": {},
   "outputs": [
    {
     "name": "stdout",
     "output_type": "stream",
     "text": [
      "Среднее отклонение после стандартизации\n",
      " CR_PROD_CNT_IL              0.0\n",
      "AMOUNT_RUB_CLO_PRC          0.0\n",
      "TURNOVER_DYNAMIC_IL_1M     -0.0\n",
      "AMOUNT_RUB_SUP_PRC          0.0\n",
      "REST_DYNAMIC_FDEP_1M        0.0\n",
      "REST_DYNAMIC_SAVE_3M       -0.0\n",
      "CR_PROD_CNT_VCU            -0.0\n",
      "REST_AVG_CUR               -0.0\n",
      "AMOUNT_RUB_NAS_PRC          0.0\n",
      "TRANS_COUNT_SUP_PRC        -0.0\n",
      "TRANS_COUNT_NAS_PRC         0.0\n",
      "CR_PROD_CNT_TOVR           -0.0\n",
      "CR_PROD_CNT_PIL            -0.0\n",
      "TURNOVER_CC                 0.0\n",
      "TRANS_COUNT_ATM_PRC         0.0\n",
      "AMOUNT_RUB_ATM_PRC          0.0\n",
      "TURNOVER_PAYM              -0.0\n",
      "AGE                         0.0\n",
      "CR_PROD_CNT_CC              0.0\n",
      "REST_DYNAMIC_FDEP_3M       -0.0\n",
      "REST_DYNAMIC_IL_1M          0.0\n",
      "CR_PROD_CNT_CCFP            0.0\n",
      "REST_DYNAMIC_CUR_1M        -0.0\n",
      "REST_AVG_PAYM              -0.0\n",
      "LDEAL_GRACE_DAYS_PCT_MED   -0.0\n",
      "REST_DYNAMIC_CUR_3M         0.0\n",
      "CNT_TRAN_SUP_TENDENCY3M     0.0\n",
      "TURNOVER_DYNAMIC_CUR_1M    -0.0\n",
      "REST_DYNAMIC_PAYM_3M        0.0\n",
      "SUM_TRAN_SUP_TENDENCY3M     0.0\n",
      "REST_DYNAMIC_IL_3M          0.0\n",
      "CNT_TRAN_ATM_TENDENCY3M     0.0\n",
      "CNT_TRAN_ATM_TENDENCY1M    -0.0\n",
      "TURNOVER_DYNAMIC_IL_3M     -0.0\n",
      "SUM_TRAN_ATM_TENDENCY3M    -0.0\n",
      "SUM_TRAN_ATM_TENDENCY1M    -0.0\n",
      "REST_DYNAMIC_PAYM_1M       -0.0\n",
      "TURNOVER_DYNAMIC_CUR_3M    -0.0\n",
      "CLNT_SETUP_TENOR           -0.0\n",
      "TURNOVER_DYNAMIC_PAYM_3M   -0.0\n",
      "TURNOVER_DYNAMIC_PAYM_1M   -0.0\n",
      "TRANS_AMOUNT_TENDENCY3M    -0.0\n",
      "TRANS_CNT_TENDENCY3M       -0.0\n",
      "REST_DYNAMIC_CC_1M         -0.0\n",
      "TURNOVER_DYNAMIC_CC_1M     -0.0\n",
      "REST_DYNAMIC_CC_3M          0.0\n",
      "TURNOVER_DYNAMIC_CC_3M      0.0\n",
      "dtype: float64 \n",
      "Стандартное отклонение после стандартизации\n",
      " CR_PROD_CNT_IL              1.0\n",
      "AMOUNT_RUB_CLO_PRC          1.0\n",
      "TURNOVER_DYNAMIC_IL_1M      1.0\n",
      "AMOUNT_RUB_SUP_PRC          1.0\n",
      "REST_DYNAMIC_FDEP_1M        1.0\n",
      "REST_DYNAMIC_SAVE_3M        1.0\n",
      "CR_PROD_CNT_VCU             1.0\n",
      "REST_AVG_CUR                1.0\n",
      "AMOUNT_RUB_NAS_PRC          1.0\n",
      "TRANS_COUNT_SUP_PRC         1.0\n",
      "TRANS_COUNT_NAS_PRC         1.0\n",
      "CR_PROD_CNT_TOVR            1.0\n",
      "CR_PROD_CNT_PIL             1.0\n",
      "TURNOVER_CC                 1.0\n",
      "TRANS_COUNT_ATM_PRC         1.0\n",
      "AMOUNT_RUB_ATM_PRC          1.0\n",
      "TURNOVER_PAYM               1.0\n",
      "AGE                         1.0\n",
      "CR_PROD_CNT_CC              1.0\n",
      "REST_DYNAMIC_FDEP_3M        1.0\n",
      "REST_DYNAMIC_IL_1M          1.0\n",
      "CR_PROD_CNT_CCFP            1.0\n",
      "REST_DYNAMIC_CUR_1M         1.0\n",
      "REST_AVG_PAYM               1.0\n",
      "LDEAL_GRACE_DAYS_PCT_MED    1.0\n",
      "REST_DYNAMIC_CUR_3M         1.0\n",
      "CNT_TRAN_SUP_TENDENCY3M     1.0\n",
      "TURNOVER_DYNAMIC_CUR_1M     1.0\n",
      "REST_DYNAMIC_PAYM_3M        1.0\n",
      "SUM_TRAN_SUP_TENDENCY3M     1.0\n",
      "REST_DYNAMIC_IL_3M          1.0\n",
      "CNT_TRAN_ATM_TENDENCY3M     1.0\n",
      "CNT_TRAN_ATM_TENDENCY1M     1.0\n",
      "TURNOVER_DYNAMIC_IL_3M      1.0\n",
      "SUM_TRAN_ATM_TENDENCY3M     1.0\n",
      "SUM_TRAN_ATM_TENDENCY1M     1.0\n",
      "REST_DYNAMIC_PAYM_1M        1.0\n",
      "TURNOVER_DYNAMIC_CUR_3M     1.0\n",
      "CLNT_SETUP_TENOR            1.0\n",
      "TURNOVER_DYNAMIC_PAYM_3M    1.0\n",
      "TURNOVER_DYNAMIC_PAYM_1M    1.0\n",
      "TRANS_AMOUNT_TENDENCY3M     1.0\n",
      "TRANS_CNT_TENDENCY3M        1.0\n",
      "REST_DYNAMIC_CC_1M          1.0\n",
      "TURNOVER_DYNAMIC_CC_1M      1.0\n",
      "REST_DYNAMIC_CC_3M          1.0\n",
      "TURNOVER_DYNAMIC_CC_3M      1.0\n",
      "dtype: float64\n"
     ]
    }
   ],
   "source": [
    "from sklearn.preprocessing import StandardScaler\n",
    "\n",
    "scaler = StandardScaler()\n",
    "#X_num.head(5)\n",
    "X_num_scal = scaler.fit_transform(X_num) # стандартизация\n",
    "X_num_scal_df = pd.DataFrame(X_num_scal, columns = X_num.columns) # преобразуем в датасет после стандартизации\n",
    "#X_num_scal_df.head(5)\n",
    "X_num_scal_df_mean = round(X_num_scal_df.mean(), 2) # среднее отклонение\n",
    "X_num_scal_df_std = round(X_num_scal_df.std(), 2) # стандартное отклонение\n",
    "print('Среднее отклонение после стандартизации\\n', X_num_scal_df_mean, '\\nСтандартное отклонение после стандартизации\\n', X_num_scal_df_std)"
   ]
  },
  {
   "cell_type": "markdown",
   "metadata": {},
   "source": [
    "### Task 5"
   ]
  },
  {
   "cell_type": "markdown",
   "metadata": {},
   "source": [
    "Трансформируем категориальными признаками с помощью *One-Hot Encoding*, т.к. алгоритм машинного обучения плохо работает с категориальными признаками \\\n",
    "Удали признак *CLNT_JOB_POSITION*, т.к. у него слишком много значений \\\n",
    "Выведем количество колонок таблицы `X_cat_ohe`"
   ]
  },
  {
   "cell_type": "code",
   "execution_count": 9,
   "metadata": {},
   "outputs": [
    {
     "name": "stdout",
     "output_type": "stream",
     "text": [
      "Количество колонок таблицы X_cat_ohe - 323\n"
     ]
    }
   ],
   "source": [
    "from sklearn.preprocessing import OneHotEncoder\n",
    "\n",
    "X_cat_1 = X_cat.drop(columns='CLNT_JOB_POSITION')\n",
    "#X_cat.shape\n",
    "ohe = OneHotEncoder(sparse_output = False, handle_unknown='ignore')\n",
    "X_cat_ohe = ohe.fit_transform(X_cat_1) # трансформируем категориальные признаки в числовые\n",
    "X_cat_ohe = pd.DataFrame(X_cat_ohe, columns = ohe.get_feature_names_out()) # преобразуем в датасет после трансформации и создаём имена новым колонкам\n",
    "\n",
    "print('Количество колонок таблицы X_cat_ohe -', len(X_cat_ohe.columns))\n",
    "#X_cat_ohe"
   ]
  },
  {
   "cell_type": "markdown",
   "metadata": {},
   "source": [
    "### Task 6"
   ]
  },
  {
   "cell_type": "markdown",
   "metadata": {},
   "source": [
    "Два предобработанных датасета объединим в один. Результат запиши в переменную `X_ready`. Датасет сохраняем в папку *datasets/data_prepared.csv* \\\n",
    "Получившийся датасет делим на **train** и **test**. Процент тестовой выборки 20% \\\n",
    "Выведем размерность обучающей выборки `X_train`\n"
   ]
  },
  {
   "cell_type": "code",
   "execution_count": 10,
   "metadata": {},
   "outputs": [
    {
     "name": "stdout",
     "output_type": "stream",
     "text": [
      "Размерность обучающей выборки X_train - (284152, 370)\n"
     ]
    }
   ],
   "source": [
    "X_ready = pd.concat([X_cat_ohe, X_num_scal_df], axis=1) # объединяем датасеты с преобразоваными количественными и категориальными переменными\n",
    "#X_ready.shape\n",
    "\n",
    "X_ready.to_csv('../datasets/data_prepared.csv', index= False) # сохраняем датасет datasets/data_prepared.csv\n",
    "\n",
    "from sklearn.model_selection import train_test_split\n",
    "X_train, X_test, Y_train, Y_test = train_test_split(X_ready, Y, test_size=0.2, random_state=21) # делим X_ready и Y на тестовую и обучающую выборки\n",
    "print('Размерность обучающей выборки X_train -', X_train.shape)"
   ]
  },
  {
   "cell_type": "markdown",
   "metadata": {},
   "source": [
    "### Task 7"
   ]
  },
  {
   "cell_type": "markdown",
   "metadata": {},
   "source": [
    "Обучаем логистическую регрессию \\\n",
    "Посчитаем `accuracy` модели на тестовой выборке, сравним предсказанные значения с реальными"
   ]
  },
  {
   "cell_type": "code",
   "execution_count": 11,
   "metadata": {},
   "outputs": [
    {
     "name": "stdout",
     "output_type": "stream",
     "text": [
      "Значение accuracy - 0.9197331005940482\n"
     ]
    }
   ],
   "source": [
    "from sklearn.linear_model import LogisticRegression\n",
    "\n",
    "log_reg = LogisticRegression(solver='liblinear', fit_intercept=False, penalty='l1', random_state=21) # объявляем модель\n",
    "log_reg.fit(X_train, Y_train.values.ravel()) # обучаем модель\n",
    "Y_pred = log_reg.predict(X_test) # получаем предсказаные значения\n",
    "\n",
    "from sklearn import metrics\n",
    "accuracy = metrics.accuracy_score (Y_test, Y_pred) # cравниваем тестовые значения с предсказаными, т.е. точность предсказаний\n",
    "print('Значение accuracy -', accuracy)"
   ]
  },
  {
   "cell_type": "markdown",
   "metadata": {},
   "source": [
    "### Task 8"
   ]
  },
  {
   "cell_type": "markdown",
   "metadata": {},
   "source": [
    "Посчитаем процент клиентов в тестовой выборке, у которых индикатор оттока равен 0, и сравним с `accuracy`"
   ]
  },
  {
   "cell_type": "code",
   "execution_count": 12,
   "metadata": {},
   "outputs": [
    {
     "name": "stdout",
     "output_type": "stream",
     "text": [
      "Процент клиентов, у которых индикатор оттока равен 0 - 91.96064078380584\n"
     ]
    }
   ],
   "source": [
    "pr_clt_0indicator = Y_test.value_counts()[0]/len(Y_test)*100\n",
    "print('Процент клиентов, у которых индикатор оттока равен 0 -', pr_clt_0indicator)"
   ]
  },
  {
   "cell_type": "markdown",
   "metadata": {},
   "source": [
    "### Task 9"
   ]
  },
  {
   "cell_type": "markdown",
   "metadata": {},
   "source": [
    "Построим график,  топ-10 самых важных факторов по мнению модели в абсолютном значении с помощью функции **feature_importanse**"
   ]
  },
  {
   "cell_type": "code",
   "execution_count": 13,
   "metadata": {},
   "outputs": [
    {
     "data": {
      "image/png": "[encoded data removed]",
      "text/plain": [
       "<Figure size 1200x500 with 1 Axes>"
      ]
     },
     "metadata": {},
     "output_type": "display_data"
    }
   ],
   "source": [
    "def f_importances(weights, names, top=-1):\n",
    "    weights, names = zip(*sorted(list(zip(weights, names))))\n",
    "\n",
    "    # Show all features\n",
    "    if top == -1:\n",
    "        top = len(names)\n",
    "    plt.figure(figsize=(12, 5))\n",
    "    plt.barh(range(top), weights[::-1][0:top], align='center')\n",
    "    plt.yticks(range(top), names[::-1][0:top])\n",
    "    plt.show()\n",
    "\n",
    "coeffic = log_reg.coef_[0] # коэфициент модели\n",
    "absolute = np.abs(coeffic) # абсолютные значения коэффициентов\n",
    "\n",
    "f_importances(absolute, X_ready.columns, top=10)"
   ]
  },
  {
   "cell_type": "code",
   "execution_count": null,
   "metadata": {},
   "outputs": [],
   "source": []
  }
 ],
 "metadata": {
  "colab": {
   "collapsed_sections": [
    "KPtcdkJ3Pc4I"
   ],
   "name": "d02_task.ipynb",
   "provenance": []
  },
  "kernelspec": {
   "display_name": "Python 3 (ipykernel)",
   "language": "python",
   "name": "python3"
  },
  "language_info": {
   "codemirror_mode": {
    "name": "ipython",
    "version": 3
   },
   "file_extension": ".py",
   "mimetype": "text/x-python",
   "name": "python",
   "nbconvert_exporter": "python",
   "pygments_lexer": "ipython3",
   "version": "3.11.3"
  }
 },
 "nbformat": 4,
 "nbformat_minor": 4
}
