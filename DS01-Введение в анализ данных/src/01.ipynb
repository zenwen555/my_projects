{
 "cells": [
  {
   "cell_type": "markdown",
   "id": "fffcbb2c-4423-4f1c-bc90-e1ac7fbaa456",
   "metadata": {},
   "source": [
    "# Введение в анализ данных"
   ]
  },
  {
   "cell_type": "markdown",
   "id": "c2d747fe-7b74-43e0-95b3-16525e9846ac",
   "metadata": {},
   "source": [
    "### Task 1"
   ]
  },
  {
   "cell_type": "markdown",
   "id": "2e2f1076-fd27-4222-95e9-d3b7ff8ff36a",
   "metadata": {},
   "source": [
    "Код, который будет решать квадратное уравнение вида\n",
    "$ ax^2 + bx + c = 0, a\\neq0$. \\\n",
    "Для этого понадобится найти дискриминант. Его формула $ D = b^2 − 4ac $"
   ]
  },
  {
   "cell_type": "markdown",
   "id": "20bf557b-21f9-46fa-b8db-76b7a96526f4",
   "metadata": {},
   "source": [
    "Формулу нахождения корней квадратного уравнения на языке LaTeX\n",
    "\n",
    "Если $ D < 0 $ , то уравнение не имеет корней: None\n",
    "\n",
    "Если $ D = 0 $ , то уравнение имеет корень: $ x = \\frac{-d}{2a} $\n",
    "\n",
    "Если $ D > 0 $ , то уравнение имеет корни: $ x_1 = \\frac{-b + \\sqrt{D}}{2a} $ и $ x_2 = \\frac{-b - \\sqrt{D}}{2a} $\n",
    " "
   ]
  },
  {
   "cell_type": "markdown",
   "id": "c78b058d-777d-4369-b86d-0c0fc013eba9",
   "metadata": {},
   "source": [
    "- Функция принимает на вход коэффициент a, b, c.\n",
    "- Функция должна возвращать список корней уравнения. \n",
    "- Если корней у уравнения нет, то функция должна вернуть None"
   ]
  },
  {
   "cell_type": "code",
   "execution_count": 1,
   "id": "03b8b371-870b-42cc-8f53-1e8596406894",
   "metadata": {},
   "outputs": [
    {
     "name": "stdout",
     "output_type": "stream",
     "text": [
      "[2.850781059358212, -0.35078105935821213]\n",
      "[-1.0]\n",
      "None\n"
     ]
    }
   ],
   "source": [
    "def quadratic_equation(a, b, c):\n",
    "    d = b * b - 4 * a * c\n",
    "    if d < 0:\n",
    "        return None\n",
    "    elif d == 0:\n",
    "        x = (-b) / (2 * a)\n",
    "        return [x]\n",
    "    else:\n",
    "        x1 = (-b + d ** 0.5) / (2 * a)\n",
    "        x2 = (-b - d ** 0.5) / (2 * a)\n",
    "        return [x1, x2]\n",
    "    \n",
    "print (quadratic_equation(2, -5, -2))\n",
    "print (quadratic_equation(1, 2, 1))\n",
    "print (quadratic_equation(2, 2, 2))"
   ]
  },
  {
   "cell_type": "markdown",
   "id": "a8541146-f127-4482-b067-279d50975dac",
   "metadata": {},
   "source": [
    "### Task 2"
   ]
  },
  {
   "cell_type": "markdown",
   "id": "816c48be-0963-4bd6-bd86-c8172eb8968e",
   "metadata": {},
   "source": [
    "Функция, которая на вход принимает cписок случайных чисел, а возвращает уже отсортированный методом Пузырька по возрастанию."
   ]
  },
  {
   "cell_type": "code",
   "execution_count": 2,
   "id": "dca04582-c143-45e5-aad5-9cfd550746f4",
   "metadata": {
    "tags": []
   },
   "outputs": [
    {
     "name": "stdout",
     "output_type": "stream",
     "text": [
      "[0, 3, 12, 21, 23, 34, 35, 36, 37, 38, 40, 45, 56, 70, 72, 73, 83, 84, 87, 89]\n"
     ]
    }
   ],
   "source": [
    "import random\n",
    "\n",
    "def bubble_sort(lst):\n",
    "    for i in range(len(lst)-1): \n",
    "        for j in range(len(lst)-1): \n",
    "            if(lst[j] > lst[j+1]): \n",
    "                lst[j], lst[j+1] = lst[j+1], lst[j]\n",
    "    return lst \n",
    "\n",
    "m = random.sample(range(0, 100), 20)\n",
    "print (bubble_sort(m))"
   ]
  },
  {
   "cell_type": "markdown",
   "id": "0026496c-03a8-4fcc-907b-dfb8f3fc0efb",
   "metadata": {},
   "source": [
    "### Task 3"
   ]
  },
  {
   "cell_type": "markdown",
   "id": "688251be-39a3-49ed-9993-a5f9b39f430d",
   "metadata": {},
   "source": [
    "Самое часто встречающееся слово в романе \"Война и Мир\" без учета:\n",
    "   * пунктуации\n",
    "   * слов короче четырех символов \n",
    "   * 'Стоп-слов', которые приведены в файле в stop_words_russian.txt"
   ]
  },
  {
   "cell_type": "code",
   "execution_count": 4,
   "id": "94501d71-ee88-4f78-808d-20e79a5f3707",
   "metadata": {},
   "outputs": [
    {
     "name": "stdout",
     "output_type": "stream",
     "text": [
      "[('пьер', 1401)]\n"
     ]
    }
   ],
   "source": [
    "import string\n",
    "from collections import Counter\n",
    "\n",
    "with open('../datasets/war_and_peace.txt', encoding='utf-8') as book1:\n",
    "    #читаем, приводим к нижнему регистру, убираем пунктуацию, делим строку на подстроки\n",
    "    war_and_peace=book1.read().lower().translate(str.maketrans('', '', string.punctuation)).split()\n",
    "with open('../datasets/stop_words_russian.txt', encoding='utf-8') as stop1:\n",
    "    stop_words=stop1.read().split()\n",
    "#убираем слова меньше 4 и стоп-лист\n",
    "war_and_peace=[wd for wd in war_and_peace if len(wd)>=4 and wd not in stop_words]\n",
    "freq = Counter(war_and_peace)\n",
    "\n",
    "print(freq.most_common(1))"
   ]
  },
  {
   "cell_type": "markdown",
   "id": "d4b6f922-7a22-4b38-8529-c92994edd38c",
   "metadata": {},
   "source": [
    "### Task 4"
   ]
  },
  {
   "cell_type": "markdown",
   "id": "c2cef602-ab87-47f8-ab2c-e323442b62f7",
   "metadata": {},
   "source": [
    "Функция для расчета числа Фибоначчи с использованием рекурсивной функции."
   ]
  },
  {
   "cell_type": "code",
   "execution_count": 6,
   "id": "ec1c1860-774d-4583-a44b-bdc30492eead",
   "metadata": {},
   "outputs": [
    {
     "name": "stdout",
     "output_type": "stream",
     "text": [
      "144\n"
     ]
    }
   ],
   "source": [
    "def fib(n):\n",
    "    if n <= 1:\n",
    "        return n\n",
    "    else:\n",
    "        return (fib(n-1) + fib(n-2))\n",
    "    \n",
    "print(fib(12))"
   ]
  },
  {
   "cell_type": "markdown",
   "id": "1acc3069-4b1a-4a5c-98e4-055731203d2d",
   "metadata": {},
   "source": [
    "### Task 5"
   ]
  },
  {
   "cell_type": "markdown",
   "id": "944e804e-fb40-4ea2-b931-38b595d3c262",
   "metadata": {},
   "source": [
    "Функция перевода валюты в рубли."
   ]
  },
  {
   "cell_type": "code",
   "execution_count": 7,
   "id": "12f3bcfb-4fc7-475f-8ebe-3b57511ab97d",
   "metadata": {
    "tags": []
   },
   "outputs": [
    {
     "name": "stdout",
     "output_type": "stream",
     "text": [
      "12206.53445\n",
      "36470.60452\n",
      "68132.94690000001\n"
     ]
    }
   ],
   "source": [
    "import requests\n",
    "\n",
    "def convert2RU(currency, value):\n",
    "    curr = requests.get('https://www.cbr-xml-daily.ru/daily_json.js').json()\n",
    "    if currency in curr[\"Valute\"]:\n",
    "        return curr[\"Valute\"][currency][\"Value\"] * value\n",
    "    \n",
    "print(convert2RU(\"GBP\", 123.1))\n",
    "print(convert2RU(\"USD\", 456.4))\n",
    "print(convert2RU(\"EUR\", 789.7))"
   ]
  }
 ],
 "metadata": {
  "kernelspec": {
   "display_name": "Python 3 (ipykernel)",
   "language": "python",
   "name": "python3"
  },
  "language_info": {
   "codemirror_mode": {
    "name": "ipython",
    "version": 3
   },
   "file_extension": ".py",
   "mimetype": "text/x-python",
   "name": "python",
   "nbconvert_exporter": "python",
   "pygments_lexer": "ipython3",
   "version": "3.11.3"
  }
 },
 "nbformat": 4,
 "nbformat_minor": 5
}
