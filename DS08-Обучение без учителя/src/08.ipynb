{
 "cells": [
  {
   "cell_type": "markdown",
   "id": "371010e9-2aa2-4315-9f96-491c8d28d0b6",
   "metadata": {},
   "source": [
    "# Обучение без учителя"
   ]
  },
  {
   "cell_type": "code",
   "execution_count": 15,
   "id": "7c143ef3-357c-4be1-85c5-13b8ca3eba6f",
   "metadata": {
    "ExecuteTime": {
     "end_time": "2023-07-21T19:21:59.742279200Z",
     "start_time": "2023-07-21T19:21:59.603992600Z"
    },
    "tags": []
   },
   "outputs": [],
   "source": [
    "import numpy as np\n",
    "import pandas as pd"
   ]
  },
  {
   "cell_type": "markdown",
   "id": "0bf2c419-407b-4663-9c56-3a2a73b3240b",
   "metadata": {},
   "source": [
    "### Task 1"
   ]
  },
  {
   "cell_type": "markdown",
   "id": "75b9b5d0-aaf4-4fb1-a9b0-d548e2b92bf3",
   "metadata": {},
   "source": [
    "Данные о посещениях заведений, о регистрации пользователя в заведениях, о геолокации заведений [здесь](https://files.sberdisk.ru/s/cW1tzZwkejcCvTP) \\\n",
    "Очистим данные от пустых записей и выведем количество записей после очистки"
   ]
  },
  {
   "cell_type": "code",
   "execution_count": 16,
   "id": "7436c194-ad3d-4165-a043-33bb11eb51bf",
   "metadata": {
    "ExecuteTime": {
     "end_time": "2023-07-21T19:22:02.688678500Z",
     "start_time": "2023-07-21T19:21:59.636757400Z"
    },
    "tags": []
   },
   "outputs": [
    {
     "name": "stdout",
     "output_type": "stream",
     "text": [
      "Количество записей после очистки - 396634\n"
     ]
    }
   ],
   "source": [
    "df_visit = pd.read_csv('../datasets/checkins.dat', sep='|', skipinitialspace=True, na_values=' ', low_memory=False)\n",
    "                                            # разделитель | и пробелы после | убрали, пустые значения заменили на NAN\n",
    "df_visit.columns = df_visit.columns.str.strip()  # удалили пробелы в названии столбцов\n",
    "#df_visit.columns\n",
    "df_visit.dropna(inplace=True) # убрали пустые строки\n",
    "print('Количество записей после очистки -', df_visit.shape[0])\n",
    "#df_visit"
   ]
  },
  {
   "cell_type": "markdown",
   "id": "e8752027-47e6-47f0-9bba-144fba13ef11",
   "metadata": {},
   "source": [
    "### Task 2"
   ]
  },
  {
   "cell_type": "markdown",
   "id": "f104cf4e-eeb1-4cc3-af59-f400050f1541",
   "metadata": {},
   "source": [
    "Данные содержат записи о заведениях во всём мире. С помощью геолокаций и библиотеки *Reverse Geocoder*, создадим столбец с названием страны для каждой геопозиции \\\n",
    "Выведем **Название второй страны по количеству записей**"
   ]
  },
  {
   "cell_type": "code",
   "execution_count": 17,
   "id": "fcac0562-4d3e-4bfb-b3c8-354c20f7bc5f",
   "metadata": {
    "ExecuteTime": {
     "end_time": "2023-07-21T19:22:03.936789800Z",
     "start_time": "2023-07-21T19:22:02.688678500Z"
    }
   },
   "outputs": [
    {
     "name": "stdout",
     "output_type": "stream",
     "text": [
      "Название второй страны по количеству записей: Indonesia\n"
     ]
    }
   ],
   "source": [
    "import reverse_geocoder as rg\n",
    "import pycountry\n",
    "\n",
    "coordinates = list(zip(df_visit['latitude'], df_visit['longitude'])) # список кортежей (широта, долгота)\n",
    "#coordinates\n",
    "results =  rg.search(coordinates) # список локаций, название стран по ключу 'cc'\n",
    "#results\n",
    "df_visit['country'] = [country['cc'] for country in results] # добавляем колонку с названием страны в df_visit\n",
    "#df_visit\n",
    "\n",
    "country_val = df_visit['country'].value_counts() # серия упорядоченная по количеству упоминаний страны в столбце 'country'\n",
    "#country_val\n",
    "print('Название второй страны по количеству записей:', pycountry.countries.get(alpha_2=country_val.index[1]).name)"
   ]
  },
  {
   "cell_type": "markdown",
   "id": "a7769b9b-67ab-4e12-b097-97bffcdea5aa",
   "metadata": {},
   "source": [
    "### Task 3"
   ]
  },
  {
   "cell_type": "markdown",
   "id": "085620a7-1d14-4b40-a879-3665c6bfd9b8",
   "metadata": {},
   "source": [
    "Далее работаем с американскими геолокациями \\\n",
    "Чтобы уменьшить количество геолокаций, оставим 50 самых часто встречаеющихся заведений **venue** \\\n",
    "Выведем количество записей, оставшихся после очисток"
   ]
  },
  {
   "cell_type": "code",
   "execution_count": 18,
   "id": "6c518747-725a-48ed-b390-bc3c15977297",
   "metadata": {
    "ExecuteTime": {
     "end_time": "2023-07-21T19:22:04.090372400Z",
     "start_time": "2023-07-21T19:22:03.936789800Z"
    }
   },
   "outputs": [
    {
     "name": "stdout",
     "output_type": "stream",
     "text": [
      "Количество оставшихся локаций - 162099\n"
     ]
    }
   ],
   "source": [
    "df_us = df_visit[df_visit['country']==\"US\"] # отсортировываем только локации US\n",
    "#df_us\n",
    "us_50 = df_us['venue_id'].value_counts().head(50) # 50 самых часто встречаемых заведений \n",
    "df_us_50 = df_us[df_us['venue_id'].isin(us_50.index)] # отсортировываем df_us по заведениям из us_50\n",
    "\n",
    "print('Количество оставшихся локаций -', df_us_50.shape[0])"
   ]
  },
  {
   "cell_type": "markdown",
   "id": "63857f92-61aa-49e9-b503-ffdcb3cf24c2",
   "metadata": {},
   "source": [
    "### Task 4"
   ]
  },
  {
   "cell_type": "markdown",
   "id": "ff9ef0df-98c9-41b9-b4a6-bbd6ec51ff68",
   "metadata": {},
   "source": [
    "Задача кластеризации \\\n",
    "Используем алгоритм метода *Mean Shift* из модуля *sklearn.cluster* для кластеризации локаций \\\n",
    "Выведем количество кластеров, полученных в результате кластеризации"
   ]
  },
  {
   "cell_type": "code",
   "execution_count": 19,
   "id": "f1f1302b-fe64-49d4-bdc7-7bd547d5dd6a",
   "metadata": {
    "ExecuteTime": {
     "end_time": "2023-07-21T19:22:12.906974300Z",
     "start_time": "2023-07-21T19:22:04.097035700Z"
    }
   },
   "outputs": [
    {
     "name": "stdout",
     "output_type": "stream",
     "text": [
      "Количество кластеров - 2846\n"
     ]
    }
   ],
   "source": [
    "from sklearn.cluster import MeanShift\n",
    "\n",
    "ms = MeanShift(bandwidth=0.1, bin_seeding=True) # кластеризация Mean Shift\n",
    "ms = ms.fit(df_us_50[['latitude', 'longitude']]) # используем кластеризацию для локаций из df_us_50\n",
    "ms_center = ms.cluster_centers_ # центры кластеров\n",
    "#ms_center\n",
    "\n",
    "print('Количество кластеров -', ms_center.shape[0])"
   ]
  },
  {
   "cell_type": "markdown",
   "id": "5527ab7b-7cc4-496d-af6c-36ad3f1bcb54",
   "metadata": {},
   "source": [
    "### Task 5"
   ]
  },
  {
   "cell_type": "markdown",
   "id": "7c7ece37-8a85-4977-9390-b17787e8c9d6",
   "metadata": {},
   "source": [
    "Найдём места для установки банеров - это центры кластеров, которые ближе всего расположены к офисам продаж компании и для каждого офиса найдём 5 самых ближайших к нему центров кластеров \\\n",
    "В компании 11 офисов, т.е. получится 55 мест для установки банеров \\\n",
    "Выведем координаты банера, ближайшего к офису компании"
   ]
  },
  {
   "cell_type": "code",
   "execution_count": 20,
   "id": "d2c8ad48-240e-4fab-8699-9c6aa1829700",
   "metadata": {
    "ExecuteTime": {
     "end_time": "2023-07-21T19:22:12.920961300Z",
     "start_time": "2023-07-21T19:22:12.906974300Z"
    }
   },
   "outputs": [
    {
     "name": "stdout",
     "output_type": "stream",
     "text": [
      "Координаты установки баннера, который ближе всего находится к офису компании: (32.78531777579914, -79.92474241187222)\n"
     ]
    }
   ],
   "source": [
    "from sklearn.neighbors import KDTree\n",
    "\n",
    "df_office = pd.read_csv('../datasets/offices.csv') # df с координатами офисов\n",
    "df_center = pd.DataFrame(data=ms_center, columns=['latitude', 'longitude']) # df с координатами центров кластеров\n",
    "#df_center\n",
    "\n",
    "kdt = KDTree(df_center[['latitude', 'longitude']], metric='euclidean') # используем класс KDTree для поиска ближайш. соседей из df_center\n",
    "distance, index_ = kdt.query(df_office[['latitude', 'longitude']], k=5) # два множ-та по 5 центров кластеров с ближайш. дистанциями и индексами к каж. оф.\n",
    "#distance, index\n",
    "\n",
    "#min_office = np.unravel_index(distance.argmin(), distance.shape)[0]+1 # оф. возле которого ближайший банер\n",
    "min_center = index_[np.unravel_index(distance.argmin(), distance.shape)] # индекс ближайшего к оф. центра кластера(банера)\n",
    "lat_min, long_min = df_center[['latitude', 'longitude']].loc[min_center]\n",
    "\n",
    "print('Координаты установки баннера, который ближе всего находится к офису компании: ({}, {})'.format(lat_min, long_min))\n",
    "#df_center, distance, index_"
   ]
  },
  {
   "cell_type": "markdown",
   "id": "d250c2ef-51a3-4fe8-98ca-b395d8e168ca",
   "metadata": {
    "tags": []
   },
   "source": [
    "### Task 6"
   ]
  },
  {
   "cell_type": "markdown",
   "id": "bd639f7b-3d62-4e59-9522-77d44f866891",
   "metadata": {},
   "source": [
    "Используя функцию *scatter_mapbox* отметим точки установки банеров на карте"
   ]
  },
  {
   "cell_type": "code",
   "execution_count": 21,
   "id": "bcaa76d6-b504-4f71-981d-5c23579a8013",
   "metadata": {
    "ExecuteTime": {
     "end_time": "2023-07-21T19:22:13.004998200Z",
     "start_time": "2023-07-21T19:22:12.923355200Z"
    }
   },
   "outputs": [
    {
     "data": {
      "application/vnd.plotly.v1+json": {
       "config": {
        "plotlyServerURL": "https://plot.ly"
       },
       "data": [
        {
         "hovertemplate": "office=1<br>latitude=%{lat}<br>longitude=%{lon}<extra></extra>",
         "lat": [
          37.68804315672593,
          37.80416010605057,
          37.928434420481885,
          37.54512748476938,
          38.07602030399998
         ],
         "legendgroup": "1",
         "lon": [
          -122.4091421870596,
          -122.26813796504084,
          -122.52352486325269,
          -122.30069530092258,
          -122.23903582799998
         ],
         "marker": {
          "color": "#636efa"
         },
         "mode": "markers",
         "name": "1",
         "showlegend": true,
         "subplot": "mapbox",
         "type": "scattermapbox"
        },
        {
         "hovertemplate": "office=2<br>latitude=%{lat}<br>longitude=%{lon}<extra></extra>",
         "lat": [
          34.18768865305686,
          34.19901751461786,
          34.392006145454594,
          34.124190013703675,
          34.03259501432132
         ],
         "legendgroup": "2",
         "lon": [
          -118.44880518275103,
          -118.55441576777461,
          -118.54976483909066,
          -118.34644844027598,
          -118.43918429626308
         ],
         "marker": {
          "color": "#EF553B"
         },
         "mode": "markers",
         "name": "2",
         "showlegend": true,
         "subplot": "mapbox",
         "type": "scattermapbox"
        },
        {
         "hovertemplate": "office=3<br>latitude=%{lat}<br>longitude=%{lon}<extra></extra>",
         "lat": [
          33.80980562408899,
          33.90736367348494,
          33.87300538551121,
          33.64122240583737,
          33.81265932112838
         ],
         "legendgroup": "3",
         "lon": [
          -118.14497105040418,
          -118.05538166969714,
          -118.37128393699788,
          -117.9440485963136,
          -117.89443830336086
         ],
         "marker": {
          "color": "#00cc96"
         },
         "mode": "markers",
         "name": "3",
         "showlegend": true,
         "subplot": "mapbox",
         "type": "scattermapbox"
        },
        {
         "hovertemplate": "office=4<br>latitude=%{lat}<br>longitude=%{lon}<extra></extra>",
         "lat": [
          32.715962853674256,
          32.78995149183675,
          32.981146362152884,
          33.01187904141415,
          33.128803522826104
         ],
         "legendgroup": "4",
         "lon": [
          -117.15819696624045,
          -116.98785069591843,
          -117.0783101094478,
          -117.27841119292941,
          -117.12284171739142
         ],
         "marker": {
          "color": "#ab63fa"
         },
         "mode": "markers",
         "name": "4",
         "showlegend": true,
         "subplot": "mapbox",
         "type": "scattermapbox"
        },
        {
         "hovertemplate": "office=5<br>latitude=%{lat}<br>longitude=%{lon}<extra></extra>",
         "lat": [
          29.3013479,
          29.420566,
          29.53663335,
          29.6890241,
          29.4238472
         ],
         "legendgroup": "5",
         "lon": [
          -94.79769579999999,
          -94.92420136000001,
          -95.08341670833329,
          -95.00539099999999,
          -95.2441009
         ],
         "marker": {
          "color": "#FFA15A"
         },
         "mode": "markers",
         "name": "5",
         "showlegend": true,
         "subplot": "mapbox",
         "type": "scattermapbox"
        },
        {
         "hovertemplate": "office=6<br>latitude=%{lat}<br>longitude=%{lon}<extra></extra>",
         "lat": [
          30.694356599999995,
          30.6035255,
          30.5476941,
          30.8829628,
          30.4065868
         ],
         "legendgroup": "6",
         "lon": [
          -88.04305410000002,
          -87.9036047,
          -88.1752796,
          -87.7730474,
          -87.6835974
         ],
         "marker": {
          "color": "#19d3f3"
         },
         "mode": "markers",
         "name": "6",
         "showlegend": true,
         "subplot": "mapbox",
         "type": "scattermapbox"
        },
        {
         "hovertemplate": "office=7<br>latitude=%{lat}<br>longitude=%{lon}<extra></extra>",
         "lat": [
          27.949460812240474,
          27.920829383783826,
          27.746973450000002,
          28.016583642857146,
          28.18526993095238
         ],
         "legendgroup": "7",
         "lon": [
          -82.46497055591384,
          -82.28640781891897,
          -82.4203715,
          -82.66318034999999,
          -82.40535330714285
         ],
         "marker": {
          "color": "#FF6692"
         },
         "mode": "markers",
         "name": "7",
         "showlegend": true,
         "subplot": "mapbox",
         "type": "scattermapbox"
        },
        {
         "hovertemplate": "office=8<br>latitude=%{lat}<br>longitude=%{lon}<extra></extra>",
         "lat": [
          25.78698590071344,
          25.846584911904795,
          26.005261301242115,
          26.122962019550084,
          26.115836193103444
         ],
         "legendgroup": "8",
         "lon": [
          -80.21855931584689,
          -80.3126238940477,
          -80.21103303105617,
          -80.16050044515634,
          -80.39392828275862
         ],
         "marker": {
          "color": "#B6E880"
         },
         "mode": "markers",
         "name": "8",
         "showlegend": true,
         "subplot": "mapbox",
         "type": "scattermapbox"
        },
        {
         "hovertemplate": "office=9<br>latitude=%{lat}<br>longitude=%{lon}<extra></extra>",
         "lat": [
          30.33243195694452,
          30.277710062500002,
          30.160508138888886,
          30.664292787500003,
          30.045598283333334
         ],
         "legendgroup": "9",
         "lon": [
          -81.65492676666666,
          -81.39393922499998,
          -81.70538034444442,
          -81.46237491250001,
          -81.68569341666667
         ],
         "marker": {
          "color": "#FF97FF"
         },
         "mode": "markers",
         "name": "9",
         "showlegend": true,
         "subplot": "mapbox",
         "type": "scattermapbox"
        },
        {
         "hovertemplate": "office=10<br>latitude=%{lat}<br>longitude=%{lon}<extra></extra>",
         "lat": [
          32.78531777579914,
          32.67952435,
          32.9810059,
          32.60823729999999,
          33.01850389999999
         ],
         "legendgroup": "10",
         "lon": [
          -79.92474241187222,
          -79.98575185,
          -80.0325867,
          -80.08481659999998,
          -80.1756481
         ],
         "marker": {
          "color": "#FECB52"
         },
         "mode": "markers",
         "name": "10",
         "showlegend": true,
         "subplot": "mapbox",
         "type": "scattermapbox"
        },
        {
         "hovertemplate": "office=11<br>latitude=%{lat}<br>longitude=%{lon}<extra></extra>",
         "lat": [
          39.28729392569308,
          39.194447474999954,
          39.354321202499975,
          39.42022647352941,
          39.07596327290643
         ],
         "legendgroup": "11",
         "lon": [
          -76.6134932840785,
          -76.67865593235311,
          -76.47229520250005,
          -76.6925704352943,
          -76.64914884975383
         ],
         "marker": {
          "color": "#636efa"
         },
         "mode": "markers",
         "name": "11",
         "showlegend": true,
         "subplot": "mapbox",
         "type": "scattermapbox"
        }
       ],
       "layout": {
        "height": 550,
        "legend": {
         "title": {
          "text": "office"
         },
         "tracegroupgap": 0
        },
        "mapbox": {
         "center": {
          "lat": 32.28614103992872,
          "lon": -96.35449509835338
         },
         "domain": {
          "x": [
           0,
           1
          ],
          "y": [
           0,
           1
          ]
         },
         "style": "open-street-map",
         "zoom": 3
        },
        "template": {
         "data": {
          "bar": [
           {
            "error_x": {
             "color": "#2a3f5f"
            },
            "error_y": {
             "color": "#2a3f5f"
            },
            "marker": {
             "line": {
              "color": "#E5ECF6",
              "width": 0.5
             },
             "pattern": {
              "fillmode": "overlay",
              "size": 10,
              "solidity": 0.2
             }
            },
            "type": "bar"
           }
          ],
          "barpolar": [
           {
            "marker": {
             "line": {
              "color": "#E5ECF6",
              "width": 0.5
             },
             "pattern": {
              "fillmode": "overlay",
              "size": 10,
              "solidity": 0.2
             }
            },
            "type": "barpolar"
           }
          ],
          "carpet": [
           {
            "aaxis": {
             "endlinecolor": "#2a3f5f",
             "gridcolor": "white",
             "linecolor": "white",
             "minorgridcolor": "white",
             "startlinecolor": "#2a3f5f"
            },
            "baxis": {
             "endlinecolor": "#2a3f5f",
             "gridcolor": "white",
             "linecolor": "white",
             "minorgridcolor": "white",
             "startlinecolor": "#2a3f5f"
            },
            "type": "carpet"
           }
          ],
          "choropleth": [
           {
            "colorbar": {
             "outlinewidth": 0,
             "ticks": ""
            },
            "type": "choropleth"
           }
          ],
          "contour": [
           {
            "colorbar": {
             "outlinewidth": 0,
             "ticks": ""
            },
            "colorscale": [
             [
              0,
              "#0d0887"
             ],
             [
              0.1111111111111111,
              "#46039f"
             ],
             [
              0.2222222222222222,
              "#7201a8"
             ],
             [
              0.3333333333333333,
              "#9c179e"
             ],
             [
              0.4444444444444444,
              "#bd3786"
             ],
             [
              0.5555555555555556,
              "#d8576b"
             ],
             [
              0.6666666666666666,
              "#ed7953"
             ],
             [
              0.7777777777777778,
              "#fb9f3a"
             ],
             [
              0.8888888888888888,
              "#fdca26"
             ],
             [
              1,
              "#f0f921"
             ]
            ],
            "type": "contour"
           }
          ],
          "contourcarpet": [
           {
            "colorbar": {
             "outlinewidth": 0,
             "ticks": ""
            },
            "type": "contourcarpet"
           }
          ],
          "heatmap": [
           {
            "colorbar": {
             "outlinewidth": 0,
             "ticks": ""
            },
            "colorscale": [
             [
              0,
              "#0d0887"
             ],
             [
              0.1111111111111111,
              "#46039f"
             ],
             [
              0.2222222222222222,
              "#7201a8"
             ],
             [
              0.3333333333333333,
              "#9c179e"
             ],
             [
              0.4444444444444444,
              "#bd3786"
             ],
             [
              0.5555555555555556,
              "#d8576b"
             ],
             [
              0.6666666666666666,
              "#ed7953"
             ],
             [
              0.7777777777777778,
              "#fb9f3a"
             ],
             [
              0.8888888888888888,
              "#fdca26"
             ],
             [
              1,
              "#f0f921"
             ]
            ],
            "type": "heatmap"
           }
          ],
          "heatmapgl": [
           {
            "colorbar": {
             "outlinewidth": 0,
             "ticks": ""
            },
            "colorscale": [
             [
              0,
              "#0d0887"
             ],
             [
              0.1111111111111111,
              "#46039f"
             ],
             [
              0.2222222222222222,
              "#7201a8"
             ],
             [
              0.3333333333333333,
              "#9c179e"
             ],
             [
              0.4444444444444444,
              "#bd3786"
             ],
             [
              0.5555555555555556,
              "#d8576b"
             ],
             [
              0.6666666666666666,
              "#ed7953"
             ],
             [
              0.7777777777777778,
              "#fb9f3a"
             ],
             [
              0.8888888888888888,
              "#fdca26"
             ],
             [
              1,
              "#f0f921"
             ]
            ],
            "type": "heatmapgl"
           }
          ],
          "histogram": [
           {
            "marker": {
             "pattern": {
              "fillmode": "overlay",
              "size": 10,
              "solidity": 0.2
             }
            },
            "type": "histogram"
           }
          ],
          "histogram2d": [
           {
            "colorbar": {
             "outlinewidth": 0,
             "ticks": ""
            },
            "colorscale": [
             [
              0,
              "#0d0887"
             ],
             [
              0.1111111111111111,
              "#46039f"
             ],
             [
              0.2222222222222222,
              "#7201a8"
             ],
             [
              0.3333333333333333,
              "#9c179e"
             ],
             [
              0.4444444444444444,
              "#bd3786"
             ],
             [
              0.5555555555555556,
              "#d8576b"
             ],
             [
              0.6666666666666666,
              "#ed7953"
             ],
             [
              0.7777777777777778,
              "#fb9f3a"
             ],
             [
              0.8888888888888888,
              "#fdca26"
             ],
             [
              1,
              "#f0f921"
             ]
            ],
            "type": "histogram2d"
           }
          ],
          "histogram2dcontour": [
           {
            "colorbar": {
             "outlinewidth": 0,
             "ticks": ""
            },
            "colorscale": [
             [
              0,
              "#0d0887"
             ],
             [
              0.1111111111111111,
              "#46039f"
             ],
             [
              0.2222222222222222,
              "#7201a8"
             ],
             [
              0.3333333333333333,
              "#9c179e"
             ],
             [
              0.4444444444444444,
              "#bd3786"
             ],
             [
              0.5555555555555556,
              "#d8576b"
             ],
             [
              0.6666666666666666,
              "#ed7953"
             ],
             [
              0.7777777777777778,
              "#fb9f3a"
             ],
             [
              0.8888888888888888,
              "#fdca26"
             ],
             [
              1,
              "#f0f921"
             ]
            ],
            "type": "histogram2dcontour"
           }
          ],
          "mesh3d": [
           {
            "colorbar": {
             "outlinewidth": 0,
             "ticks": ""
            },
            "type": "mesh3d"
           }
          ],
          "parcoords": [
           {
            "line": {
             "colorbar": {
              "outlinewidth": 0,
              "ticks": ""
             }
            },
            "type": "parcoords"
           }
          ],
          "pie": [
           {
            "automargin": true,
            "type": "pie"
           }
          ],
          "scatter": [
           {
            "fillpattern": {
             "fillmode": "overlay",
             "size": 10,
             "solidity": 0.2
            },
            "type": "scatter"
           }
          ],
          "scatter3d": [
           {
            "line": {
             "colorbar": {
              "outlinewidth": 0,
              "ticks": ""
             }
            },
            "marker": {
             "colorbar": {
              "outlinewidth": 0,
              "ticks": ""
             }
            },
            "type": "scatter3d"
           }
          ],
          "scattercarpet": [
           {
            "marker": {
             "colorbar": {
              "outlinewidth": 0,
              "ticks": ""
             }
            },
            "type": "scattercarpet"
           }
          ],
          "scattergeo": [
           {
            "marker": {
             "colorbar": {
              "outlinewidth": 0,
              "ticks": ""
             }
            },
            "type": "scattergeo"
           }
          ],
          "scattergl": [
           {
            "marker": {
             "colorbar": {
              "outlinewidth": 0,
              "ticks": ""
             }
            },
            "type": "scattergl"
           }
          ],
          "scattermapbox": [
           {
            "marker": {
             "colorbar": {
              "outlinewidth": 0,
              "ticks": ""
             }
            },
            "type": "scattermapbox"
           }
          ],
          "scatterpolar": [
           {
            "marker": {
             "colorbar": {
              "outlinewidth": 0,
              "ticks": ""
             }
            },
            "type": "scatterpolar"
           }
          ],
          "scatterpolargl": [
           {
            "marker": {
             "colorbar": {
              "outlinewidth": 0,
              "ticks": ""
             }
            },
            "type": "scatterpolargl"
           }
          ],
          "scatterternary": [
           {
            "marker": {
             "colorbar": {
              "outlinewidth": 0,
              "ticks": ""
             }
            },
            "type": "scatterternary"
           }
          ],
          "surface": [
           {
            "colorbar": {
             "outlinewidth": 0,
             "ticks": ""
            },
            "colorscale": [
             [
              0,
              "#0d0887"
             ],
             [
              0.1111111111111111,
              "#46039f"
             ],
             [
              0.2222222222222222,
              "#7201a8"
             ],
             [
              0.3333333333333333,
              "#9c179e"
             ],
             [
              0.4444444444444444,
              "#bd3786"
             ],
             [
              0.5555555555555556,
              "#d8576b"
             ],
             [
              0.6666666666666666,
              "#ed7953"
             ],
             [
              0.7777777777777778,
              "#fb9f3a"
             ],
             [
              0.8888888888888888,
              "#fdca26"
             ],
             [
              1,
              "#f0f921"
             ]
            ],
            "type": "surface"
           }
          ],
          "table": [
           {
            "cells": {
             "fill": {
              "color": "#EBF0F8"
             },
             "line": {
              "color": "white"
             }
            },
            "header": {
             "fill": {
              "color": "#C8D4E3"
             },
             "line": {
              "color": "white"
             }
            },
            "type": "table"
           }
          ]
         },
         "layout": {
          "annotationdefaults": {
           "arrowcolor": "#2a3f5f",
           "arrowhead": 0,
           "arrowwidth": 1
          },
          "autotypenumbers": "strict",
          "coloraxis": {
           "colorbar": {
            "outlinewidth": 0,
            "ticks": ""
           }
          },
          "colorscale": {
           "diverging": [
            [
             0,
             "#8e0152"
            ],
            [
             0.1,
             "#c51b7d"
            ],
            [
             0.2,
             "#de77ae"
            ],
            [
             0.3,
             "#f1b6da"
            ],
            [
             0.4,
             "#fde0ef"
            ],
            [
             0.5,
             "#f7f7f7"
            ],
            [
             0.6,
             "#e6f5d0"
            ],
            [
             0.7,
             "#b8e186"
            ],
            [
             0.8,
             "#7fbc41"
            ],
            [
             0.9,
             "#4d9221"
            ],
            [
             1,
             "#276419"
            ]
           ],
           "sequential": [
            [
             0,
             "#0d0887"
            ],
            [
             0.1111111111111111,
             "#46039f"
            ],
            [
             0.2222222222222222,
             "#7201a8"
            ],
            [
             0.3333333333333333,
             "#9c179e"
            ],
            [
             0.4444444444444444,
             "#bd3786"
            ],
            [
             0.5555555555555556,
             "#d8576b"
            ],
            [
             0.6666666666666666,
             "#ed7953"
            ],
            [
             0.7777777777777778,
             "#fb9f3a"
            ],
            [
             0.8888888888888888,
             "#fdca26"
            ],
            [
             1,
             "#f0f921"
            ]
           ],
           "sequentialminus": [
            [
             0,
             "#0d0887"
            ],
            [
             0.1111111111111111,
             "#46039f"
            ],
            [
             0.2222222222222222,
             "#7201a8"
            ],
            [
             0.3333333333333333,
             "#9c179e"
            ],
            [
             0.4444444444444444,
             "#bd3786"
            ],
            [
             0.5555555555555556,
             "#d8576b"
            ],
            [
             0.6666666666666666,
             "#ed7953"
            ],
            [
             0.7777777777777778,
             "#fb9f3a"
            ],
            [
             0.8888888888888888,
             "#fdca26"
            ],
            [
             1,
             "#f0f921"
            ]
           ]
          },
          "colorway": [
           "#636efa",
           "#EF553B",
           "#00cc96",
           "#ab63fa",
           "#FFA15A",
           "#19d3f3",
           "#FF6692",
           "#B6E880",
           "#FF97FF",
           "#FECB52"
          ],
          "font": {
           "color": "#2a3f5f"
          },
          "geo": {
           "bgcolor": "white",
           "lakecolor": "white",
           "landcolor": "#E5ECF6",
           "showlakes": true,
           "showland": true,
           "subunitcolor": "white"
          },
          "hoverlabel": {
           "align": "left"
          },
          "hovermode": "closest",
          "mapbox": {
           "style": "light"
          },
          "paper_bgcolor": "white",
          "plot_bgcolor": "#E5ECF6",
          "polar": {
           "angularaxis": {
            "gridcolor": "white",
            "linecolor": "white",
            "ticks": ""
           },
           "bgcolor": "#E5ECF6",
           "radialaxis": {
            "gridcolor": "white",
            "linecolor": "white",
            "ticks": ""
           }
          },
          "scene": {
           "xaxis": {
            "backgroundcolor": "#E5ECF6",
            "gridcolor": "white",
            "gridwidth": 2,
            "linecolor": "white",
            "showbackground": true,
            "ticks": "",
            "zerolinecolor": "white"
           },
           "yaxis": {
            "backgroundcolor": "#E5ECF6",
            "gridcolor": "white",
            "gridwidth": 2,
            "linecolor": "white",
            "showbackground": true,
            "ticks": "",
            "zerolinecolor": "white"
           },
           "zaxis": {
            "backgroundcolor": "#E5ECF6",
            "gridcolor": "white",
            "gridwidth": 2,
            "linecolor": "white",
            "showbackground": true,
            "ticks": "",
            "zerolinecolor": "white"
           }
          },
          "shapedefaults": {
           "line": {
            "color": "#2a3f5f"
           }
          },
          "ternary": {
           "aaxis": {
            "gridcolor": "white",
            "linecolor": "white",
            "ticks": ""
           },
           "baxis": {
            "gridcolor": "white",
            "linecolor": "white",
            "ticks": ""
           },
           "bgcolor": "#E5ECF6",
           "caxis": {
            "gridcolor": "white",
            "linecolor": "white",
            "ticks": ""
           }
          },
          "title": {
           "x": 0.05
          },
          "xaxis": {
           "automargin": true,
           "gridcolor": "white",
           "linecolor": "white",
           "ticks": "",
           "title": {
            "standoff": 15
           },
           "zerolinecolor": "white",
           "zerolinewidth": 2
          },
          "yaxis": {
           "automargin": true,
           "gridcolor": "white",
           "linecolor": "white",
           "ticks": "",
           "title": {
            "standoff": 15
           },
           "zerolinecolor": "white",
           "zerolinewidth": 2
          }
         }
        },
        "title": {
         "text": "Карта расположения баннеров и офисов"
        },
        "width": 950
       }
      },
      "text/html": [
       "<div>                            <div id=\"ec0bb02b-b706-4deb-819c-beb89a1240bc\" class=\"plotly-graph-div\" style=\"height:550px; width:950px;\"></div>            <script type=\"text/javascript\">                require([\"plotly\"], function(Plotly) {                    window.PLOTLYENV=window.PLOTLYENV || {};                                    if (document.getElementById(\"ec0bb02b-b706-4deb-819c-beb89a1240bc\")) {                    Plotly.newPlot(                        \"ec0bb02b-b706-4deb-819c-beb89a1240bc\",                        [{\"hovertemplate\":\"office=1<br>latitude=%{lat}<br>longitude=%{lon}<extra></extra>\",\"lat\":[37.68804315672593,37.80416010605057,37.928434420481885,37.54512748476938,38.07602030399998],\"legendgroup\":\"1\",\"lon\":[-122.4091421870596,-122.26813796504084,-122.52352486325269,-122.30069530092258,-122.23903582799998],\"marker\":{\"color\":\"#636efa\"},\"mode\":\"markers\",\"name\":\"1\",\"showlegend\":true,\"subplot\":\"mapbox\",\"type\":\"scattermapbox\"},{\"hovertemplate\":\"office=2<br>latitude=%{lat}<br>longitude=%{lon}<extra></extra>\",\"lat\":[34.18768865305686,34.19901751461786,34.392006145454594,34.124190013703675,34.03259501432132],\"legendgroup\":\"2\",\"lon\":[-118.44880518275103,-118.55441576777461,-118.54976483909066,-118.34644844027598,-118.43918429626308],\"marker\":{\"color\":\"#EF553B\"},\"mode\":\"markers\",\"name\":\"2\",\"showlegend\":true,\"subplot\":\"mapbox\",\"type\":\"scattermapbox\"},{\"hovertemplate\":\"office=3<br>latitude=%{lat}<br>longitude=%{lon}<extra></extra>\",\"lat\":[33.80980562408899,33.90736367348494,33.87300538551121,33.64122240583737,33.81265932112838],\"legendgroup\":\"3\",\"lon\":[-118.14497105040418,-118.05538166969714,-118.37128393699788,-117.9440485963136,-117.89443830336086],\"marker\":{\"color\":\"#00cc96\"},\"mode\":\"markers\",\"name\":\"3\",\"showlegend\":true,\"subplot\":\"mapbox\",\"type\":\"scattermapbox\"},{\"hovertemplate\":\"office=4<br>latitude=%{lat}<br>longitude=%{lon}<extra></extra>\",\"lat\":[32.715962853674256,32.78995149183675,32.981146362152884,33.01187904141415,33.128803522826104],\"legendgroup\":\"4\",\"lon\":[-117.15819696624045,-116.98785069591843,-117.0783101094478,-117.27841119292941,-117.12284171739142],\"marker\":{\"color\":\"#ab63fa\"},\"mode\":\"markers\",\"name\":\"4\",\"showlegend\":true,\"subplot\":\"mapbox\",\"type\":\"scattermapbox\"},{\"hovertemplate\":\"office=5<br>latitude=%{lat}<br>longitude=%{lon}<extra></extra>\",\"lat\":[29.3013479,29.420566,29.53663335,29.6890241,29.4238472],\"legendgroup\":\"5\",\"lon\":[-94.79769579999999,-94.92420136000001,-95.08341670833329,-95.00539099999999,-95.2441009],\"marker\":{\"color\":\"#FFA15A\"},\"mode\":\"markers\",\"name\":\"5\",\"showlegend\":true,\"subplot\":\"mapbox\",\"type\":\"scattermapbox\"},{\"hovertemplate\":\"office=6<br>latitude=%{lat}<br>longitude=%{lon}<extra></extra>\",\"lat\":[30.694356599999995,30.6035255,30.5476941,30.8829628,30.4065868],\"legendgroup\":\"6\",\"lon\":[-88.04305410000002,-87.9036047,-88.1752796,-87.7730474,-87.6835974],\"marker\":{\"color\":\"#19d3f3\"},\"mode\":\"markers\",\"name\":\"6\",\"showlegend\":true,\"subplot\":\"mapbox\",\"type\":\"scattermapbox\"},{\"hovertemplate\":\"office=7<br>latitude=%{lat}<br>longitude=%{lon}<extra></extra>\",\"lat\":[27.949460812240474,27.920829383783826,27.746973450000002,28.016583642857146,28.18526993095238],\"legendgroup\":\"7\",\"lon\":[-82.46497055591384,-82.28640781891897,-82.4203715,-82.66318034999999,-82.40535330714285],\"marker\":{\"color\":\"#FF6692\"},\"mode\":\"markers\",\"name\":\"7\",\"showlegend\":true,\"subplot\":\"mapbox\",\"type\":\"scattermapbox\"},{\"hovertemplate\":\"office=8<br>latitude=%{lat}<br>longitude=%{lon}<extra></extra>\",\"lat\":[25.78698590071344,25.846584911904795,26.005261301242115,26.122962019550084,26.115836193103444],\"legendgroup\":\"8\",\"lon\":[-80.21855931584689,-80.3126238940477,-80.21103303105617,-80.16050044515634,-80.39392828275862],\"marker\":{\"color\":\"#B6E880\"},\"mode\":\"markers\",\"name\":\"8\",\"showlegend\":true,\"subplot\":\"mapbox\",\"type\":\"scattermapbox\"},{\"hovertemplate\":\"office=9<br>latitude=%{lat}<br>longitude=%{lon}<extra></extra>\",\"lat\":[30.33243195694452,30.277710062500002,30.160508138888886,30.664292787500003,30.045598283333334],\"legendgroup\":\"9\",\"lon\":[-81.65492676666666,-81.39393922499998,-81.70538034444442,-81.46237491250001,-81.68569341666667],\"marker\":{\"color\":\"#FF97FF\"},\"mode\":\"markers\",\"name\":\"9\",\"showlegend\":true,\"subplot\":\"mapbox\",\"type\":\"scattermapbox\"},{\"hovertemplate\":\"office=10<br>latitude=%{lat}<br>longitude=%{lon}<extra></extra>\",\"lat\":[32.78531777579914,32.67952435,32.9810059,32.60823729999999,33.01850389999999],\"legendgroup\":\"10\",\"lon\":[-79.92474241187222,-79.98575185,-80.0325867,-80.08481659999998,-80.1756481],\"marker\":{\"color\":\"#FECB52\"},\"mode\":\"markers\",\"name\":\"10\",\"showlegend\":true,\"subplot\":\"mapbox\",\"type\":\"scattermapbox\"},{\"hovertemplate\":\"office=11<br>latitude=%{lat}<br>longitude=%{lon}<extra></extra>\",\"lat\":[39.28729392569308,39.194447474999954,39.354321202499975,39.42022647352941,39.07596327290643],\"legendgroup\":\"11\",\"lon\":[-76.6134932840785,-76.67865593235311,-76.47229520250005,-76.6925704352943,-76.64914884975383],\"marker\":{\"color\":\"#636efa\"},\"mode\":\"markers\",\"name\":\"11\",\"showlegend\":true,\"subplot\":\"mapbox\",\"type\":\"scattermapbox\"}],                        {\"template\":{\"data\":{\"histogram2dcontour\":[{\"type\":\"histogram2dcontour\",\"colorbar\":{\"outlinewidth\":0,\"ticks\":\"\"},\"colorscale\":[[0.0,\"#0d0887\"],[0.1111111111111111,\"#46039f\"],[0.2222222222222222,\"#7201a8\"],[0.3333333333333333,\"#9c179e\"],[0.4444444444444444,\"#bd3786\"],[0.5555555555555556,\"#d8576b\"],[0.6666666666666666,\"#ed7953\"],[0.7777777777777778,\"#fb9f3a\"],[0.8888888888888888,\"#fdca26\"],[1.0,\"#f0f921\"]]}],\"choropleth\":[{\"type\":\"choropleth\",\"colorbar\":{\"outlinewidth\":0,\"ticks\":\"\"}}],\"histogram2d\":[{\"type\":\"histogram2d\",\"colorbar\":{\"outlinewidth\":0,\"ticks\":\"\"},\"colorscale\":[[0.0,\"#0d0887\"],[0.1111111111111111,\"#46039f\"],[0.2222222222222222,\"#7201a8\"],[0.3333333333333333,\"#9c179e\"],[0.4444444444444444,\"#bd3786\"],[0.5555555555555556,\"#d8576b\"],[0.6666666666666666,\"#ed7953\"],[0.7777777777777778,\"#fb9f3a\"],[0.8888888888888888,\"#fdca26\"],[1.0,\"#f0f921\"]]}],\"heatmap\":[{\"type\":\"heatmap\",\"colorbar\":{\"outlinewidth\":0,\"ticks\":\"\"},\"colorscale\":[[0.0,\"#0d0887\"],[0.1111111111111111,\"#46039f\"],[0.2222222222222222,\"#7201a8\"],[0.3333333333333333,\"#9c179e\"],[0.4444444444444444,\"#bd3786\"],[0.5555555555555556,\"#d8576b\"],[0.6666666666666666,\"#ed7953\"],[0.7777777777777778,\"#fb9f3a\"],[0.8888888888888888,\"#fdca26\"],[1.0,\"#f0f921\"]]}],\"heatmapgl\":[{\"type\":\"heatmapgl\",\"colorbar\":{\"outlinewidth\":0,\"ticks\":\"\"},\"colorscale\":[[0.0,\"#0d0887\"],[0.1111111111111111,\"#46039f\"],[0.2222222222222222,\"#7201a8\"],[0.3333333333333333,\"#9c179e\"],[0.4444444444444444,\"#bd3786\"],[0.5555555555555556,\"#d8576b\"],[0.6666666666666666,\"#ed7953\"],[0.7777777777777778,\"#fb9f3a\"],[0.8888888888888888,\"#fdca26\"],[1.0,\"#f0f921\"]]}],\"contourcarpet\":[{\"type\":\"contourcarpet\",\"colorbar\":{\"outlinewidth\":0,\"ticks\":\"\"}}],\"contour\":[{\"type\":\"contour\",\"colorbar\":{\"outlinewidth\":0,\"ticks\":\"\"},\"colorscale\":[[0.0,\"#0d0887\"],[0.1111111111111111,\"#46039f\"],[0.2222222222222222,\"#7201a8\"],[0.3333333333333333,\"#9c179e\"],[0.4444444444444444,\"#bd3786\"],[0.5555555555555556,\"#d8576b\"],[0.6666666666666666,\"#ed7953\"],[0.7777777777777778,\"#fb9f3a\"],[0.8888888888888888,\"#fdca26\"],[1.0,\"#f0f921\"]]}],\"surface\":[{\"type\":\"surface\",\"colorbar\":{\"outlinewidth\":0,\"ticks\":\"\"},\"colorscale\":[[0.0,\"#0d0887\"],[0.1111111111111111,\"#46039f\"],[0.2222222222222222,\"#7201a8\"],[0.3333333333333333,\"#9c179e\"],[0.4444444444444444,\"#bd3786\"],[0.5555555555555556,\"#d8576b\"],[0.6666666666666666,\"#ed7953\"],[0.7777777777777778,\"#fb9f3a\"],[0.8888888888888888,\"#fdca26\"],[1.0,\"#f0f921\"]]}],\"mesh3d\":[{\"type\":\"mesh3d\",\"colorbar\":{\"outlinewidth\":0,\"ticks\":\"\"}}],\"scatter\":[{\"fillpattern\":{\"fillmode\":\"overlay\",\"size\":10,\"solidity\":0.2},\"type\":\"scatter\"}],\"parcoords\":[{\"type\":\"parcoords\",\"line\":{\"colorbar\":{\"outlinewidth\":0,\"ticks\":\"\"}}}],\"scatterpolargl\":[{\"type\":\"scatterpolargl\",\"marker\":{\"colorbar\":{\"outlinewidth\":0,\"ticks\":\"\"}}}],\"bar\":[{\"error_x\":{\"color\":\"#2a3f5f\"},\"error_y\":{\"color\":\"#2a3f5f\"},\"marker\":{\"line\":{\"color\":\"#E5ECF6\",\"width\":0.5},\"pattern\":{\"fillmode\":\"overlay\",\"size\":10,\"solidity\":0.2}},\"type\":\"bar\"}],\"scattergeo\":[{\"type\":\"scattergeo\",\"marker\":{\"colorbar\":{\"outlinewidth\":0,\"ticks\":\"\"}}}],\"scatterpolar\":[{\"type\":\"scatterpolar\",\"marker\":{\"colorbar\":{\"outlinewidth\":0,\"ticks\":\"\"}}}],\"histogram\":[{\"marker\":{\"pattern\":{\"fillmode\":\"overlay\",\"size\":10,\"solidity\":0.2}},\"type\":\"histogram\"}],\"scattergl\":[{\"type\":\"scattergl\",\"marker\":{\"colorbar\":{\"outlinewidth\":0,\"ticks\":\"\"}}}],\"scatter3d\":[{\"type\":\"scatter3d\",\"line\":{\"colorbar\":{\"outlinewidth\":0,\"ticks\":\"\"}},\"marker\":{\"colorbar\":{\"outlinewidth\":0,\"ticks\":\"\"}}}],\"scattermapbox\":[{\"type\":\"scattermapbox\",\"marker\":{\"colorbar\":{\"outlinewidth\":0,\"ticks\":\"\"}}}],\"scatterternary\":[{\"type\":\"scatterternary\",\"marker\":{\"colorbar\":{\"outlinewidth\":0,\"ticks\":\"\"}}}],\"scattercarpet\":[{\"type\":\"scattercarpet\",\"marker\":{\"colorbar\":{\"outlinewidth\":0,\"ticks\":\"\"}}}],\"carpet\":[{\"aaxis\":{\"endlinecolor\":\"#2a3f5f\",\"gridcolor\":\"white\",\"linecolor\":\"white\",\"minorgridcolor\":\"white\",\"startlinecolor\":\"#2a3f5f\"},\"baxis\":{\"endlinecolor\":\"#2a3f5f\",\"gridcolor\":\"white\",\"linecolor\":\"white\",\"minorgridcolor\":\"white\",\"startlinecolor\":\"#2a3f5f\"},\"type\":\"carpet\"}],\"table\":[{\"cells\":{\"fill\":{\"color\":\"#EBF0F8\"},\"line\":{\"color\":\"white\"}},\"header\":{\"fill\":{\"color\":\"#C8D4E3\"},\"line\":{\"color\":\"white\"}},\"type\":\"table\"}],\"barpolar\":[{\"marker\":{\"line\":{\"color\":\"#E5ECF6\",\"width\":0.5},\"pattern\":{\"fillmode\":\"overlay\",\"size\":10,\"solidity\":0.2}},\"type\":\"barpolar\"}],\"pie\":[{\"automargin\":true,\"type\":\"pie\"}]},\"layout\":{\"autotypenumbers\":\"strict\",\"colorway\":[\"#636efa\",\"#EF553B\",\"#00cc96\",\"#ab63fa\",\"#FFA15A\",\"#19d3f3\",\"#FF6692\",\"#B6E880\",\"#FF97FF\",\"#FECB52\"],\"font\":{\"color\":\"#2a3f5f\"},\"hovermode\":\"closest\",\"hoverlabel\":{\"align\":\"left\"},\"paper_bgcolor\":\"white\",\"plot_bgcolor\":\"#E5ECF6\",\"polar\":{\"bgcolor\":\"#E5ECF6\",\"angularaxis\":{\"gridcolor\":\"white\",\"linecolor\":\"white\",\"ticks\":\"\"},\"radialaxis\":{\"gridcolor\":\"white\",\"linecolor\":\"white\",\"ticks\":\"\"}},\"ternary\":{\"bgcolor\":\"#E5ECF6\",\"aaxis\":{\"gridcolor\":\"white\",\"linecolor\":\"white\",\"ticks\":\"\"},\"baxis\":{\"gridcolor\":\"white\",\"linecolor\":\"white\",\"ticks\":\"\"},\"caxis\":{\"gridcolor\":\"white\",\"linecolor\":\"white\",\"ticks\":\"\"}},\"coloraxis\":{\"colorbar\":{\"outlinewidth\":0,\"ticks\":\"\"}},\"colorscale\":{\"sequential\":[[0.0,\"#0d0887\"],[0.1111111111111111,\"#46039f\"],[0.2222222222222222,\"#7201a8\"],[0.3333333333333333,\"#9c179e\"],[0.4444444444444444,\"#bd3786\"],[0.5555555555555556,\"#d8576b\"],[0.6666666666666666,\"#ed7953\"],[0.7777777777777778,\"#fb9f3a\"],[0.8888888888888888,\"#fdca26\"],[1.0,\"#f0f921\"]],\"sequentialminus\":[[0.0,\"#0d0887\"],[0.1111111111111111,\"#46039f\"],[0.2222222222222222,\"#7201a8\"],[0.3333333333333333,\"#9c179e\"],[0.4444444444444444,\"#bd3786\"],[0.5555555555555556,\"#d8576b\"],[0.6666666666666666,\"#ed7953\"],[0.7777777777777778,\"#fb9f3a\"],[0.8888888888888888,\"#fdca26\"],[1.0,\"#f0f921\"]],\"diverging\":[[0,\"#8e0152\"],[0.1,\"#c51b7d\"],[0.2,\"#de77ae\"],[0.3,\"#f1b6da\"],[0.4,\"#fde0ef\"],[0.5,\"#f7f7f7\"],[0.6,\"#e6f5d0\"],[0.7,\"#b8e186\"],[0.8,\"#7fbc41\"],[0.9,\"#4d9221\"],[1,\"#276419\"]]},\"xaxis\":{\"gridcolor\":\"white\",\"linecolor\":\"white\",\"ticks\":\"\",\"title\":{\"standoff\":15},\"zerolinecolor\":\"white\",\"automargin\":true,\"zerolinewidth\":2},\"yaxis\":{\"gridcolor\":\"white\",\"linecolor\":\"white\",\"ticks\":\"\",\"title\":{\"standoff\":15},\"zerolinecolor\":\"white\",\"automargin\":true,\"zerolinewidth\":2},\"scene\":{\"xaxis\":{\"backgroundcolor\":\"#E5ECF6\",\"gridcolor\":\"white\",\"linecolor\":\"white\",\"showbackground\":true,\"ticks\":\"\",\"zerolinecolor\":\"white\",\"gridwidth\":2},\"yaxis\":{\"backgroundcolor\":\"#E5ECF6\",\"gridcolor\":\"white\",\"linecolor\":\"white\",\"showbackground\":true,\"ticks\":\"\",\"zerolinecolor\":\"white\",\"gridwidth\":2},\"zaxis\":{\"backgroundcolor\":\"#E5ECF6\",\"gridcolor\":\"white\",\"linecolor\":\"white\",\"showbackground\":true,\"ticks\":\"\",\"zerolinecolor\":\"white\",\"gridwidth\":2}},\"shapedefaults\":{\"line\":{\"color\":\"#2a3f5f\"}},\"annotationdefaults\":{\"arrowcolor\":\"#2a3f5f\",\"arrowhead\":0,\"arrowwidth\":1},\"geo\":{\"bgcolor\":\"white\",\"landcolor\":\"#E5ECF6\",\"subunitcolor\":\"white\",\"showland\":true,\"showlakes\":true,\"lakecolor\":\"white\"},\"title\":{\"x\":0.05},\"mapbox\":{\"style\":\"light\"}}},\"mapbox\":{\"domain\":{\"x\":[0.0,1.0],\"y\":[0.0,1.0]},\"center\":{\"lat\":32.28614103992872,\"lon\":-96.35449509835338},\"zoom\":3,\"style\":\"open-street-map\"},\"legend\":{\"title\":{\"text\":\"office\"},\"tracegroupgap\":0},\"title\":{\"text\":\"\\u041a\\u0430\\u0440\\u0442\\u0430 \\u0440\\u0430\\u0441\\u043f\\u043e\\u043b\\u043e\\u0436\\u0435\\u043d\\u0438\\u044f \\u0431\\u0430\\u043d\\u043d\\u0435\\u0440\\u043e\\u0432 \\u0438 \\u043e\\u0444\\u0438\\u0441\\u043e\\u0432\"},\"height\":550,\"width\":950},                        {\"responsive\": true}                    ).then(function(){\n",
       "                            \n",
       "var gd = document.getElementById('ec0bb02b-b706-4deb-819c-beb89a1240bc');\n",
       "var x = new MutationObserver(function (mutations, observer) {{\n",
       "        var display = window.getComputedStyle(gd).display;\n",
       "        if (!display || display === 'none') {{\n",
       "            console.log([gd, 'removed!']);\n",
       "            Plotly.purge(gd);\n",
       "            observer.disconnect();\n",
       "        }}\n",
       "}});\n",
       "\n",
       "// Listen for the removal of the full notebook cells\n",
       "var notebookContainer = gd.closest('#notebook-container');\n",
       "if (notebookContainer) {{\n",
       "    x.observe(notebookContainer, {childList: true});\n",
       "}}\n",
       "\n",
       "// Listen for the clearing of the current output cell\n",
       "var outputEl = gd.closest('.output');\n",
       "if (outputEl) {{\n",
       "    x.observe(outputEl, {childList: true});\n",
       "}}\n",
       "\n",
       "                        })                };                });            </script>        </div>"
      ]
     },
     "metadata": {},
     "output_type": "display_data"
    }
   ],
   "source": [
    "import plotly.express as px\n",
    "\n",
    "df_banner = df_center.iloc[np.ravel(index_).tolist()].copy() # выбираем из df_center только те которые вышли в index_ т.е. по 5 ближайш. к каж. оф.\n",
    "#df_banner.index.rename('center', inplace= True ) # переименовываем столбец индексов в center т.к. это индексы баннеров(центры кластеров)\n",
    "str_office = [str(i+1) for i in range(10) for j in range(5)] # создаём строчку соответствия № офисов\n",
    "df_banner['office'] = str_office # добавляем в df_banner столбец с № соответствующих офисов\n",
    "#df_banner\n",
    "\n",
    "fig_ = px.scatter_mapbox(df_banner, lat='latitude', lon='longitude', color=df_banner['office'], mapbox_style='open-street-map',\n",
    "                         zoom=3, width=950, height=550, title='Карта расположения баннеров и офисов')\n",
    "fig_.show()"
   ]
  },
  {
   "cell_type": "code",
   "execution_count": 21,
   "id": "417b718d-1f4e-4f3d-8d8b-9eb7d79c8b18",
   "metadata": {
    "ExecuteTime": {
     "end_time": "2023-07-21T19:22:13.007455800Z",
     "start_time": "2023-07-21T19:22:13.000738200Z"
    }
   },
   "outputs": [],
   "source": []
  }
 ],
 "metadata": {
  "kernelspec": {
   "display_name": "Python 3 (ipykernel)",
   "language": "python",
   "name": "python3"
  },
  "language_info": {
   "codemirror_mode": {
    "name": "ipython",
    "version": 3
   },
   "file_extension": ".py",
   "mimetype": "text/x-python",
   "name": "python",
   "nbconvert_exporter": "python",
   "pygments_lexer": "ipython3",
   "version": "3.11.3"
  }
 },
 "nbformat": 4,
 "nbformat_minor": 5
}
