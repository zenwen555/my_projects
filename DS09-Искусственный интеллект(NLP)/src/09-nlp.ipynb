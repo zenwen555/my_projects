{
 "cells": [
  {
   "cell_type": "markdown",
   "id": "e73517c0-2692-4321-846c-9d8d61141d9a",
   "metadata": {},
   "source": [
    "# Искусственный интеллект"
   ]
  },
  {
   "cell_type": "markdown",
   "metadata": {},
   "source": [
    "## NLP - Natural language processing"
   ]
  },
  {
   "cell_type": "markdown",
   "id": "bd08f95f-ff3d-41c2-aff8-a33c99136b40",
   "metadata": {},
   "source": [
    "Работаем с [датасет](\\datasets\\toxic.csv), который содержит 160.000 комментариев, где какие-то из них помеченых оценщиками, как токсичное поведение \\\n",
    "Разные платформы  имеют разные критерии определения токсичности комментариев, поэтому комментарии помечаются\n",
    "следующими категориями: **toxic**, **severe_toxic**, **obscene**, **threat**, **insult**, **identity_hate**"
   ]
  },
  {
   "cell_type": "markdown",
   "metadata": {},
   "source": [
    "### Task 1"
   ]
  },
  {
   "cell_type": "markdown",
   "id": "100e1fc2-654c-4f05-8171-8ac4ca7d9acc",
   "metadata": {},
   "source": [
    "Нарисуем *Bar-plot* с количеством комментариев для каждой категории токсичности и комментариев без токсичности \\\n",
    "Выведем для каждой категории посчитаное количество комментариев "
   ]
  },
  {
   "cell_type": "code",
   "execution_count": 1,
   "id": "718bad0e-c742-44b6-b6bf-6d9628d69785",
   "metadata": {
    "tags": []
   },
   "outputs": [],
   "source": [
    "import numpy as np\n",
    "import pandas as pd\n",
    "import seaborn as sns\n",
    "import matplotlib.pyplot as plt\n",
    "import nltk\n",
    "import re\n",
    "import string\n",
    "from nltk.corpus import stopwords\n",
    "from nltk.tokenize import word_tokenize\n",
    "from nltk.stem import WordNetLemmatizer\n",
    "import sklearn\n",
    "from sklearn.preprocessing import StandardScaler\n",
    "from sklearn.model_selection import train_test_split\n",
    "from sklearn.feature_extraction.text import TfidfVectorizer\n",
    "from sklearn.linear_model import RidgeClassifier\n",
    "from sklearn.metrics import roc_auc_score\n",
    "from scipy.sparse import csr_matrix\n",
    "from scipy.sparse import hstack"
   ]
  },
  {
   "cell_type": "code",
   "execution_count": 2,
   "id": "c53dce91-7c94-4d1f-9158-c9e8130b111d",
   "metadata": {
    "tags": []
   },
   "outputs": [
    {
     "data": {
      "image/png": "[encoded data removed]",
      "text/plain": [
       "<Figure size 900x600 with 1 Axes>"
      ]
     },
     "metadata": {},
     "output_type": "display_data"
    },
    {
     "name": "stdout",
     "output_type": "stream",
     "text": [
      "not_toxic        143346\n",
      "toxic             15294\n",
      "obscene            8449\n",
      "insult             7877\n",
      "severe_toxic       1595\n",
      "identity_hate      1405\n",
      "threat              478\n",
      "dtype: int64\n"
     ]
    }
   ],
   "source": [
    "df_comm = pd.read_csv('../datasets/toxic.csv', low_memory=False)\n",
    "df_comm['not_toxic'] = np.where(np.sum(df_comm[df_comm.columns.values[2:]], axis=1) == 0, 1, 0) # добавляем столбец 'not_toxic' c 1, если ни в\n",
    "                                                                                                # одном столбце нет 1 т.е. комент не токсик\n",
    "#df_comm[30:50]\n",
    "df_sum = df_comm.iloc[:, 2:].sum().sort_values(ascending=False)\n",
    "#df_sum[:]\n",
    "\n",
    "plt.figure(figsize = (9,6))\n",
    "sns.barplot(x=df_sum.index, y=df_sum.values)\n",
    "plt.xlabel('Категории')\n",
    "plt.ylabel('Количество комментариев')\n",
    "plt.show()\n",
    "print(df_sum)"
   ]
  },
  {
   "cell_type": "markdown",
   "id": "66f26770-8f33-4dec-887a-17cd969a4560",
   "metadata": {},
   "source": [
    "### Task 2"
   ]
  },
  {
   "cell_type": "markdown",
   "id": "a32b334c-b71f-43f7-9634-26ee83f63f94",
   "metadata": {},
   "source": [
    "Обработаем тексты комментариев, используя библиотеку *nltk*: \n",
    "* уберём стоп-слова из библиотеки *nltk*;\n",
    "* приведём к нижнему регистру;\n",
    "* уберём знаки препинания и цифр;\n",
    "* токенизируем, т.е. разбиваем на слова (токены);\n",
    "* оставляем только английские слова, т.е. буквенные токены\n",
    "\n",
    "Выведем количество токенов в комментарии с индексом `000103f0d9cfb60f`"
   ]
  },
  {
   "cell_type": "code",
   "execution_count": 3,
   "id": "d15048af-0b0e-4f3e-99c4-12c6ad865308",
   "metadata": {
    "tags": []
   },
   "outputs": [
    {
     "name": "stdout",
     "output_type": "stream",
     "text": [
      "Количество токенов для комментария с индексом 000103f0d9cfb60f - 9\n"
     ]
    }
   ],
   "source": [
    "stop_words = stopwords.words('english')\n",
    "\n",
    "def text_processing (text):\n",
    "    text_tok = text.lower() # приводим к нижнему регистру\n",
    "    text_tok = nltk.word_tokenize(text_tok) # разбиваем на токены по словам\n",
    "    text_tok = [word for word in text_tok if word.isalpha()] # оставляем только буквенные токены\n",
    "    text_tok = [w for w in text_tok if not w in stop_words] # удаляем стоп-слова\n",
    "    return text_tok\n",
    "\n",
    "df_comm['text_token'] = df_comm['comment_text'].apply(text_processing) # добавляем в df_comm столбец с токенами комментов\n",
    "#df_comm\n",
    "\n",
    "print('Количество токенов для комментария с индексом 000103f0d9cfb60f -',\n",
    "      len(df_comm[df_comm['id'] == '000103f0d9cfb60f'].iloc[0]['text_token']))"
   ]
  },
  {
   "cell_type": "markdown",
   "id": "33c1178f-ed36-472b-b31b-b3479d8aecea",
   "metadata": {
    "tags": []
   },
   "source": [
    "### Task 3"
   ]
  },
  {
   "cell_type": "markdown",
   "id": "2a8dcd9e-62cb-40bd-ba4c-42b991f88e19",
   "metadata": {},
   "source": [
    "Разделим выборку на тестовую и тренировочную, процент тестовой выборки 30% \\\n",
    "Используя матрицу функций *TF-IDF* с количеством признаков 3000 - преобразуем тексты комментариев \\\n",
    "Выведем размерность тренировочной выборки после преобразования"
   ]
  },
  {
   "cell_type": "code",
   "execution_count": 4,
   "id": "f5bc90d6-08a0-4d18-a3ec-4ebbfb3aee8c",
   "metadata": {
    "tags": []
   },
   "outputs": [
    {
     "name": "stdout",
     "output_type": "stream",
     "text": [
      "Размерность тренировочной выборки - (111699, 3000)\n"
     ]
    }
   ],
   "source": [
    "df_comm['text_token_j'] = [' '.join(i) for i in df_comm['text_token']] # объединим список токенов комента в строку и заносим в столбец df_comm\n",
    "x = df_comm['text_token_j']\n",
    "y = df_comm.iloc[:, 2:-2] # y - столбцы с 0 и 1 (токсич. нетоксич. коммент)\n",
    "x_train, x_test, y_train, y_test = train_test_split(x, y, random_state=21, test_size=0.3, shuffle=True)\n",
    "\n",
    "tf_idf = TfidfVectorizer(max_features=3000)\n",
    "x_train_tfidf = tf_idf.fit_transform(x_train)\n",
    "\n",
    "print('Размерность тренировочной выборки -', x_train_tfidf.shape)"
   ]
  },
  {
   "cell_type": "markdown",
   "id": "510ab52e-2dc0-46b3-80b2-2f5a587593b5",
   "metadata": {},
   "source": [
    "### Task 4"
   ]
  },
  {
   "cell_type": "markdown",
   "id": "a2408435-5ee0-42b4-97c2-32740925326b",
   "metadata": {},
   "source": [
    "Используя регрессию *RidgeClassifier* решим задачу классификации по нескольким меткам *Multi-Label* и посчитаем значение метрики `ROC-AUC` для оценки тестовой выборки"
   ]
  },
  {
   "cell_type": "code",
   "execution_count": 5,
   "id": "ce606d69-4889-4aad-9cc9-67072b2044d0",
   "metadata": {},
   "outputs": [
    {
     "name": "stdout",
     "output_type": "stream",
     "text": [
      "Значение ROC-AUC для тестовой выборки - 0.6641802122415228\n"
     ]
    }
   ],
   "source": [
    "r_clf = RidgeClassifier()\n",
    "r_clf.fit(x_train_tfidf, y_train)\n",
    "\n",
    "x_test_tfidf = tf_idf.transform(x_test)\n",
    "y_pred = r_clf.predict(x_test_tfidf)\n",
    "\n",
    "print('Значение ROC-AUC для тестовой выборки -', roc_auc_score(y_test, y_pred))"
   ]
  },
  {
   "cell_type": "markdown",
   "id": "2dd5b405-447d-420c-9841-72f0eaf03742",
   "metadata": {},
   "source": [
    "### Task 5"
   ]
  },
  {
   "cell_type": "markdown",
   "id": "2e8e7d65-26cf-4457-ae30-a59961fd02ca",
   "metadata": {},
   "source": [
    "Добавим к признакам матрицы *TF-IDF* ещё 4 признака, которые часто свойственны токсичным камментариям: \n",
    "* часто встречаются `!`;\n",
    "* большое количество знаков пунктуации;\n",
    "* написание текста `CapsLock`;\n",
    "* большое количество символов (`@`, `*`, `&` и пр.)\n",
    "\n",
    "Снова обучим модель и посчитаем значение метрики `ROC-AUC` для оценки новой выборки\n"
   ]
  },
  {
   "cell_type": "code",
   "execution_count": 6,
   "id": "895ab80f-6041-4e07-babd-bfb04275e911",
   "metadata": {},
   "outputs": [
    {
     "name": "stdout",
     "output_type": "stream",
     "text": [
      "Значение ROC-AUC для новой выборки - 0.6510125441758036\n"
     ]
    }
   ],
   "source": [
    "df_tox = df_comm.loc [:, :'identity_hate']\n",
    "\n",
    "def tox_processing (text):\n",
    "    tox_tok = nltk.word_tokenize(text)\n",
    "    return tox_tok\n",
    "\n",
    "df_tox['text_token'] = df_tox['comment_text'].apply(tox_processing)\n",
    "df_tox['text_token_j'] = [' '.join(i) for i in df_tox['text_token']]\n",
    "xt = df_tox['text_token_j']\n",
    "yt = df_tox.iloc[:, 2:-2]\n",
    "#df_tox\n",
    "\n",
    "xt_train, xt_test, yt_train, yt_test = train_test_split(xt, yt, random_state=21, test_size=0.3, shuffle=True)\n",
    "tfidf_t = TfidfVectorizer(max_features=3000)\n",
    "xt_train_tfidf = tfidf_t.fit_transform(xt_train)\n",
    "#xt_train_tfidf\n",
    "\n",
    "# создаём нов. признаки\n",
    "exclam_train = df_tox.loc[xt_train.index]['comment_text'].apply(lambda x: x.count('!')) # 1.восклицательные знаки\n",
    "exclam_test = df_tox.loc[xt_test.index]['comment_text'].apply(lambda x: x.count('!'))\n",
    "punct_train = df_tox.loc[xt_train.index]['comment_text'].apply(lambda  x: sum(x.count(w) for w in '.,;:?')) # 2.пунктуация\n",
    "punct_test = df_tox.loc[xt_test.index]['comment_text'].apply(lambda  x: sum(x.count(w) for w in '.,;:?'))\n",
    "upperc_train = df_tox.loc[xt_train.index]['comment_text'].apply(lambda x: sum(1 for c in x if c.isupper())) # 3.CapsLock\n",
    "upperc_test = df_tox.loc[xt_test.index]['comment_text'].apply(lambda x: sum(1 for c in x if c.isupper()))\n",
    "symbol_train = df_tox.loc[xt_train.index]['comment_text'].apply(lambda  x: sum(x.count(w) for w in '@_*&$%')) # 4.особые символы\n",
    "symbol_test = df_tox.loc[xt_test.index]['comment_text'].apply(lambda  x: sum(x.count(w) for w in '@_*&$%'))\n",
    "#exclam_train, punct_train, upperc_train, symbol_train\n",
    "\n",
    "new_train = csr_matrix(np.array([exclam_train, punct_train, upperc_train, symbol_train]).T) #создали и транспонировали матрицу нов. признаков\n",
    "new_test = csr_matrix(np.array([exclam_test, punct_test, upperc_test, symbol_test]).T)\n",
    "union_train = hstack((x_train_tfidf, new_train)) # объединили признаки TF-IDF и нов.\n",
    "union_test = hstack((x_test_tfidf, new_test))\n",
    "rnew_clf = RidgeClassifier() # снова обучаем модель с нов. признаками\n",
    "rnew_clf.fit(union_train, yt_train)\n",
    "yt_pred = rnew_clf.predict(union_test)\n",
    "\n",
    "print('Значение ROC-AUC для новой выборки -', roc_auc_score(yt_test, yt_pred))"
   ]
  },
  {
   "cell_type": "code",
   "execution_count": null,
   "id": "dcc51a41-c9e9-4307-9453-c63f13ed5b73",
   "metadata": {},
   "outputs": [],
   "source": []
  }
 ],
 "metadata": {
  "kernelspec": {
   "display_name": "Python 3 (ipykernel)",
   "language": "python",
   "name": "python3"
  },
  "language_info": {
   "codemirror_mode": {
    "name": "ipython",
    "version": 3
   },
   "file_extension": ".py",
   "mimetype": "text/x-python",
   "name": "python",
   "nbconvert_exporter": "python",
   "pygments_lexer": "ipython3",
   "version": "3.11.3"
  }
 },
 "nbformat": 4,
 "nbformat_minor": 5
}
