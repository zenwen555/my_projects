{
 "cells": [
  {
   "cell_type": "markdown",
   "metadata": {},
   "source": [
    "# Введение в Pandas"
   ]
  },
  {
   "cell_type": "code",
   "execution_count": 1,
   "metadata": {},
   "outputs": [
    {
     "data": {
      "text/html": [
       "<div>\n",
       "<style scoped>\n",
       "    .dataframe tbody tr th:only-of-type {\n",
       "        vertical-align: middle;\n",
       "    }\n",
       "\n",
       "    .dataframe tbody tr th {\n",
       "        vertical-align: top;\n",
       "    }\n",
       "\n",
       "    .dataframe thead th {\n",
       "        text-align: right;\n",
       "    }\n",
       "</style>\n",
       "<table border=\"1\" class=\"dataframe\">\n",
       "  <thead>\n",
       "    <tr style=\"text-align: right;\">\n",
       "      <th></th>\n",
       "      <th>Duration (in seconds)</th>\n",
       "      <th>Q2</th>\n",
       "      <th>Q3</th>\n",
       "      <th>Q4</th>\n",
       "      <th>Q5</th>\n",
       "      <th>Q6_1</th>\n",
       "      <th>Q6_2</th>\n",
       "      <th>Q6_3</th>\n",
       "      <th>Q6_4</th>\n",
       "      <th>Q6_5</th>\n",
       "      <th>...</th>\n",
       "      <th>Q44_3</th>\n",
       "      <th>Q44_4</th>\n",
       "      <th>Q44_5</th>\n",
       "      <th>Q44_6</th>\n",
       "      <th>Q44_7</th>\n",
       "      <th>Q44_8</th>\n",
       "      <th>Q44_9</th>\n",
       "      <th>Q44_10</th>\n",
       "      <th>Q44_11</th>\n",
       "      <th>Q44_12</th>\n",
       "    </tr>\n",
       "  </thead>\n",
       "  <tbody>\n",
       "    <tr>\n",
       "      <th>0</th>\n",
       "      <td>Duration (in seconds)</td>\n",
       "      <td>What is your age (# years)?</td>\n",
       "      <td>What is your gender? - Selected Choice</td>\n",
       "      <td>In which country do you currently reside?</td>\n",
       "      <td>Are you currently a student? (high school, uni...</td>\n",
       "      <td>On which platforms have you begun or completed...</td>\n",
       "      <td>On which platforms have you begun or completed...</td>\n",
       "      <td>On which platforms have you begun or completed...</td>\n",
       "      <td>On which platforms have you begun or completed...</td>\n",
       "      <td>On which platforms have you begun or completed...</td>\n",
       "      <td>...</td>\n",
       "      <td>Who/what are your favorite media sources that ...</td>\n",
       "      <td>Who/what are your favorite media sources that ...</td>\n",
       "      <td>Who/what are your favorite media sources that ...</td>\n",
       "      <td>Who/what are your favorite media sources that ...</td>\n",
       "      <td>Who/what are your favorite media sources that ...</td>\n",
       "      <td>Who/what are your favorite media sources that ...</td>\n",
       "      <td>Who/what are your favorite media sources that ...</td>\n",
       "      <td>Who/what are your favorite media sources that ...</td>\n",
       "      <td>Who/what are your favorite media sources that ...</td>\n",
       "      <td>Who/what are your favorite media sources that ...</td>\n",
       "    </tr>\n",
       "    <tr>\n",
       "      <th>1</th>\n",
       "      <td>121</td>\n",
       "      <td>30-34</td>\n",
       "      <td>Man</td>\n",
       "      <td>India</td>\n",
       "      <td>No</td>\n",
       "      <td>NaN</td>\n",
       "      <td>NaN</td>\n",
       "      <td>NaN</td>\n",
       "      <td>NaN</td>\n",
       "      <td>NaN</td>\n",
       "      <td>...</td>\n",
       "      <td>NaN</td>\n",
       "      <td>NaN</td>\n",
       "      <td>NaN</td>\n",
       "      <td>NaN</td>\n",
       "      <td>NaN</td>\n",
       "      <td>NaN</td>\n",
       "      <td>NaN</td>\n",
       "      <td>NaN</td>\n",
       "      <td>NaN</td>\n",
       "      <td>NaN</td>\n",
       "    </tr>\n",
       "    <tr>\n",
       "      <th>2</th>\n",
       "      <td>462</td>\n",
       "      <td>30-34</td>\n",
       "      <td>Man</td>\n",
       "      <td>Algeria</td>\n",
       "      <td>No</td>\n",
       "      <td>NaN</td>\n",
       "      <td>NaN</td>\n",
       "      <td>NaN</td>\n",
       "      <td>NaN</td>\n",
       "      <td>NaN</td>\n",
       "      <td>...</td>\n",
       "      <td>NaN</td>\n",
       "      <td>NaN</td>\n",
       "      <td>NaN</td>\n",
       "      <td>NaN</td>\n",
       "      <td>NaN</td>\n",
       "      <td>NaN</td>\n",
       "      <td>NaN</td>\n",
       "      <td>NaN</td>\n",
       "      <td>NaN</td>\n",
       "      <td>NaN</td>\n",
       "    </tr>\n",
       "    <tr>\n",
       "      <th>3</th>\n",
       "      <td>293</td>\n",
       "      <td>18-21</td>\n",
       "      <td>Man</td>\n",
       "      <td>Egypt</td>\n",
       "      <td>Yes</td>\n",
       "      <td>Coursera</td>\n",
       "      <td>edX</td>\n",
       "      <td>NaN</td>\n",
       "      <td>DataCamp</td>\n",
       "      <td>NaN</td>\n",
       "      <td>...</td>\n",
       "      <td>NaN</td>\n",
       "      <td>Kaggle (notebooks, forums, etc)</td>\n",
       "      <td>NaN</td>\n",
       "      <td>YouTube (Kaggle YouTube, Cloud AI Adventures, ...</td>\n",
       "      <td>Podcasts (Chai Time Data Science, O’Reilly Dat...</td>\n",
       "      <td>NaN</td>\n",
       "      <td>NaN</td>\n",
       "      <td>NaN</td>\n",
       "      <td>NaN</td>\n",
       "      <td>NaN</td>\n",
       "    </tr>\n",
       "    <tr>\n",
       "      <th>4</th>\n",
       "      <td>851</td>\n",
       "      <td>55-59</td>\n",
       "      <td>Man</td>\n",
       "      <td>France</td>\n",
       "      <td>No</td>\n",
       "      <td>Coursera</td>\n",
       "      <td>NaN</td>\n",
       "      <td>Kaggle Learn Courses</td>\n",
       "      <td>NaN</td>\n",
       "      <td>NaN</td>\n",
       "      <td>...</td>\n",
       "      <td>NaN</td>\n",
       "      <td>Kaggle (notebooks, forums, etc)</td>\n",
       "      <td>Course Forums (forums.fast.ai, Coursera forums...</td>\n",
       "      <td>NaN</td>\n",
       "      <td>NaN</td>\n",
       "      <td>Blogs (Towards Data Science, Analytics Vidhya,...</td>\n",
       "      <td>NaN</td>\n",
       "      <td>NaN</td>\n",
       "      <td>NaN</td>\n",
       "      <td>NaN</td>\n",
       "    </tr>\n",
       "    <tr>\n",
       "      <th>5</th>\n",
       "      <td>232</td>\n",
       "      <td>45-49</td>\n",
       "      <td>Man</td>\n",
       "      <td>India</td>\n",
       "      <td>Yes</td>\n",
       "      <td>NaN</td>\n",
       "      <td>NaN</td>\n",
       "      <td>NaN</td>\n",
       "      <td>NaN</td>\n",
       "      <td>NaN</td>\n",
       "      <td>...</td>\n",
       "      <td>NaN</td>\n",
       "      <td>NaN</td>\n",
       "      <td>NaN</td>\n",
       "      <td>NaN</td>\n",
       "      <td>NaN</td>\n",
       "      <td>Blogs (Towards Data Science, Analytics Vidhya,...</td>\n",
       "      <td>NaN</td>\n",
       "      <td>NaN</td>\n",
       "      <td>NaN</td>\n",
       "      <td>NaN</td>\n",
       "    </tr>\n",
       "    <tr>\n",
       "      <th>6</th>\n",
       "      <td>277</td>\n",
       "      <td>18-21</td>\n",
       "      <td>Woman</td>\n",
       "      <td>India</td>\n",
       "      <td>Yes</td>\n",
       "      <td>Coursera</td>\n",
       "      <td>edX</td>\n",
       "      <td>NaN</td>\n",
       "      <td>DataCamp</td>\n",
       "      <td>NaN</td>\n",
       "      <td>...</td>\n",
       "      <td>NaN</td>\n",
       "      <td>Kaggle (notebooks, forums, etc)</td>\n",
       "      <td>Course Forums (forums.fast.ai, Coursera forums...</td>\n",
       "      <td>YouTube (Kaggle YouTube, Cloud AI Adventures, ...</td>\n",
       "      <td>NaN</td>\n",
       "      <td>Blogs (Towards Data Science, Analytics Vidhya,...</td>\n",
       "      <td>NaN</td>\n",
       "      <td>NaN</td>\n",
       "      <td>NaN</td>\n",
       "      <td>NaN</td>\n",
       "    </tr>\n",
       "  </tbody>\n",
       "</table>\n",
       "<p>7 rows × 296 columns</p>\n",
       "</div>"
      ],
      "text/plain": [
       "   Duration (in seconds)                           Q2   \n",
       "0  Duration (in seconds)  What is your age (# years)?  \\\n",
       "1                    121                        30-34   \n",
       "2                    462                        30-34   \n",
       "3                    293                        18-21   \n",
       "4                    851                        55-59   \n",
       "5                    232                        45-49   \n",
       "6                    277                        18-21   \n",
       "\n",
       "                                       Q3   \n",
       "0  What is your gender? - Selected Choice  \\\n",
       "1                                     Man   \n",
       "2                                     Man   \n",
       "3                                     Man   \n",
       "4                                     Man   \n",
       "5                                     Man   \n",
       "6                                   Woman   \n",
       "\n",
       "                                          Q4   \n",
       "0  In which country do you currently reside?  \\\n",
       "1                                      India   \n",
       "2                                    Algeria   \n",
       "3                                      Egypt   \n",
       "4                                     France   \n",
       "5                                      India   \n",
       "6                                      India   \n",
       "\n",
       "                                                  Q5   \n",
       "0  Are you currently a student? (high school, uni...  \\\n",
       "1                                                 No   \n",
       "2                                                 No   \n",
       "3                                                Yes   \n",
       "4                                                 No   \n",
       "5                                                Yes   \n",
       "6                                                Yes   \n",
       "\n",
       "                                                Q6_1   \n",
       "0  On which platforms have you begun or completed...  \\\n",
       "1                                                NaN   \n",
       "2                                                NaN   \n",
       "3                                           Coursera   \n",
       "4                                           Coursera   \n",
       "5                                                NaN   \n",
       "6                                           Coursera   \n",
       "\n",
       "                                                Q6_2   \n",
       "0  On which platforms have you begun or completed...  \\\n",
       "1                                                NaN   \n",
       "2                                                NaN   \n",
       "3                                                edX   \n",
       "4                                                NaN   \n",
       "5                                                NaN   \n",
       "6                                                edX   \n",
       "\n",
       "                                                Q6_3   \n",
       "0  On which platforms have you begun or completed...  \\\n",
       "1                                                NaN   \n",
       "2                                                NaN   \n",
       "3                                                NaN   \n",
       "4                               Kaggle Learn Courses   \n",
       "5                                                NaN   \n",
       "6                                                NaN   \n",
       "\n",
       "                                                Q6_4   \n",
       "0  On which platforms have you begun or completed...  \\\n",
       "1                                                NaN   \n",
       "2                                                NaN   \n",
       "3                                           DataCamp   \n",
       "4                                                NaN   \n",
       "5                                                NaN   \n",
       "6                                           DataCamp   \n",
       "\n",
       "                                                Q6_5  ...   \n",
       "0  On which platforms have you begun or completed...  ...  \\\n",
       "1                                                NaN  ...   \n",
       "2                                                NaN  ...   \n",
       "3                                                NaN  ...   \n",
       "4                                                NaN  ...   \n",
       "5                                                NaN  ...   \n",
       "6                                                NaN  ...   \n",
       "\n",
       "                                               Q44_3   \n",
       "0  Who/what are your favorite media sources that ...  \\\n",
       "1                                                NaN   \n",
       "2                                                NaN   \n",
       "3                                                NaN   \n",
       "4                                                NaN   \n",
       "5                                                NaN   \n",
       "6                                                NaN   \n",
       "\n",
       "                                               Q44_4   \n",
       "0  Who/what are your favorite media sources that ...  \\\n",
       "1                                                NaN   \n",
       "2                                                NaN   \n",
       "3                    Kaggle (notebooks, forums, etc)   \n",
       "4                    Kaggle (notebooks, forums, etc)   \n",
       "5                                                NaN   \n",
       "6                    Kaggle (notebooks, forums, etc)   \n",
       "\n",
       "                                               Q44_5   \n",
       "0  Who/what are your favorite media sources that ...  \\\n",
       "1                                                NaN   \n",
       "2                                                NaN   \n",
       "3                                                NaN   \n",
       "4  Course Forums (forums.fast.ai, Coursera forums...   \n",
       "5                                                NaN   \n",
       "6  Course Forums (forums.fast.ai, Coursera forums...   \n",
       "\n",
       "                                               Q44_6   \n",
       "0  Who/what are your favorite media sources that ...  \\\n",
       "1                                                NaN   \n",
       "2                                                NaN   \n",
       "3  YouTube (Kaggle YouTube, Cloud AI Adventures, ...   \n",
       "4                                                NaN   \n",
       "5                                                NaN   \n",
       "6  YouTube (Kaggle YouTube, Cloud AI Adventures, ...   \n",
       "\n",
       "                                               Q44_7   \n",
       "0  Who/what are your favorite media sources that ...  \\\n",
       "1                                                NaN   \n",
       "2                                                NaN   \n",
       "3  Podcasts (Chai Time Data Science, O’Reilly Dat...   \n",
       "4                                                NaN   \n",
       "5                                                NaN   \n",
       "6                                                NaN   \n",
       "\n",
       "                                               Q44_8   \n",
       "0  Who/what are your favorite media sources that ...  \\\n",
       "1                                                NaN   \n",
       "2                                                NaN   \n",
       "3                                                NaN   \n",
       "4  Blogs (Towards Data Science, Analytics Vidhya,...   \n",
       "5  Blogs (Towards Data Science, Analytics Vidhya,...   \n",
       "6  Blogs (Towards Data Science, Analytics Vidhya,...   \n",
       "\n",
       "                                               Q44_9   \n",
       "0  Who/what are your favorite media sources that ...  \\\n",
       "1                                                NaN   \n",
       "2                                                NaN   \n",
       "3                                                NaN   \n",
       "4                                                NaN   \n",
       "5                                                NaN   \n",
       "6                                                NaN   \n",
       "\n",
       "                                              Q44_10   \n",
       "0  Who/what are your favorite media sources that ...  \\\n",
       "1                                                NaN   \n",
       "2                                                NaN   \n",
       "3                                                NaN   \n",
       "4                                                NaN   \n",
       "5                                                NaN   \n",
       "6                                                NaN   \n",
       "\n",
       "                                              Q44_11   \n",
       "0  Who/what are your favorite media sources that ...  \\\n",
       "1                                                NaN   \n",
       "2                                                NaN   \n",
       "3                                                NaN   \n",
       "4                                                NaN   \n",
       "5                                                NaN   \n",
       "6                                                NaN   \n",
       "\n",
       "                                              Q44_12  \n",
       "0  Who/what are your favorite media sources that ...  \n",
       "1                                                NaN  \n",
       "2                                                NaN  \n",
       "3                                                NaN  \n",
       "4                                                NaN  \n",
       "5                                                NaN  \n",
       "6                                                NaN  \n",
       "\n",
       "[7 rows x 296 columns]"
      ]
     },
     "execution_count": 1,
     "metadata": {},
     "output_type": "execute_result"
    }
   ],
   "source": [
    "import pandas as pd\n",
    "#import numpy as np\n",
    "pd.set_option('display.max_rows', 50)\n",
    "data = pd.read_csv('../datasets/kaggle_survey_2022_responses.csv', low_memory=False)#, encoding='UTF-8')\n",
    "data.head(7) #для просмотра первых n строк\n",
    "#print(data.columns.tolist())\n",
    "#print(data.iloc[0])"
   ]
  },
  {
   "cell_type": "markdown",
   "metadata": {},
   "source": [
    "### Task 1"
   ]
  },
  {
   "cell_type": "markdown",
   "metadata": {},
   "source": [
    "Найдём самый часто встречающийся возраст респондентов"
   ]
  },
  {
   "cell_type": "code",
   "execution_count": 2,
   "metadata": {},
   "outputs": [
    {
     "name": "stdout",
     "output_type": "stream",
     "text": [
      "Самый часто встречаемый возраст респондентов:\n"
     ]
    },
    {
     "data": {
      "text/plain": [
       "'18-21'"
      ]
     },
     "execution_count": 2,
     "metadata": {},
     "output_type": "execute_result"
    }
   ],
   "source": [
    "print('Самый часто встречаемый возраст респондентов:')\n",
    "data['Q2'].value_counts().idxmax() #.iloc[:1]"
   ]
  },
  {
   "cell_type": "markdown",
   "metadata": {},
   "source": [
    "### Task 2"
   ]
  },
  {
   "cell_type": "markdown",
   "metadata": {},
   "source": [
    "Найдём долю женщин среди русских участников опроса, тех что уже не студенты"
   ]
  },
  {
   "cell_type": "code",
   "execution_count": 3,
   "metadata": {},
   "outputs": [
    {
     "name": "stdout",
     "output_type": "stream",
     "text": [
      "Доля женщин среди русских участников опроса, которые уже не студенты:\n"
     ]
    },
    {
     "data": {
      "text/plain": [
       "0.24"
      ]
     },
     "execution_count": 3,
     "metadata": {},
     "output_type": "execute_result"
    }
   ],
   "source": [
    "data = pd.read_csv('../datasets/kaggle_survey_2022_responses.csv', low_memory=False)\n",
    "wom_ru_notst = (data['Q3'].str.contains('Woman') & data['Q4'].str.contains('Russia') & data['Q5'].str.contains('No')).sum()\n",
    "all_ru_notst = (data['Q4'].str.contains('Russia') & data['Q5'].str.contains('No')).sum()\n",
    "#wom_ru_notst\n",
    "#all_ru_notst\n",
    "print('Доля женщин среди русских участников опроса, которые уже не студенты:')\n",
    "round((wom_ru_notst/all_ru_notst), 2)"
   ]
  },
  {
   "cell_type": "markdown",
   "metadata": {},
   "source": [
    "### Task 3"
   ]
  },
  {
   "cell_type": "markdown",
   "metadata": {},
   "source": [
    "Найдём среднюю продолжительность заполнения опроса, результат выведем в *минутах*"
   ]
  },
  {
   "cell_type": "code",
   "execution_count": 4,
   "metadata": {},
   "outputs": [
    {
     "name": "stdout",
     "output_type": "stream",
     "text": [
      "Среднее время заполнения опроса в минутах:\n"
     ]
    },
    {
     "data": {
      "text/plain": [
       "168.17"
      ]
     },
     "execution_count": 4,
     "metadata": {},
     "output_type": "execute_result"
    }
   ],
   "source": [
    "data = pd.read_csv('../datasets/kaggle_survey_2022_responses.csv', low_memory=False)\n",
    "questions = data.iloc[0]\n",
    "#questions[50:100]\n",
    "#questions['Q12_1']\n",
    "#questions['Q23']\n",
    "data.drop(0, inplace=True)\n",
    "#data.head(5)\n",
    "data['Duration (in seconds)'] = data['Duration (in seconds)'].astype(int)\n",
    "print('Среднее время заполнения опроса в минутах:')\n",
    "round(data['Duration (in seconds)'].mean() / 60, 2)"
   ]
  },
  {
   "cell_type": "markdown",
   "metadata": {},
   "source": [
    "### Task 4"
   ]
  },
  {
   "cell_type": "markdown",
   "metadata": {},
   "source": [
    "Выведем 3 самых частовстречающихся образовательных курса, которые проходили респонденты"
   ]
  },
  {
   "cell_type": "code",
   "execution_count": 5,
   "metadata": {},
   "outputs": [
    {
     "name": "stdout",
     "output_type": "stream",
     "text": [
      "Топ-3 образовательных курса, которые указали респонденты:\n"
     ]
    },
    {
     "data": {
      "text/plain": [
       "value\n",
       "Coursera                                                 9699\n",
       "University Courses (resulting in a university degree)    6780\n",
       "Kaggle Learn Courses                                     6628\n",
       "Name: count, dtype: int64"
      ]
     },
     "execution_count": 5,
     "metadata": {},
     "output_type": "execute_result"
    }
   ],
   "source": [
    "data = pd.read_csv('../datasets/kaggle_survey_2022_responses.csv', low_memory=False)\n",
    "add_q6 = [col for col in data.columns if col.startswith('Q6')]\n",
    "#add_q6\n",
    "course = data[add_q6].melt(var_name='вопрос', value_vars=add_q6)\n",
    "#course\n",
    "print('Топ-3 образовательных курса, которые указали респонденты:')\n",
    "course['value'].value_counts().iloc[:3]"
   ]
  },
  {
   "cell_type": "markdown",
   "metadata": {},
   "source": [
    "### Task 5"
   ]
  },
  {
   "cell_type": "markdown",
   "metadata": {},
   "source": [
    "Выведем 5 самых частовстречающихся языков программирования, используемых специалистами *Data Scientists* в своей работе"
   ]
  },
  {
   "cell_type": "code",
   "execution_count": 6,
   "metadata": {},
   "outputs": [
    {
     "name": "stdout",
     "output_type": "stream",
     "text": [
      "Топ-5 языков программирования, которые регулярно используют Data Scientists:\n"
     ]
    },
    {
     "data": {
      "text/plain": [
       "value\n",
       "Python        1808\n",
       "SQL           1140\n",
       "R              530\n",
       "Bash           248\n",
       "Javascript     187\n",
       "Name: count, dtype: int64"
      ]
     },
     "execution_count": 6,
     "metadata": {},
     "output_type": "execute_result"
    }
   ],
   "source": [
    "data = pd.read_csv('../datasets/kaggle_survey_2022_responses.csv', low_memory=False)\n",
    "data_ds = data[data['Q23']=='Data Scientist']\n",
    "#data_ds\n",
    "add_q12 = [col for col in data_ds.columns if col.startswith('Q12')]\n",
    "add_q12\n",
    "pr_lang = data_ds[add_q12].melt(var_name='вопрос', value_vars=add_q12)\n",
    "print('Топ-5 языков программирования, которые регулярно используют Data Scientists:')\n",
    "pr_lang['value'].value_counts().iloc[:5]"
   ]
  },
  {
   "cell_type": "markdown",
   "metadata": {},
   "source": [
    "### Task 6"
   ]
  },
  {
   "cell_type": "markdown",
   "metadata": {},
   "source": [
    "Найдём средний доход специалистов *Data Scientist* и средний доход специалистов *Machine Learning/ MLops Engineer* \\\n",
    "В колонке *Q29* доход указан в виде промежутка, поэтому для расчёта используем среднее значение этого промежутка"
   ]
  },
  {
   "cell_type": "code",
   "execution_count": 7,
   "metadata": {},
   "outputs": [
    {
     "name": "stdout",
     "output_type": "stream",
     "text": [
      "Средний доход среди Data Scientist специалистов: 70337.0\n",
      "Средний доход среди Machine Learning/ MLops Engineer: 67437.0\n"
     ]
    }
   ],
   "source": [
    "data = pd.read_csv('../datasets/kaggle_survey_2022_responses.csv', low_memory=False)\n",
    "data.drop(0, inplace=True)\n",
    "wage = data[['Q23', 'Q29']][(data['Q23']=='Data Scientist') | (data['Q23']=='Machine Learning/ MLops Engineer')]\n",
    "wage = wage.dropna()\n",
    "#wage.head(30)\n",
    "wage['Q29'] = wage['Q29'].apply(lambda x: \"\".join(i for i in x if (i.isdecimal()) | (i=='-')))\n",
    "wage['Q29'] = pd.Series(wage['Q29']).str.replace('1000000', '1000000-1000000', regex=True)\n",
    "#wage['Q29'].unique()\n",
    "#wage['Q29'].value_counts()\n",
    "wage['Q29_min'] = wage['Q29'].str.split('-').str.get(0)\n",
    "wage['Q29_max'] = wage['Q29'].str.split('-').str.get(1)\n",
    "wage['Q29_min'] = wage['Q29_min'].astype(str).astype(float)\n",
    "wage['Q29_max'] = wage['Q29_max'].astype(str).astype(float)\n",
    "wage['Q29'] = (wage['Q29_min'] + wage['Q29_max'])/2.0\n",
    "#wage\n",
    "wage_ds = wage[wage['Q23']=='Data Scientist']\n",
    "wage_ml = wage[wage['Q23']=='Machine Learning/ MLops Engineer']\n",
    "m_wage_ds = round(wage_ds['Q29'].mean(), 0)\n",
    "m_wage_ml = round(wage_ml['Q29'].mean(), 0)\n",
    "print('Средний доход среди Data Scientist специалистов:', m_wage_ds)\n",
    "print('Средний доход среди Machine Learning/ MLops Engineer:', m_wage_ml)"
   ]
  }
 ],
 "metadata": {
  "kernelspec": {
   "display_name": "Python 3 (ipykernel)",
   "language": "python",
   "name": "python3"
  },
  "language_info": {
   "codemirror_mode": {
    "name": "ipython",
    "version": 3
   },
   "file_extension": ".py",
   "mimetype": "text/x-python",
   "name": "python",
   "nbconvert_exporter": "python",
   "pygments_lexer": "ipython3",
   "version": "3.11.3"
  }
 },
 "nbformat": 4,
 "nbformat_minor": 4
}
