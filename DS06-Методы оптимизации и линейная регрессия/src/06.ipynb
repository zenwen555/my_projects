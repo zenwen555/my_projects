{
 "cells": [
  {
   "cell_type": "markdown",
   "id": "f59af801-5930-4a03-984c-f3a63d29a5ba",
   "metadata": {},
   "source": [
    "# Методы оптимизации и линейная регрессия\n"
   ]
  },
  {
   "cell_type": "code",
   "execution_count": 2,
   "id": "de25621d-4eda-459b-a1da-2c21813eea1c",
   "metadata": {
    "tags": []
   },
   "outputs": [],
   "source": [
    "import numpy as np\n",
    "import matplotlib.pyplot as plt\n",
    "from sympy import *"
   ]
  },
  {
   "cell_type": "markdown",
   "id": "35d995e1-34e1-450c-a88d-96104b2df726",
   "metadata": {},
   "source": [
    "### Task 1"
   ]
  },
  {
   "cell_type": "markdown",
   "metadata": {},
   "source": [
    "Используя функции библиотеки *sympy*, напишим функцию, на входе которой математическая функция `y=f(x)` вида `x**2 - x + 21`, а на выходе `2𝑥−1`"
   ]
  },
  {
   "cell_type": "code",
   "execution_count": 3,
   "id": "18986719-68b3-4295-885a-4dfc0d7c5021",
   "metadata": {
    "tags": []
   },
   "outputs": [
    {
     "data": {
      "text/latex": [
       "$\\displaystyle 2 x - 1$"
      ],
      "text/plain": [
       "2*x - 1"
      ]
     },
     "execution_count": 3,
     "metadata": {},
     "output_type": "execute_result"
    }
   ],
   "source": [
    "import sympy as sym\n",
    "\n",
    "x = sym.symbols('x')\n",
    "\n",
    "def function_1(q):\n",
    "    y_1 = sym.diff(q, x)\n",
    "    return y_1\n",
    "\n",
    "f = x**2 - x + 21\n",
    "function_1(f)"
   ]
  },
  {
   "cell_type": "markdown",
   "id": "f0c49d13-79db-469a-be74-bd41777ef05a",
   "metadata": {
    "tags": []
   },
   "source": [
    "### Task 2"
   ]
  },
  {
   "cell_type": "markdown",
   "metadata": {},
   "source": [
    "Напишим функцию на входе которой математическая функция `p=f(x,y)`, двух переменных вида `(x-y)**2`, а также переменная, по которой нужно посчитать частную производную \\\n",
    "На выходе функции частная производная по выбранной переменной"
   ]
  },
  {
   "cell_type": "code",
   "execution_count": 4,
   "id": "ad75021c-eff5-485d-b370-0815d0115b83",
   "metadata": {
    "tags": []
   },
   "outputs": [
    {
     "data": {
      "text/latex": [
       "$\\displaystyle 2 x - 2 y$"
      ],
      "text/plain": [
       "2*x - 2*y"
      ]
     },
     "execution_count": 4,
     "metadata": {},
     "output_type": "execute_result"
    }
   ],
   "source": [
    "import sympy as sym\n",
    "\n",
    "x , y = sym.symbols('x y')\n",
    "\n",
    "def function_2(q, a):\n",
    "    deriv_2 = sym.diff(q, a)\n",
    "    return deriv_2\n",
    "\n",
    "f = (x-y)**2\n",
    "function_2 (f, x)"
   ]
  },
  {
   "cell_type": "code",
   "execution_count": 5,
   "id": "383d7369-d2f2-43f2-8300-bf285751acf1",
   "metadata": {
    "tags": []
   },
   "outputs": [
    {
     "data": {
      "text/latex": [
       "$\\displaystyle - 2 x + 2 y$"
      ],
      "text/plain": [
       "-2*x + 2*y"
      ]
     },
     "execution_count": 5,
     "metadata": {},
     "output_type": "execute_result"
    }
   ],
   "source": [
    "function_2(f, y)"
   ]
  },
  {
   "cell_type": "markdown",
   "id": "30c90ce8-7a46-4803-809a-fd037adeea44",
   "metadata": {},
   "source": [
    "### Task 3"
   ]
  },
  {
   "cell_type": "markdown",
   "id": "aea0c68c-85e2-4ec0-b748-7f9b3096e6d8",
   "metadata": {},
   "source": [
    "У нас есть истинное значений `y_true` и предсказанное значение `y_pred`, описанное линейнным уравнением вида `y_pred = w*x + b` \\\n",
    "Необходимо вывести формулу квадратного отклонения между истинным и предсказанным значениями и частные производные этой формулы по переменным `w` и `b`"
   ]
  },
  {
   "cell_type": "code",
   "execution_count": 6,
   "id": "f5ab9482-4e51-40fc-9a6b-e5ae4f163dc5",
   "metadata": {
    "tags": []
   },
   "outputs": [
    {
     "name": "stdout",
     "output_type": "stream",
     "text": [
      "Формулу квадратного отклонения между истинным и предсказанным значениями:\n"
     ]
    },
    {
     "data": {
      "text/latex": [
       "$\\displaystyle \\left(- b - w x + y\\right)^{2}$"
      ],
      "text/plain": [
       "(-b - w*x + y)**2"
      ]
     },
     "execution_count": 6,
     "metadata": {},
     "output_type": "execute_result"
    }
   ],
   "source": [
    "x, y , w, b = sym.symbols('x, y, w, b')\n",
    "y_predy = w*x + b\n",
    "y_true = y\n",
    "MSE = (y_true - y_predy)**2\n",
    "print ('Формулу квадратного отклонения между истинным и предсказанным значениями:')\n",
    "MSE"
   ]
  },
  {
   "cell_type": "code",
   "execution_count": 7,
   "id": "8c109e84-1c63-488b-879f-e1b4c00170d8",
   "metadata": {
    "tags": []
   },
   "outputs": [
    {
     "name": "stdout",
     "output_type": "stream",
     "text": [
      "Частная производная квадратного отклонения по переменной w:\n"
     ]
    },
    {
     "data": {
      "text/latex": [
       "$\\displaystyle - 2 x \\left(- b - w x + y\\right)$"
      ],
      "text/plain": [
       "-2*x*(-b - w*x + y)"
      ]
     },
     "execution_count": 7,
     "metadata": {},
     "output_type": "execute_result"
    }
   ],
   "source": [
    "print ('Частная производная квадратного отклонения по переменной w:')\n",
    "function_2 (MSE, w)"
   ]
  },
  {
   "cell_type": "code",
   "execution_count": 8,
   "id": "50768163-1b8b-4342-81ca-178f954184a7",
   "metadata": {
    "tags": []
   },
   "outputs": [
    {
     "name": "stdout",
     "output_type": "stream",
     "text": [
      "Частная производная квадратного отклонения по переменной b:\n"
     ]
    },
    {
     "data": {
      "text/latex": [
       "$\\displaystyle 2 b + 2 w x - 2 y$"
      ],
      "text/plain": [
       "2*b + 2*w*x - 2*y"
      ]
     },
     "execution_count": 8,
     "metadata": {},
     "output_type": "execute_result"
    }
   ],
   "source": [
    "print ('Частная производная квадратного отклонения по переменной b:')\n",
    "function_2 (MSE, b)"
   ]
  },
  {
   "cell_type": "markdown",
   "id": "75ea75df-da98-4687-b921-47e1eb0b63cb",
   "metadata": {},
   "source": [
    "### Task 4"
   ]
  },
  {
   "cell_type": "markdown",
   "metadata": {},
   "source": [
    "Реализация алгоритма градиентного спуска\n",
    "Пишем класс **Gradient()**, который будет состоять из нескольких методов. При инициализации класс получает два вектора `X`, `Y` \\\n",
    "Методы внутри класса:\n",
    "- **predict** - на входе - `w`, `b`; на выходе - прогнозные значения `Y_pred`;\n",
    "- **mse** - на входе - `Y_pred`; на выходе - среднеквадратичная ошибка *MSE*;\n",
    "- **update** - на входе - `w`, `b` и `a` (learning rate); на \n",
    "выходe - новые значения `w`, `b`, которые обновились благодаря посчитанным градиентам\n",
    "\n",
    "Для проверки работы методов, подаём на вход класса два вектора `X`, `Y` и начальные параметры `w`, `b` в методы"
   ]
  },
  {
   "cell_type": "code",
   "execution_count": 9,
   "id": "b4bb1337-6f9c-49dc-bbc0-5952b12121ae",
   "metadata": {
    "tags": []
   },
   "outputs": [],
   "source": [
    "X = np.array(\n",
    "    [32.50234527, 53.42680403, 61.53035803, 47.47563963, 59.81320787, 55.14218841, \n",
    "     52.21179669, 39.29956669, 48.10504169, 52.55001444, 45.41973014, 54.35163488, \n",
    "     44.1640495 , 58.16847072, 56.72720806, 48.95588857, 44.68719623, 60.29732685, \n",
    "     45.61864377, 38.81681754]\n",
    ")\n",
    "Y = np.array(\n",
    "    [31.70700585, 68.77759598, 62.5623823 , 71.54663223, 87.23092513, 78.21151827, \n",
    "     79.64197305, 59.17148932, 75.3312423 , 71.30087989, 55.16567715, 82.47884676, \n",
    "     62.00892325, 75.39287043, 81.43619216, 60.72360244, 82.89250373, 97.37989686, \n",
    "     48.84715332, 56.87721319]\n",
    ")"
   ]
  },
  {
   "cell_type": "code",
   "execution_count": 10,
   "id": "2b5a7a87-eb43-456f-adf3-add9b502e3e1",
   "metadata": {
    "tags": []
   },
   "outputs": [
    {
     "data": {
      "image/png": "[encoded data removed]",
      "text/plain": [
       "<Figure size 640x480 with 1 Axes>"
      ]
     },
     "metadata": {},
     "output_type": "display_data"
    }
   ],
   "source": [
    "plt.scatter(X, Y);"
   ]
  },
  {
   "cell_type": "code",
   "execution_count": 11,
   "id": "99ad34a1-5c67-4430-84ad-dc77ac8b657f",
   "metadata": {
    "tags": []
   },
   "outputs": [
    {
     "name": "stdout",
     "output_type": "stream",
     "text": [
      "Прогнозные значения Y_pred:\n",
      "[20.25117263 30.71340201 34.76517902 27.73781982 33.90660393 31.57109421\n",
      " 30.10589834 23.64978334 28.05252085 30.27500722 26.70986507 31.17581744\n",
      " 26.08202475 33.08423536 32.36360403 28.47794428 26.34359811 34.14866342\n",
      " 26.80932188 23.40840877]\n",
      "MSE:\n",
      "1784.8517253411974\n",
      "Новые значения переменных w и b:\n",
      "0.9150528224014478\n",
      "4.00809052559105\n"
     ]
    }
   ],
   "source": [
    "class Gradient:\n",
    "    def __init__(self, X, Y):\n",
    "        self.x = X\n",
    "        self.y = Y\n",
    "        \n",
    "    def predict(self, w, b):\n",
    "        self.w, self.b = w, b\n",
    "        self.Y_pred = w * self.x + b\n",
    "        return self.Y_pred\n",
    "    \n",
    "    def mse(self, Y_pred):\n",
    "        self.Y_pred = Y_pred\n",
    "        self.mse = np.mean((self.y - self.Y_pred)**2)\n",
    "        return self.mse\n",
    "\n",
    "    def update(self, w, b, a):\n",
    "        self.w = w - a * -2 * (self.x * (self.y - self.Y_pred)).sum() / len(X) # new_w=w-a*MSE'(w);  MSE'(w)=−2𝑥(𝑦-y_pred)\n",
    "        self.b = b - a * -2 * (self.y - self.Y_pred).sum() / len(Y) # new_b=b-a*MSE'(b);  MSE'(b)=-2(y-y_pred)\n",
    "        return self.w, self.b\n",
    "    \n",
    "# Проверяем работу методов\n",
    "gr = Gradient(X, Y)\n",
    "w = 0.5\n",
    "b = 4\n",
    "a = 0.0001\n",
    "Y_pred = gr.predict(w, b)\n",
    "MSE = gr.mse(Y_pred)\n",
    "new_w, new_b = gr.update(w, b, a)\n",
    "\n",
    "print('Прогнозные значения Y_pred:', Y_pred, 'MSE:', MSE, 'Новые значения переменных w и b:', new_w, new_b, sep = '\\n')"
   ]
  },
  {
   "cell_type": "markdown",
   "id": "f2f68272-33ed-4c97-a97e-4216b1ab2ef4",
   "metadata": {},
   "source": [
    "### Task 5"
   ]
  },
  {
   "cell_type": "markdown",
   "metadata": {},
   "source": [
    "Оптимизируем код с помощью метода **optimize**. На входе метода - `num_iterations`,\n",
    "`stopping_threshold`=0.001, `a`=0.000001; на выходе - финальные значения `w`, `b`, и `mse` \\\n",
    "Метод повторяется, обновляя значения `w`, `b` для оптимизации  \\\n",
    "Критерии останова если:\n",
    "\n",
    "- количество итераций `num_iterations` привышено;\n",
    "- разницу между текущей ошибкой и ошибкой прошлой итерации меньшее `stopping_threshold`"
   ]
  },
  {
   "cell_type": "code",
   "execution_count": 15,
   "id": "07200188-e4ff-4c8b-a2a7-42de3772f11a",
   "metadata": {},
   "outputs": [
    {
     "name": "stdout",
     "output_type": "stream",
     "text": [
      "Финальные значения w, b:\n",
      "1.3115991091004235\n",
      "4.015587792053563\n",
      "Финальное значение MSE:\n",
      "99.29751520268579\n"
     ]
    }
   ],
   "source": [
    "# stopping_threshold=0.001 num_iterations = 100 a = 0.0001\n",
    "\n",
    "class GradientDescent(Gradient):\n",
    "    \n",
    "    def __init__(self, X, Y):\n",
    "        super().__init__(X,Y)\n",
    "        self.x = X\n",
    "        self.y = Y\n",
    "        \n",
    "    def optimize(self, num_iterations, stopping_threshold = 0.001, a = 0.0001):\n",
    "        mse_k = self.mse(self.predict(self.w, self.b))\n",
    "        for i in range(num_iterations): # останов по кол-ву оп-ций\n",
    "            self.w, self.b = self.update(self.w, self.b, a) # текущ значение w и b\n",
    "            mse_n = super().mse(self.predict(self.w, self.b)) # текущ значение mse\n",
    "            if abs (mse_n - mse_k) < stopping_threshold: # останов, если ошибка меньше заданного\n",
    "                break\n",
    "            mse_k = mse_n\n",
    "        return (self.w, self.b, self.mse)\n",
    "\n",
    "gr_des = GradientDescent(X, Y)\n",
    "w = 0.5\n",
    "b = 4\n",
    "gr_des.predict(w, b)\n",
    "f_w, f_b, f_MSE = gr_des.optimize(200)\n",
    "print('Финальные значения w, b:', f_w, f_b, 'Финальное значение MSE:', f_MSE, sep = '\\n')"
   ]
  },
  {
   "cell_type": "code",
   "execution_count": null,
   "id": "b0a21df3-6441-4a7c-835c-3529aae07ee4",
   "metadata": {},
   "outputs": [],
   "source": []
  }
 ],
 "metadata": {
  "kernelspec": {
   "display_name": "Python 3 (ipykernel)",
   "language": "python",
   "name": "python3"
  },
  "language_info": {
   "codemirror_mode": {
    "name": "ipython",
    "version": 3
   },
   "file_extension": ".py",
   "mimetype": "text/x-python",
   "name": "python",
   "nbconvert_exporter": "python",
   "pygments_lexer": "ipython3",
   "version": "3.11.3"
  }
 },
 "nbformat": 4,
 "nbformat_minor": 5
}
