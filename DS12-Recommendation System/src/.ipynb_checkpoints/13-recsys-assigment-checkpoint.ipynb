{
  "cells": [
    {
      "cell_type": "markdown",
      "metadata": {
        "id": "QovT45u4cpGF"
      },
      "source": [
        "# Recommendation System"
      ]
    },
    {
      "cell_type": "code",
      "execution_count": null,
      "metadata": {
        "colab": {
          "base_uri": "https://localhost:8080/"
        },
        "id": "PpPpcp-hdIzr",
        "outputId": "579c4d2c-4bba-490e-f1f6-0c6edcb50776"
      },
      "outputs": [
        {
          "output_type": "stream",
          "name": "stdout",
          "text": [
            "Mounted at /content/drive\n"
          ]
        }
      ],
      "source": [
        "from google.colab import drive\n",
        "drive.mount('/content/drive')"
      ]
    },
    {
      "cell_type": "code",
      "execution_count": null,
      "metadata": {
        "tags": [],
        "id": "o_r5K54UdIzt"
      },
      "outputs": [],
      "source": [
        "import pandas as pd\n",
        "\n",
        "from sklearn.feature_extraction.text import TfidfVectorizer\n",
        "\n",
        "from sklearn.metrics.pairwise import linear_kernel"
      ]
    },
    {
      "cell_type": "markdown",
      "metadata": {
        "id": "d3-LyN38dIzu"
      },
      "source": [
        "## Задание 1"
      ]
    },
    {
      "cell_type": "markdown",
      "metadata": {
        "id": "uwQ_8b9RdIzv"
      },
      "source": [
        "Объедини общие данные о фильмах [tmdb_5000_movies](https://files.sberdisk.ru/s/te4QbzdxKgsFQXA) и каст фильмов\n",
        "[tmdb_5000_credits](https://files.sberdisk.ru/s/H9oRuXQt5mFz3T9). Оставь в датасете только фильмы, которые вышли в \"релиз\".\\\n",
        "Выведи количество фильмов, оставшихся после фильтрации."
      ]
    },
    {
      "cell_type": "code",
      "execution_count": null,
      "metadata": {
        "id": "kW59nTQgdIzw"
      },
      "outputs": [],
      "source": [
        "df_movies = pd.read_csv('/content/drive/MyDrive/School21/day 13/DS_13-1-develop/datasets/tmdb_5000_movies.csv')\n",
        "df_credits = pd.read_csv('/content/drive/MyDrive/School21/day 13/DS_13-1-develop/datasets/tmdb_5000_credits.csv')\n",
        "df_ratings = pd.read_csv('/content/drive/MyDrive/School21/day 13/DS_13-1-develop/datasets/ratings.csv')"
      ]
    },
    {
      "cell_type": "code",
      "execution_count": null,
      "metadata": {
        "id": "QvkLuUHzdIzy"
      },
      "outputs": [],
      "source": [
        "# df_movies = pd.read_csv('../datasets/tmdb_5000_movies.csv')\n",
        "# df_credits = pd.read_csv('../datasets/tmdb_5000_credits.csv')\n",
        "# df_ratings = pd.read_csv('../datasets/ratings.csv')"
      ]
    },
    {
      "cell_type": "code",
      "execution_count": null,
      "metadata": {
        "colab": {
          "base_uri": "https://localhost:8080/"
        },
        "id": "pIO2iJ58dIzz",
        "outputId": "09652098-a441-48b4-a129-99eca6851399"
      },
      "outputs": [
        {
          "output_type": "stream",
          "name": "stdout",
          "text": [
            "Количество фильмов вышедших в \"релиз\": 4795\n"
          ]
        }
      ],
      "source": [
        "df_union = pd.merge(df_movies, df_credits, left_on='id', right_on='movie_id')  # объединили два df по столбцам 'id' и 'movie_id'\n",
        "\n",
        "df_union = df_union[df_union['status'] == 'Released'].copy()  # оставили в df фильмы вышедшие в \"релиз\"\n",
        "df_union.rename(columns = {'title_x': 'title'}, inplace=True)  # в df два столбца одинаковых, 1ый переименовали, чтоб 2ой удалить\n",
        "df_union.drop(['title_y', 'movie_id'], axis= 1 , inplace= True )  # удаляем повторяющиеся столбцы\n",
        "#df_union.head(5)\n",
        "\n",
        "print('Количество фильмов вышедших в \"релиз\":', df_union.shape[0])"
      ]
    },
    {
      "cell_type": "markdown",
      "metadata": {
        "id": "esfoLjcbdIz1"
      },
      "source": [
        "## Задание 2"
      ]
    },
    {
      "cell_type": "markdown",
      "metadata": {
        "id": "V4lAaLdydIz2"
      },
      "source": [
        "Самый наивный подход к рекомендации фильмов - рекомендовать фильмы с лучшими оценками пользователей. Фильмы, которые пользуются большей популярностью и признанием критиков, с большей вероятностью понравятся среднему зрителю."
      ]
    },
    {
      "cell_type": "markdown",
      "metadata": {
        "id": "0kWfYolddIz2"
      },
      "source": [
        "Для справедливой оценки фильмов возьмем текущую рейтинговую систему IMDB (weighted rating (WR)), которая рассчитывается по формуле:\n",
        "$$WR = \\frac{v}{v + m} ⋅ R + \\frac{m}{v + m} ⋅ C$$\n",
        "$v$ - количество голосов \\\n",
        "$m$ - количество голосов для включения в финальную таблицу \\\n",
        "$R$ - средняя оценка \\\n",
        "$C$ - средняя оценка всех фильмов\n",
        "\n",
        "Имплементируй функцию `weighted_rating`. С её помощью расcчитай рейтинг для каждого фильма и сохрани его в колонку `simple_score`.\\\n",
        "Выведи топ-5 фильмов по получившемуся рейтингу.\n",
        "> В качестве параметра $m$ выбери 95-й квантиль количества голосов."
      ]
    },
    {
      "cell_type": "code",
      "execution_count": null,
      "metadata": {
        "id": "kUPfsGlddIz3"
      },
      "outputs": [],
      "source": [
        "#ф-ция расчёта оценки фильма по системе IMDB\n",
        "def weighted_rating(x, m, c):\n",
        "    v = x['vote_count']\n",
        "    R = x['vote_average']\n",
        "    return (v/(v+m) * R) + (m/(m+v) * c)\n"
      ]
    },
    {
      "cell_type": "code",
      "execution_count": null,
      "metadata": {
        "colab": {
          "base_uri": "https://localhost:8080/",
          "height": 206
        },
        "id": "ow75IuNHdIz4",
        "outputId": "c53e06c7-db36-4e17-c92a-2b09b334cc97"
      },
      "outputs": [
        {
          "output_type": "execute_result",
          "data": {
            "text/plain": [
              "                         title  simple_score\n",
              "1881  The Shawshank Redemption      7.849025\n",
              "65             The Dark Knight      7.773990\n",
              "662                 Fight Club      7.761012\n",
              "96                   Inception      7.736496\n",
              "3232              Pulp Fiction      7.714726"
            ],
            "text/html": [
              "\n",
              "\n",
              "  <div id=\"df-335cb8f2-2071-4869-9941-a53764d8c05b\">\n",
              "    <div class=\"colab-df-container\">\n",
              "      <div>\n",
              "<style scoped>\n",
              "    .dataframe tbody tr th:only-of-type {\n",
              "        vertical-align: middle;\n",
              "    }\n",
              "\n",
              "    .dataframe tbody tr th {\n",
              "        vertical-align: top;\n",
              "    }\n",
              "\n",
              "    .dataframe thead th {\n",
              "        text-align: right;\n",
              "    }\n",
              "</style>\n",
              "<table border=\"1\" class=\"dataframe\">\n",
              "  <thead>\n",
              "    <tr style=\"text-align: right;\">\n",
              "      <th></th>\n",
              "      <th>title</th>\n",
              "      <th>simple_score</th>\n",
              "    </tr>\n",
              "  </thead>\n",
              "  <tbody>\n",
              "    <tr>\n",
              "      <th>1881</th>\n",
              "      <td>The Shawshank Redemption</td>\n",
              "      <td>7.849025</td>\n",
              "    </tr>\n",
              "    <tr>\n",
              "      <th>65</th>\n",
              "      <td>The Dark Knight</td>\n",
              "      <td>7.773990</td>\n",
              "    </tr>\n",
              "    <tr>\n",
              "      <th>662</th>\n",
              "      <td>Fight Club</td>\n",
              "      <td>7.761012</td>\n",
              "    </tr>\n",
              "    <tr>\n",
              "      <th>96</th>\n",
              "      <td>Inception</td>\n",
              "      <td>7.736496</td>\n",
              "    </tr>\n",
              "    <tr>\n",
              "      <th>3232</th>\n",
              "      <td>Pulp Fiction</td>\n",
              "      <td>7.714726</td>\n",
              "    </tr>\n",
              "  </tbody>\n",
              "</table>\n",
              "</div>\n",
              "      <button class=\"colab-df-convert\" onclick=\"convertToInteractive('df-335cb8f2-2071-4869-9941-a53764d8c05b')\"\n",
              "              title=\"Convert this dataframe to an interactive table.\"\n",
              "              style=\"display:none;\">\n",
              "\n",
              "  <svg xmlns=\"http://www.w3.org/2000/svg\" height=\"24px\"viewBox=\"0 0 24 24\"\n",
              "       width=\"24px\">\n",
              "    <path d=\"M0 0h24v24H0V0z\" fill=\"none\"/>\n",
              "    <path d=\"M18.56 5.44l.94 2.06.94-2.06 2.06-.94-2.06-.94-.94-2.06-.94 2.06-2.06.94zm-11 1L8.5 8.5l.94-2.06 2.06-.94-2.06-.94L8.5 2.5l-.94 2.06-2.06.94zm10 10l.94 2.06.94-2.06 2.06-.94-2.06-.94-.94-2.06-.94 2.06-2.06.94z\"/><path d=\"M17.41 7.96l-1.37-1.37c-.4-.4-.92-.59-1.43-.59-.52 0-1.04.2-1.43.59L10.3 9.45l-7.72 7.72c-.78.78-.78 2.05 0 2.83L4 21.41c.39.39.9.59 1.41.59.51 0 1.02-.2 1.41-.59l7.78-7.78 2.81-2.81c.8-.78.8-2.07 0-2.86zM5.41 20L4 18.59l7.72-7.72 1.47 1.35L5.41 20z\"/>\n",
              "  </svg>\n",
              "      </button>\n",
              "\n",
              "\n",
              "\n",
              "    <div id=\"df-09c2c7c1-826a-4005-9f30-22d4b12b776b\">\n",
              "      <button class=\"colab-df-quickchart\" onclick=\"quickchart('df-09c2c7c1-826a-4005-9f30-22d4b12b776b')\"\n",
              "              title=\"Suggest charts.\"\n",
              "              style=\"display:none;\">\n",
              "\n",
              "<svg xmlns=\"http://www.w3.org/2000/svg\" height=\"24px\"viewBox=\"0 0 24 24\"\n",
              "     width=\"24px\">\n",
              "    <g>\n",
              "        <path d=\"M19 3H5c-1.1 0-2 .9-2 2v14c0 1.1.9 2 2 2h14c1.1 0 2-.9 2-2V5c0-1.1-.9-2-2-2zM9 17H7v-7h2v7zm4 0h-2V7h2v10zm4 0h-2v-4h2v4z\"/>\n",
              "    </g>\n",
              "</svg>\n",
              "      </button>\n",
              "    </div>\n",
              "\n",
              "<style>\n",
              "  .colab-df-quickchart {\n",
              "    background-color: #E8F0FE;\n",
              "    border: none;\n",
              "    border-radius: 50%;\n",
              "    cursor: pointer;\n",
              "    display: none;\n",
              "    fill: #1967D2;\n",
              "    height: 32px;\n",
              "    padding: 0 0 0 0;\n",
              "    width: 32px;\n",
              "  }\n",
              "\n",
              "  .colab-df-quickchart:hover {\n",
              "    background-color: #E2EBFA;\n",
              "    box-shadow: 0px 1px 2px rgba(60, 64, 67, 0.3), 0px 1px 3px 1px rgba(60, 64, 67, 0.15);\n",
              "    fill: #174EA6;\n",
              "  }\n",
              "\n",
              "  [theme=dark] .colab-df-quickchart {\n",
              "    background-color: #3B4455;\n",
              "    fill: #D2E3FC;\n",
              "  }\n",
              "\n",
              "  [theme=dark] .colab-df-quickchart:hover {\n",
              "    background-color: #434B5C;\n",
              "    box-shadow: 0px 1px 3px 1px rgba(0, 0, 0, 0.15);\n",
              "    filter: drop-shadow(0px 1px 2px rgba(0, 0, 0, 0.3));\n",
              "    fill: #FFFFFF;\n",
              "  }\n",
              "</style>\n",
              "\n",
              "    <script>\n",
              "      async function quickchart(key) {\n",
              "        const containerElement = document.querySelector('#' + key);\n",
              "        const charts = await google.colab.kernel.invokeFunction(\n",
              "            'suggestCharts', [key], {});\n",
              "      }\n",
              "    </script>\n",
              "\n",
              "      <script>\n",
              "\n",
              "function displayQuickchartButton(domScope) {\n",
              "  let quickchartButtonEl =\n",
              "    domScope.querySelector('#df-09c2c7c1-826a-4005-9f30-22d4b12b776b button.colab-df-quickchart');\n",
              "  quickchartButtonEl.style.display =\n",
              "    google.colab.kernel.accessAllowed ? 'block' : 'none';\n",
              "}\n",
              "\n",
              "        displayQuickchartButton(document);\n",
              "      </script>\n",
              "      <style>\n",
              "    .colab-df-container {\n",
              "      display:flex;\n",
              "      flex-wrap:wrap;\n",
              "      gap: 12px;\n",
              "    }\n",
              "\n",
              "    .colab-df-convert {\n",
              "      background-color: #E8F0FE;\n",
              "      border: none;\n",
              "      border-radius: 50%;\n",
              "      cursor: pointer;\n",
              "      display: none;\n",
              "      fill: #1967D2;\n",
              "      height: 32px;\n",
              "      padding: 0 0 0 0;\n",
              "      width: 32px;\n",
              "    }\n",
              "\n",
              "    .colab-df-convert:hover {\n",
              "      background-color: #E2EBFA;\n",
              "      box-shadow: 0px 1px 2px rgba(60, 64, 67, 0.3), 0px 1px 3px 1px rgba(60, 64, 67, 0.15);\n",
              "      fill: #174EA6;\n",
              "    }\n",
              "\n",
              "    [theme=dark] .colab-df-convert {\n",
              "      background-color: #3B4455;\n",
              "      fill: #D2E3FC;\n",
              "    }\n",
              "\n",
              "    [theme=dark] .colab-df-convert:hover {\n",
              "      background-color: #434B5C;\n",
              "      box-shadow: 0px 1px 3px 1px rgba(0, 0, 0, 0.15);\n",
              "      filter: drop-shadow(0px 1px 2px rgba(0, 0, 0, 0.3));\n",
              "      fill: #FFFFFF;\n",
              "    }\n",
              "  </style>\n",
              "\n",
              "      <script>\n",
              "        const buttonEl =\n",
              "          document.querySelector('#df-335cb8f2-2071-4869-9941-a53764d8c05b button.colab-df-convert');\n",
              "        buttonEl.style.display =\n",
              "          google.colab.kernel.accessAllowed ? 'block' : 'none';\n",
              "\n",
              "        async function convertToInteractive(key) {\n",
              "          const element = document.querySelector('#df-335cb8f2-2071-4869-9941-a53764d8c05b');\n",
              "          const dataTable =\n",
              "            await google.colab.kernel.invokeFunction('convertToInteractive',\n",
              "                                                     [key], {});\n",
              "          if (!dataTable) return;\n",
              "\n",
              "          const docLinkHtml = 'Like what you see? Visit the ' +\n",
              "            '<a target=\"_blank\" href=https://colab.research.google.com/notebooks/data_table.ipynb>data table notebook</a>'\n",
              "            + ' to learn more about interactive tables.';\n",
              "          element.innerHTML = '';\n",
              "          dataTable['output_type'] = 'display_data';\n",
              "          await google.colab.output.renderOutput(dataTable, element);\n",
              "          const docLink = document.createElement('div');\n",
              "          docLink.innerHTML = docLinkHtml;\n",
              "          element.appendChild(docLink);\n",
              "        }\n",
              "      </script>\n",
              "    </div>\n",
              "  </div>\n"
            ]
          },
          "metadata": {},
          "execution_count": 6
        }
      ],
      "source": [
        "m_quantile = df_union['vote_count'].quantile(0.95)\n",
        "c_mean = df_union['vote_average'].mean()\n",
        "\n",
        "df_union['simple_score'] = df_union.apply(weighted_rating, args=(m_quantile, c_mean), axis=1) # считаем оценку для каж. фильма\n",
        "                                                                                              # и записываем её в столбец 'simple_score'\n",
        "#df_union.head(5)\n",
        "\n",
        "df_top = df_union.sort_values(by = 'simple_score', ascending=False)\n",
        "\n",
        "df_top[['title', 'simple_score']].head(5)"
      ]
    },
    {
      "cell_type": "markdown",
      "metadata": {
        "id": "3fU9TcXudIz5"
      },
      "source": [
        "## Задание 3"
      ]
    },
    {
      "cell_type": "markdown",
      "metadata": {
        "id": "0DqnTOXQdIz5"
      },
      "source": [
        "Такой подход к рекомендациям очень наивен, так как не учитывает информацию о самом фильме (жанр, режиссер, описание, актеры и т.п). \\\n",
        "**Content Based Filtering** (Фильтрация на основе содержания) - тип рекомендательной системы, которая предлагает пользователям похожие элементы на основе конкретного элемента. Общая идея этих рекомендательных систем заключается в том, что если человеку понравился определенный товар, то ему понравится и похожий на него товар."
      ]
    },
    {
      "cell_type": "markdown",
      "metadata": {
        "id": "1_m-4DLxdIz6"
      },
      "source": [
        "<center><img src=\"../misc/images/content.png\" alt= “” width=\"300\" height=\"500\">"
      ]
    },
    {
      "cell_type": "markdown",
      "metadata": {
        "id": "qtlQEcGedIz6"
      },
      "source": [
        "Реализуем алгоритм рекомендации на основе описания фильма. Для это требуется провести предобработку текста:\n",
        "* Замени NaN в описании фильма на пустой символ `''`\n",
        "* Удали все английские стоп слова (используй параметр `stop_words` в `TfidfVectorizer`)\n",
        "* Расcчитай [Tf-Idf](https://scikit-learn.org/stable/modules/generated/sklearn.feature_extraction.text.TfidfVectorizer.html) для описания фильма\n",
        "\n",
        "Выведи размер получившейся матрицы Tf-Idf\n",
        "\n",
        "> Для [TfidfVectorizer](https://scikit-learn.org/stable/modules/generated/sklearn.feature_extraction.text.TfidfVectorizer.html) используйте параметры по умолчанию"
      ]
    },
    {
      "cell_type": "code",
      "execution_count": null,
      "metadata": {
        "colab": {
          "base_uri": "https://localhost:8080/"
        },
        "id": "nIk0mImudIz6",
        "outputId": "2d56bbc3-d4f8-4692-d008-26c2533c3e53"
      },
      "outputs": [
        {
          "output_type": "stream",
          "name": "stdout",
          "text": [
            "Размер матрицы Tf-Idf: (4795, 20970)\n"
          ]
        }
      ],
      "source": [
        "df_union['overview'].fillna('', inplace=True) # меняем NaN в описании фильма на пустой символ\n",
        "vector = TfidfVectorizer(stop_words='english') # вектор для Tf-Idf\n",
        "\n",
        "matrix_tfidf = vector.fit_transform(df_union['overview']) # создаём матрицу функций Tf-Idf\n",
        "\n",
        "print(\"Размер матрицы Tf-Idf:\", matrix_tfidf.shape)"
      ]
    },
    {
      "cell_type": "markdown",
      "metadata": {
        "tags": [],
        "id": "vAev53nmdIz7"
      },
      "source": [
        "## Задание 4"
      ]
    },
    {
      "cell_type": "markdown",
      "metadata": {
        "id": "BrLIObGCdIz7"
      },
      "source": [
        "Теперь тебе необходимо вычислить показатель сходства между описаниями фильмов. Используем косинусное расстояние, оно рассчитывается по формуле:\n",
        "$$cos(Θ) = \\frac{A ⋅ B}{∥A∥ ∥B∥} = \\frac{ Σ_{i=1}^{n} A_i ⋅ B_i } { \\sqrt{Σ_{i=1}^{n}A_{i}^{2}} ⋅ {\\sqrt{Σ_{i=1}^{n}B_{i}^{2}}}}$$\n",
        "Но поскольку мы использовали векторизатор TF-IDF на предыдущем шаге, достаточно вычислить скалярное произведение, которое и даст оценку косинусного сходства. Рассчитать его можно через [linear_kernel](https://scikit-learn.org/stable/modules/generated/sklearn.metrics.pairwise.linear_kernel.html). Результат сохрани в переменную `cosine_sim`.\n",
        "\n",
        "Выведи размер получившейся матрицы `cosine_sim`."
      ]
    },
    {
      "cell_type": "code",
      "execution_count": null,
      "metadata": {
        "colab": {
          "base_uri": "https://localhost:8080/"
        },
        "id": "PH8zC-QvdIz8",
        "outputId": "6a7d3fc8-9f81-4521-d054-478aec4c7fbd"
      },
      "outputs": [
        {
          "output_type": "stream",
          "name": "stdout",
          "text": [
            "Размер матрицы`cosine_sim: (4795, 4795)\n"
          ]
        }
      ],
      "source": [
        "cosine_sim = linear_kernel(matrix_tfidf)\n",
        "\n",
        "print(\"Размер матрицы`cosine_sim:\", cosine_sim.shape)"
      ]
    },
    {
      "cell_type": "markdown",
      "metadata": {
        "id": "DxGZHVRsdIz9"
      },
      "source": [
        "## Задание 5"
      ]
    },
    {
      "cell_type": "markdown",
      "metadata": {
        "id": "-RC3c4pwdIz9"
      },
      "source": [
        "Напиши функцию `get_recommendations`. На вход она принимает:\n",
        "* `movies_dataset` - датасет фильмов\n",
        "* `title` - название фильма, для которого мы будем искать похожие\n",
        "* `cosine_sim` - матрица расстояний между описаниями\n",
        "* `top_k` - топ-k cхожих фильмов\n",
        "\n",
        "Возвращает top_k названий фильмов, описание которых похоже на выбранный фильм.\\\n",
        "Выведи топ-5 фильмов для `title='Saving Private Ryan'`"
      ]
    },
    {
      "cell_type": "code",
      "execution_count": null,
      "metadata": {
        "id": "z7CkpbgTdIz-"
      },
      "outputs": [],
      "source": [
        "def get_recommendations(movies_dataset, title, cosine_sim, top_k=10): # ф-ция поиска фильмов похожих на заданный по описанию\n",
        "    ind = ind_tit[title] # индекс фильма переданного в ф-цию\n",
        "    scores_sim = list(enumerate(cosine_sim[ind])) # столбец оц сходства заданного фильма с др фильмами\n",
        "    scores_sim = sorted(scores_sim, key=lambda x: x[1], reverse=True) # сортируем фильмы по оц сходства\n",
        "    top_ind = [i[0] for i in scores_sim[1:top_k+1]] # индексы лучших фильмов для рекомендации\n",
        "    top_movie = movies_dataset['title'].iloc[top_ind] # названия лучших фильмов для рекомендации\n",
        "    return top_movie\n"
      ]
    },
    {
      "cell_type": "code",
      "execution_count": null,
      "metadata": {
        "colab": {
          "base_uri": "https://localhost:8080/"
        },
        "id": "Qa5_6dq4dIz-",
        "outputId": "00fd2b8a-0754-42c1-cccd-0b4d5964ef56"
      },
      "outputs": [
        {
          "output_type": "stream",
          "name": "stdout",
          "text": [
            "ТОП-5 рекомендованных фильмов для Saving Private Ryan:\n",
            "    The Great Raid\n",
            "The Monuments Men\n",
            "The Expendables 2\n",
            "        Abandoned\n",
            "        The Train\n"
          ]
        }
      ],
      "source": [
        "ind_tit = pd.Series(df_union.index, index=df_union['title']) # создаём Series из названий фильмов и индексов\n",
        "#ind_tit\n",
        "\n",
        "recommend = get_recommendations(movies_dataset=df_union, title='Saving Private Ryan', cosine_sim=cosine_sim, top_k=5)\n",
        "\n",
        "print('ТОП-5 рекомендованных фильмов для Saving Private Ryan:\\n', recommend.to_string(index=False))"
      ]
    },
    {
      "cell_type": "markdown",
      "metadata": {
        "id": "4hna7CkYdIz_"
      },
      "source": [
        "## Задание 6"
      ]
    },
    {
      "cell_type": "markdown",
      "metadata": {
        "id": "vPzOvSnfdIz_"
      },
      "source": [
        "Еще один подход к построению рекомендательной системы - подход на основе сходства между пользователями. Этот подход называется **Collaborative Filtering** (Коллаборативная фильтрация).\n",
        "<center><img src=\"../misc/images/all.png\" alt= “” width=\"600\" height=\"700\"></center>\n",
        "Коллаборативная фильтрация - это тип рекомендательной системы, которая использует поведение и предпочтения похожих пользователей для рекомендации товаров или продуктов конкретному пользователю. Система собирает данные о прошлом поведении пользователей, такие как покупки, рейтинги и отзывы, и анализирует их для выявления закономерностей и сходства между пользователями. На основе этих закономерностей система рекомендует товары, которые понравились или были приобретены другими такими же пользователями в прошлом.\n",
        "\n",
        "Для реализации Коллаборативной фильтрации нам потребуются оценки пользователей [ratings](../datasets/ratings.csv).\n",
        "\n",
        ">userId - id пользователя \\\n",
        "movieId - id фильма \\\n",
        "rating - оценка фильма (от 0 до 5)\\\n",
        "timestamp - время оценки\n",
        "\n",
        "\n",
        "Воспользуйся библиотекой [surprise](https://surpriselib.com/) для обучения модели оценки рейтинга фильма [SVD](https://surprise.readthedocs.io/en/stable/matrix_factorization.html#surprise.prediction_algorithms.matrix_factorization.SVD). Выведи средние значения 'RMSE', 'MAE' на кросс-валидации с параметрами `cv=5`."
      ]
    },
    {
      "cell_type": "code",
      "execution_count": null,
      "metadata": {
        "colab": {
          "base_uri": "https://localhost:8080/"
        },
        "id": "YYrRVEHCdI0A",
        "outputId": "b25b7786-fc81-4a85-a889-52fb9dcc0120"
      },
      "outputs": [
        {
          "output_type": "stream",
          "name": "stdout",
          "text": [
            "Collecting surprise\n",
            "  Downloading surprise-0.1-py2.py3-none-any.whl (1.8 kB)\n",
            "Collecting scikit-surprise (from surprise)\n",
            "  Downloading scikit-surprise-1.1.3.tar.gz (771 kB)\n",
            "\u001b[2K     \u001b[90m━━━━━━━━━━━━━━━━━━━━━━━━━━━━━━━━━━━━━━━\u001b[0m \u001b[32m772.0/772.0 kB\u001b[0m \u001b[31m5.8 MB/s\u001b[0m eta \u001b[36m0:00:00\u001b[0m\n",
            "\u001b[?25h  Preparing metadata (setup.py) ... \u001b[?25l\u001b[?25hdone\n",
            "Requirement already satisfied: joblib>=1.0.0 in /usr/local/lib/python3.10/dist-packages (from scikit-surprise->surprise) (1.3.1)\n",
            "Requirement already satisfied: numpy>=1.17.3 in /usr/local/lib/python3.10/dist-packages (from scikit-surprise->surprise) (1.22.4)\n",
            "Requirement already satisfied: scipy>=1.3.2 in /usr/local/lib/python3.10/dist-packages (from scikit-surprise->surprise) (1.10.1)\n",
            "Building wheels for collected packages: scikit-surprise\n",
            "  Building wheel for scikit-surprise (setup.py) ... \u001b[?25l\u001b[?25hdone\n",
            "  Created wheel for scikit-surprise: filename=scikit_surprise-1.1.3-cp310-cp310-linux_x86_64.whl size=2811628 sha256=40e9cb3cff434122646a437fe9e7f43339374f1048f5d20da1ac83b410303533\n",
            "  Stored in directory: /root/.cache/pip/wheels/a5/ca/a8/4e28def53797fdc4363ca4af740db15a9c2f1595ebc51fb445\n",
            "Successfully built scikit-surprise\n",
            "Installing collected packages: scikit-surprise, surprise\n",
            "Successfully installed scikit-surprise-1.1.3 surprise-0.1\n"
          ]
        }
      ],
      "source": [
        "pip install surprise"
      ]
    },
    {
      "cell_type": "code",
      "execution_count": null,
      "metadata": {
        "id": "uqJG2CV5dI0A"
      },
      "outputs": [],
      "source": [
        "from surprise import SVD, Dataset, Reader\n",
        "from surprise.model_selection import cross_validate"
      ]
    },
    {
      "cell_type": "code",
      "source": [
        "#df_ratings"
      ],
      "metadata": {
        "id": "HysntDKXeyMN"
      },
      "execution_count": null,
      "outputs": []
    },
    {
      "cell_type": "code",
      "source": [
        "df_ratings.columns = df_ratings.columns.str.replace('movieId', 'id')\n",
        "df_ratings.head(3)"
      ],
      "metadata": {
        "colab": {
          "base_uri": "https://localhost:8080/",
          "height": 143
        },
        "id": "ZGRD_L1gf8Jj",
        "outputId": "5dbde397-9428-4324-e440-bc4614c99831"
      },
      "execution_count": null,
      "outputs": [
        {
          "output_type": "execute_result",
          "data": {
            "text/plain": [
              "   userId    id  rating   timestamp\n",
              "0       1    31     2.5  1260759144\n",
              "1       1  1029     3.0  1260759179\n",
              "2       1  1061     3.0  1260759182"
            ],
            "text/html": [
              "\n",
              "\n",
              "  <div id=\"df-51bb4dbf-5296-42b9-94ba-dac09d723e2e\">\n",
              "    <div class=\"colab-df-container\">\n",
              "      <div>\n",
              "<style scoped>\n",
              "    .dataframe tbody tr th:only-of-type {\n",
              "        vertical-align: middle;\n",
              "    }\n",
              "\n",
              "    .dataframe tbody tr th {\n",
              "        vertical-align: top;\n",
              "    }\n",
              "\n",
              "    .dataframe thead th {\n",
              "        text-align: right;\n",
              "    }\n",
              "</style>\n",
              "<table border=\"1\" class=\"dataframe\">\n",
              "  <thead>\n",
              "    <tr style=\"text-align: right;\">\n",
              "      <th></th>\n",
              "      <th>userId</th>\n",
              "      <th>id</th>\n",
              "      <th>rating</th>\n",
              "      <th>timestamp</th>\n",
              "    </tr>\n",
              "  </thead>\n",
              "  <tbody>\n",
              "    <tr>\n",
              "      <th>0</th>\n",
              "      <td>1</td>\n",
              "      <td>31</td>\n",
              "      <td>2.5</td>\n",
              "      <td>1260759144</td>\n",
              "    </tr>\n",
              "    <tr>\n",
              "      <th>1</th>\n",
              "      <td>1</td>\n",
              "      <td>1029</td>\n",
              "      <td>3.0</td>\n",
              "      <td>1260759179</td>\n",
              "    </tr>\n",
              "    <tr>\n",
              "      <th>2</th>\n",
              "      <td>1</td>\n",
              "      <td>1061</td>\n",
              "      <td>3.0</td>\n",
              "      <td>1260759182</td>\n",
              "    </tr>\n",
              "  </tbody>\n",
              "</table>\n",
              "</div>\n",
              "      <button class=\"colab-df-convert\" onclick=\"convertToInteractive('df-51bb4dbf-5296-42b9-94ba-dac09d723e2e')\"\n",
              "              title=\"Convert this dataframe to an interactive table.\"\n",
              "              style=\"display:none;\">\n",
              "\n",
              "  <svg xmlns=\"http://www.w3.org/2000/svg\" height=\"24px\"viewBox=\"0 0 24 24\"\n",
              "       width=\"24px\">\n",
              "    <path d=\"M0 0h24v24H0V0z\" fill=\"none\"/>\n",
              "    <path d=\"M18.56 5.44l.94 2.06.94-2.06 2.06-.94-2.06-.94-.94-2.06-.94 2.06-2.06.94zm-11 1L8.5 8.5l.94-2.06 2.06-.94-2.06-.94L8.5 2.5l-.94 2.06-2.06.94zm10 10l.94 2.06.94-2.06 2.06-.94-2.06-.94-.94-2.06-.94 2.06-2.06.94z\"/><path d=\"M17.41 7.96l-1.37-1.37c-.4-.4-.92-.59-1.43-.59-.52 0-1.04.2-1.43.59L10.3 9.45l-7.72 7.72c-.78.78-.78 2.05 0 2.83L4 21.41c.39.39.9.59 1.41.59.51 0 1.02-.2 1.41-.59l7.78-7.78 2.81-2.81c.8-.78.8-2.07 0-2.86zM5.41 20L4 18.59l7.72-7.72 1.47 1.35L5.41 20z\"/>\n",
              "  </svg>\n",
              "      </button>\n",
              "\n",
              "\n",
              "\n",
              "    <div id=\"df-ec7a22b1-19e0-40cd-a1b1-57ac96344690\">\n",
              "      <button class=\"colab-df-quickchart\" onclick=\"quickchart('df-ec7a22b1-19e0-40cd-a1b1-57ac96344690')\"\n",
              "              title=\"Suggest charts.\"\n",
              "              style=\"display:none;\">\n",
              "\n",
              "<svg xmlns=\"http://www.w3.org/2000/svg\" height=\"24px\"viewBox=\"0 0 24 24\"\n",
              "     width=\"24px\">\n",
              "    <g>\n",
              "        <path d=\"M19 3H5c-1.1 0-2 .9-2 2v14c0 1.1.9 2 2 2h14c1.1 0 2-.9 2-2V5c0-1.1-.9-2-2-2zM9 17H7v-7h2v7zm4 0h-2V7h2v10zm4 0h-2v-4h2v4z\"/>\n",
              "    </g>\n",
              "</svg>\n",
              "      </button>\n",
              "    </div>\n",
              "\n",
              "<style>\n",
              "  .colab-df-quickchart {\n",
              "    background-color: #E8F0FE;\n",
              "    border: none;\n",
              "    border-radius: 50%;\n",
              "    cursor: pointer;\n",
              "    display: none;\n",
              "    fill: #1967D2;\n",
              "    height: 32px;\n",
              "    padding: 0 0 0 0;\n",
              "    width: 32px;\n",
              "  }\n",
              "\n",
              "  .colab-df-quickchart:hover {\n",
              "    background-color: #E2EBFA;\n",
              "    box-shadow: 0px 1px 2px rgba(60, 64, 67, 0.3), 0px 1px 3px 1px rgba(60, 64, 67, 0.15);\n",
              "    fill: #174EA6;\n",
              "  }\n",
              "\n",
              "  [theme=dark] .colab-df-quickchart {\n",
              "    background-color: #3B4455;\n",
              "    fill: #D2E3FC;\n",
              "  }\n",
              "\n",
              "  [theme=dark] .colab-df-quickchart:hover {\n",
              "    background-color: #434B5C;\n",
              "    box-shadow: 0px 1px 3px 1px rgba(0, 0, 0, 0.15);\n",
              "    filter: drop-shadow(0px 1px 2px rgba(0, 0, 0, 0.3));\n",
              "    fill: #FFFFFF;\n",
              "  }\n",
              "</style>\n",
              "\n",
              "    <script>\n",
              "      async function quickchart(key) {\n",
              "        const containerElement = document.querySelector('#' + key);\n",
              "        const charts = await google.colab.kernel.invokeFunction(\n",
              "            'suggestCharts', [key], {});\n",
              "      }\n",
              "    </script>\n",
              "\n",
              "      <script>\n",
              "\n",
              "function displayQuickchartButton(domScope) {\n",
              "  let quickchartButtonEl =\n",
              "    domScope.querySelector('#df-ec7a22b1-19e0-40cd-a1b1-57ac96344690 button.colab-df-quickchart');\n",
              "  quickchartButtonEl.style.display =\n",
              "    google.colab.kernel.accessAllowed ? 'block' : 'none';\n",
              "}\n",
              "\n",
              "        displayQuickchartButton(document);\n",
              "      </script>\n",
              "      <style>\n",
              "    .colab-df-container {\n",
              "      display:flex;\n",
              "      flex-wrap:wrap;\n",
              "      gap: 12px;\n",
              "    }\n",
              "\n",
              "    .colab-df-convert {\n",
              "      background-color: #E8F0FE;\n",
              "      border: none;\n",
              "      border-radius: 50%;\n",
              "      cursor: pointer;\n",
              "      display: none;\n",
              "      fill: #1967D2;\n",
              "      height: 32px;\n",
              "      padding: 0 0 0 0;\n",
              "      width: 32px;\n",
              "    }\n",
              "\n",
              "    .colab-df-convert:hover {\n",
              "      background-color: #E2EBFA;\n",
              "      box-shadow: 0px 1px 2px rgba(60, 64, 67, 0.3), 0px 1px 3px 1px rgba(60, 64, 67, 0.15);\n",
              "      fill: #174EA6;\n",
              "    }\n",
              "\n",
              "    [theme=dark] .colab-df-convert {\n",
              "      background-color: #3B4455;\n",
              "      fill: #D2E3FC;\n",
              "    }\n",
              "\n",
              "    [theme=dark] .colab-df-convert:hover {\n",
              "      background-color: #434B5C;\n",
              "      box-shadow: 0px 1px 3px 1px rgba(0, 0, 0, 0.15);\n",
              "      filter: drop-shadow(0px 1px 2px rgba(0, 0, 0, 0.3));\n",
              "      fill: #FFFFFF;\n",
              "    }\n",
              "  </style>\n",
              "\n",
              "      <script>\n",
              "        const buttonEl =\n",
              "          document.querySelector('#df-51bb4dbf-5296-42b9-94ba-dac09d723e2e button.colab-df-convert');\n",
              "        buttonEl.style.display =\n",
              "          google.colab.kernel.accessAllowed ? 'block' : 'none';\n",
              "\n",
              "        async function convertToInteractive(key) {\n",
              "          const element = document.querySelector('#df-51bb4dbf-5296-42b9-94ba-dac09d723e2e');\n",
              "          const dataTable =\n",
              "            await google.colab.kernel.invokeFunction('convertToInteractive',\n",
              "                                                     [key], {});\n",
              "          if (!dataTable) return;\n",
              "\n",
              "          const docLinkHtml = 'Like what you see? Visit the ' +\n",
              "            '<a target=\"_blank\" href=https://colab.research.google.com/notebooks/data_table.ipynb>data table notebook</a>'\n",
              "            + ' to learn more about interactive tables.';\n",
              "          element.innerHTML = '';\n",
              "          dataTable['output_type'] = 'display_data';\n",
              "          await google.colab.output.renderOutput(dataTable, element);\n",
              "          const docLink = document.createElement('div');\n",
              "          docLink.innerHTML = docLinkHtml;\n",
              "          element.appendChild(docLink);\n",
              "        }\n",
              "      </script>\n",
              "    </div>\n",
              "  </div>\n"
            ]
          },
          "metadata": {},
          "execution_count": 14
        }
      ]
    },
    {
      "cell_type": "code",
      "source": [
        "reader = Reader(rating_scale=(1, 5))\n",
        "data = Dataset.load_from_df(df_ratings[['id','userId','rating']], reader)"
      ],
      "metadata": {
        "id": "k2Vln__qgO5U"
      },
      "execution_count": null,
      "outputs": []
    },
    {
      "cell_type": "code",
      "source": [
        "algo = SVD()"
      ],
      "metadata": {
        "id": "TKUTlaVPgSQS"
      },
      "execution_count": null,
      "outputs": []
    },
    {
      "cell_type": "code",
      "source": [
        "# 5-кратная проверка и вывод результата\n",
        "cross_validate(algo, data, measures=['RMSE', 'MAE'], cv=5, verbose=True)"
      ],
      "metadata": {
        "colab": {
          "base_uri": "https://localhost:8080/"
        },
        "id": "jKtxt748gWES",
        "outputId": "bbd2dab3-7401-4a6b-8630-4d8e37b5a798"
      },
      "execution_count": null,
      "outputs": [
        {
          "output_type": "stream",
          "name": "stdout",
          "text": [
            "Evaluating RMSE, MAE of algorithm SVD on 5 split(s).\n",
            "\n",
            "                  Fold 1  Fold 2  Fold 3  Fold 4  Fold 5  Mean    Std     \n",
            "RMSE (testset)    0.8921  0.9012  0.9024  0.9040  0.9024  0.9004  0.0042  \n",
            "MAE (testset)     0.6900  0.6945  0.6943  0.6976  0.6952  0.6943  0.0025  \n",
            "Fit time          1.43    1.48    1.46    2.20    1.69    1.65    0.29    \n",
            "Test time         0.14    0.26    0.23    0.39    0.14    0.23    0.09    \n"
          ]
        },
        {
          "output_type": "execute_result",
          "data": {
            "text/plain": [
              "{'test_rmse': array([0.89213137, 0.9011748 , 0.90240178, 0.90396442, 0.90239351]),\n",
              " 'test_mae': array([0.68999337, 0.69447533, 0.69429167, 0.69756855, 0.69517541]),\n",
              " 'fit_time': (1.4260821342468262,\n",
              "  1.480858564376831,\n",
              "  1.4624080657958984,\n",
              "  2.203575611114502,\n",
              "  1.6902470588684082),\n",
              " 'test_time': (0.14466547966003418,\n",
              "  0.2580289840698242,\n",
              "  0.22706103324890137,\n",
              "  0.3869812488555908,\n",
              "  0.144989013671875)}"
            ]
          },
          "metadata": {},
          "execution_count": 18
        }
      ]
    }
  ],
  "metadata": {
    "colab": {
      "provenance": []
    },
    "kernelspec": {
      "display_name": "Python 3 (ipykernel)",
      "language": "python",
      "name": "python3"
    },
    "language_info": {
      "codemirror_mode": {
        "name": "ipython",
        "version": 3
      },
      "file_extension": ".py",
      "mimetype": "text/x-python",
      "name": "python",
      "nbconvert_exporter": "python",
      "pygments_lexer": "ipython3",
      "version": "3.11.3"
    }
  },
  "nbformat": 4,
  "nbformat_minor": 0
}