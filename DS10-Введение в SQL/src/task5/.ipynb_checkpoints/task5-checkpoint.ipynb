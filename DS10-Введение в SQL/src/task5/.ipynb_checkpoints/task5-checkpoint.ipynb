{
 "cells": [
  {
   "cell_type": "markdown",
   "id": "54fc975d-9c33-45e4-9853-13a7408861d5",
   "metadata": {
    "tags": []
   },
   "source": [
    "### Task 5"
   ]
  },
  {
   "cell_type": "markdown",
   "id": "03513607-e5e7-4e35-8157-2fa27056b5e5",
   "metadata": {},
   "source": [
    "Итак... давай, наконец, выясним, повлияло ли посещение ленты новостей на поведение учащихся. \n",
    "Приступили ли они в итоге к работе над лабораторным заданием раньше? Помни, что у нас есть две подготовленные \n",
    "таблицы в базе данных: `test` и `control`. Мы выполним нечто, похожее на A/B-тестирование.\n",
    "Чтобы обнаружить эффект, нам нужно вычислить значение дельты (период времени между датой первого коммита и\n",
    "сроком сдачи лабораторного задания) до того момента, когда учащиеся впервые посетили страницу с лентой новостей, и после этого.\n",
    "Мы должны сделать то же самое и для контрольной группы.\n",
    "\n",
    "Другими словами, каждый пользователь из тестовой таблицы имеет свою собственную временную метку для\n",
    "первого посещения новостной ленты. Мы хотим вычислить среднее значение дельты \n",
    "(разницу между датой первого коммита и сроком сдачи) до этой временной метки и после нее. \n",
    "Мы сделаем то же самое для пользователей в контрольной группе. Ты можешь сказать: «Но они вообще не посещали ленту новостей». \n",
    "Это так, и ранее мы решили использовать среднюю временную метку первого просмотра пользователями тестовой группы для пользователей контрольной группы.\n",
    "\n",
    "Если значение дельты перед первым посещением ленты новостей значительно отличается от этого показателя после первого \n",
    "посещения в тестовой группе, и мы не видим аналогичного эффекта в контрольной группе, значит, создание страницы \n",
    "с новостной лентой было отличной идеей. Мы можем распространить эту практику на всю группу.\n",
    "\n",
    "\n",
    "Подробное описание:\n",
    "1. Создай соединение с базой данных с помощью библиотеки `sqlite3`."
   ]
  },
  {
   "cell_type": "code",
   "execution_count": 1,
   "id": "7e757439-e5a8-4a88-90b5-21236760618b",
   "metadata": {},
   "outputs": [],
   "source": [
    "import sqlite3\n",
    "\n",
    "db_con = sqlite3.connect('..\\..\\data\\checking-logs.sqlite')"
   ]
  },
  {
   "cell_type": "markdown",
   "id": "6d6907f4-9e2d-42f2-9a25-4bba61bf0e63",
   "metadata": {},
   "source": [
    "2. Используя только **один** запрос для каждой из групп, создай два датафрейма: `test_results` и `control_results` со столбцами `time` и `avg_diff` и только двумя строками.\n",
    "    - `times` должно иметь значения `before` и `after`.\n",
    "    - `avg_diff` содержит среднее значение дельты для всех пользователей за период времени до первого посещения ленты новостей каждым из них и после этого.\n",
    "    - Учитываются только те пользователи, для которых имеются наблюдения и `before`, и `after`.\n",
    "3. Мы по-прежнему не используем лабораторное задание 'project1'."
   ]
  },
  {
   "cell_type": "code",
   "execution_count": 2,
   "id": "653516b6-e63d-400a-9375-b87c7c9aba45",
   "metadata": {},
   "outputs": [
    {
     "data": {
      "text/html": [
       "<div>\n",
       "<style scoped>\n",
       "    .dataframe tbody tr th:only-of-type {\n",
       "        vertical-align: middle;\n",
       "    }\n",
       "\n",
       "    .dataframe tbody tr th {\n",
       "        vertical-align: top;\n",
       "    }\n",
       "\n",
       "    .dataframe thead th {\n",
       "        text-align: right;\n",
       "    }\n",
       "</style>\n",
       "<table border=\"1\" class=\"dataframe\">\n",
       "  <thead>\n",
       "    <tr style=\"text-align: right;\">\n",
       "      <th></th>\n",
       "      <th>times</th>\n",
       "      <th>avg_diff</th>\n",
       "    </tr>\n",
       "  </thead>\n",
       "  <tbody>\n",
       "    <tr>\n",
       "      <th>0</th>\n",
       "      <td>after</td>\n",
       "      <td>-99.523810</td>\n",
       "    </tr>\n",
       "    <tr>\n",
       "      <th>1</th>\n",
       "      <td>before</td>\n",
       "      <td>-66.047619</td>\n",
       "    </tr>\n",
       "  </tbody>\n",
       "</table>\n",
       "</div>"
      ],
      "text/plain": [
       "    times   avg_diff\n",
       "0   after -99.523810\n",
       "1  before -66.047619"
      ]
     },
     "execution_count": 2,
     "metadata": {},
     "output_type": "execute_result"
    }
   ],
   "source": [
    "import pandas as pd\n",
    "\n",
    "test_results = pd.io.sql.read_sql('''SELECT times, AVG(avg_diff) as avg_diff\n",
    "        FROM (\n",
    "            SELECT uid, labname,\n",
    "                AVG ((strftime(\"%s\", first_commit_ts) - deadlines) / 3600) AS avg_diff,\n",
    "                    CASE\n",
    "                        WHEN (strftime(\"%s\", first_commit_ts)) < (strftime(\"%s\", first_view_ts))\n",
    "                        THEN \"before\" ELSE \"after\" END AS times\n",
    "            FROM test\n",
    "            LEFT JOIN deadlines ON test.labname = deadlines.labs\n",
    "            WHERE labname IN (\"laba04\", \"laba04s\", \"laba05\", \"laba06\", \"laba06s\")\n",
    "            GROUP BY uid, times)\n",
    "        WHERE uid IN (\n",
    "            SELECT uid\n",
    "            FROM (\n",
    "                SELECT uid, \n",
    "                    CASE\n",
    "                        WHEN (strftime(\"%s\", first_commit_ts)) < (strftime(\"%s\", first_view_ts))\n",
    "                        THEN \"before\" ELSE \"after\" END AS times\n",
    "                FROM test\n",
    "                LEFT JOIN deadlines ON test.labname = deadlines.labs\n",
    "                WHERE labname IN (\"laba04\", \"laba04s\", \"laba05\", \"laba06\", \"laba06s\")\n",
    "                GROUP BY uid, times)\n",
    "        GROUP BY uid\n",
    "        HAVING COUNT(uid) == 2)\n",
    "        GROUP BY times''', db_con)\n",
    "test_results"
   ]
  },
  {
   "cell_type": "code",
   "execution_count": 3,
   "id": "abb648f7-0329-42af-91b3-148ef93c940b",
   "metadata": {},
   "outputs": [
    {
     "data": {
      "text/html": [
       "<div>\n",
       "<style scoped>\n",
       "    .dataframe tbody tr th:only-of-type {\n",
       "        vertical-align: middle;\n",
       "    }\n",
       "\n",
       "    .dataframe tbody tr th {\n",
       "        vertical-align: top;\n",
       "    }\n",
       "\n",
       "    .dataframe thead th {\n",
       "        text-align: right;\n",
       "    }\n",
       "</style>\n",
       "<table border=\"1\" class=\"dataframe\">\n",
       "  <thead>\n",
       "    <tr style=\"text-align: right;\">\n",
       "      <th></th>\n",
       "      <th>times</th>\n",
       "      <th>avg_diff</th>\n",
       "    </tr>\n",
       "  </thead>\n",
       "  <tbody>\n",
       "    <tr>\n",
       "      <th>0</th>\n",
       "      <td>after</td>\n",
       "      <td>-99.322222</td>\n",
       "    </tr>\n",
       "    <tr>\n",
       "      <th>1</th>\n",
       "      <td>before</td>\n",
       "      <td>-98.033333</td>\n",
       "    </tr>\n",
       "  </tbody>\n",
       "</table>\n",
       "</div>"
      ],
      "text/plain": [
       "    times   avg_diff\n",
       "0   after -99.322222\n",
       "1  before -98.033333"
      ]
     },
     "execution_count": 3,
     "metadata": {},
     "output_type": "execute_result"
    }
   ],
   "source": [
    "control_results = pd.io.sql.read_sql('''SELECT times, AVG(avg_diff) as avg_diff\n",
    "        FROM (\n",
    "            SELECT uid, labname,\n",
    "                AVG ((strftime(\"%s\", first_commit_ts) - deadlines) / 3600) AS avg_diff,\n",
    "                    CASE\n",
    "                        WHEN (strftime(\"%s\", first_commit_ts)) < (strftime(\"%s\", first_view_ts))\n",
    "                        THEN \"before\" ELSE \"after\" END AS times\n",
    "            FROM control\n",
    "            LEFT JOIN deadlines ON control.labname = deadlines.labs\n",
    "            WHERE labname IN (\"laba04\", \"laba04s\", \"laba05\", \"laba06\", \"laba06s\")\n",
    "            GROUP BY uid, times)\n",
    "        WHERE uid IN (\n",
    "            SELECT uid\n",
    "            FROM (\n",
    "                SELECT uid, \n",
    "                    CASE\n",
    "                        WHEN (strftime(\"%s\", first_commit_ts)) < (strftime(\"%s\", first_view_ts))\n",
    "                        THEN \"before\" ELSE \"after\" END AS times\n",
    "                FROM control\n",
    "                LEFT JOIN deadlines ON control.labname = deadlines.labs\n",
    "                WHERE labname IN (\"laba04\", \"laba04s\", \"laba05\", \"laba06\", \"laba06s\")\n",
    "                GROUP BY uid, times)\n",
    "        GROUP BY uid\n",
    "        HAVING COUNT(uid) == 2)\n",
    "        GROUP BY times''', db_con)\n",
    "control_results"
   ]
  },
  {
   "cell_type": "markdown",
   "id": "48467b07-8312-4bce-b46a-ee992aabcbc7",
   "metadata": {},
   "source": [
    "4. Закрой соединение."
   ]
  },
  {
   "cell_type": "code",
   "execution_count": 4,
   "id": "62b01642-f860-4b6b-8cf9-b893dee2d44d",
   "metadata": {},
   "outputs": [],
   "source": [
    "db_con.close()"
   ]
  },
  {
   "cell_type": "markdown",
   "id": "01abf194-df80-4568-92fe-9a3628829280",
   "metadata": {
    "tags": []
   },
   "source": [
    "5. Дайте ответ: оказалось ли предположение верным и влияет ли наличие страницы с новостной лентой на поведение учащихся?"
   ]
  },
  {
   "cell_type": "markdown",
   "id": "17d0f393-0647-4d11-8647-36d0f90172ef",
   "metadata": {
    "tags": []
   },
   "source": [
    "Предположение верное, наличие страницы с новостной лентой влияет на поведение учащихся - сроки сдачи улучшились."
   ]
  }
 ],
 "metadata": {
  "kernelspec": {
   "display_name": "Python 3 (ipykernel)",
   "language": "python",
   "name": "python3"
  },
  "language_info": {
   "codemirror_mode": {
    "name": "ipython",
    "version": 3
   },
   "file_extension": ".py",
   "mimetype": "text/x-python",
   "name": "python",
   "nbconvert_exporter": "python",
   "pygments_lexer": "ipython3",
   "version": "3.11.3"
  }
 },
 "nbformat": 4,
 "nbformat_minor": 5
}
