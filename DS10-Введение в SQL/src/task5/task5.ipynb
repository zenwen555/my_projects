{
 "cells": [
  {
   "cell_type": "markdown",
   "id": "54fc975d-9c33-45e4-9853-13a7408861d5",
   "metadata": {
    "tags": []
   },
   "source": [
    "### Task 5"
   ]
  },
  {
   "cell_type": "markdown",
   "id": "10c5fa29",
   "metadata": {},
   "source": [
    "Проведём подобие **А/В тестирования** \\\n",
    "Тестирования для баз данных `test` - с учащимися, что посещали ленту новостей и `control` - с теми, которые её не просматривали \\\n",
    "Для этого вычислим два средних значения `delta` до первого посещения ленты новостей и после, для тестовой и контрольной групп, т.к. учащиеся контрольной группы не посещали ленту новостей, то мы будем использовать среднее значение даты первого посещения в таблице `test`, ранее мы его вычислили и сохранили в таблице `control`"
   ]
  },
  {
   "cell_type": "markdown",
   "id": "92095990",
   "metadata": {},
   "source": [
    "1. Используя библиотеку *sqlite3*, создадим соединение с базой данных"
   ]
  },
  {
   "cell_type": "code",
   "execution_count": null,
   "id": "7a20aed9",
   "metadata": {},
   "outputs": [],
   "source": [
    "import sqlite3\n",
    "\n",
    "db_con = sqlite3.connect('..\\..\\data\\checking-logs.sqlite')"
   ]
  },
  {
   "cell_type": "markdown",
   "id": "6d6907f4-9e2d-42f2-9a25-4bba61bf0e63",
   "metadata": {},
   "source": [
    "2. Используя данные таблиц `test` и `control` и только *один* запрос создадим два датафрейма **test_results** и **control_results**:\n",
    "    - новые датафреймы содержат 2 столбца `times` и `avg_diff`\n",
    "    - новые датафреймы содержат 2 строки, соответственно столбец `times` имет значения `before` и `after`\n",
    "    - столбец `avg_diff` содержит среднее значение `delta`, учитывающее всех учащихся за период времени до первого посещения ленты новостей и после, соответственно\n",
    "    - в анализе учавствуют учащиеся у которых есть значения и `before`, и `after`\n",
    "    - задание `project1` не учитываем "
   ]
  },
  {
   "cell_type": "code",
   "execution_count": 2,
   "id": "653516b6-e63d-400a-9375-b87c7c9aba45",
   "metadata": {},
   "outputs": [
    {
     "data": {
      "text/html": [
       "<div>\n",
       "<style scoped>\n",
       "    .dataframe tbody tr th:only-of-type {\n",
       "        vertical-align: middle;\n",
       "    }\n",
       "\n",
       "    .dataframe tbody tr th {\n",
       "        vertical-align: top;\n",
       "    }\n",
       "\n",
       "    .dataframe thead th {\n",
       "        text-align: right;\n",
       "    }\n",
       "</style>\n",
       "<table border=\"1\" class=\"dataframe\">\n",
       "  <thead>\n",
       "    <tr style=\"text-align: right;\">\n",
       "      <th></th>\n",
       "      <th>times</th>\n",
       "      <th>avg_diff</th>\n",
       "    </tr>\n",
       "  </thead>\n",
       "  <tbody>\n",
       "    <tr>\n",
       "      <th>0</th>\n",
       "      <td>after</td>\n",
       "      <td>-99.523810</td>\n",
       "    </tr>\n",
       "    <tr>\n",
       "      <th>1</th>\n",
       "      <td>before</td>\n",
       "      <td>-66.047619</td>\n",
       "    </tr>\n",
       "  </tbody>\n",
       "</table>\n",
       "</div>"
      ],
      "text/plain": [
       "    times   avg_diff\n",
       "0   after -99.523810\n",
       "1  before -66.047619"
      ]
     },
     "execution_count": 2,
     "metadata": {},
     "output_type": "execute_result"
    }
   ],
   "source": [
    "import pandas as pd\n",
    "\n",
    "test_results = pd.io.sql.read_sql('''SELECT times, AVG(avg_diff) as avg_diff\n",
    "        FROM (\n",
    "            SELECT uid, labname,\n",
    "                AVG ((strftime(\"%s\", first_commit_ts) - deadlines) / 3600) AS avg_diff,\n",
    "                    CASE\n",
    "                        WHEN (strftime(\"%s\", first_commit_ts)) < (strftime(\"%s\", first_view_ts))\n",
    "                        THEN \"before\" ELSE \"after\" END AS times\n",
    "            FROM test\n",
    "            LEFT JOIN deadlines ON test.labname = deadlines.labs\n",
    "            WHERE labname IN (\"laba04\", \"laba04s\", \"laba05\", \"laba06\", \"laba06s\")\n",
    "            GROUP BY uid, times)\n",
    "        WHERE uid IN (\n",
    "            SELECT uid\n",
    "            FROM (\n",
    "                SELECT uid, \n",
    "                    CASE\n",
    "                        WHEN (strftime(\"%s\", first_commit_ts)) < (strftime(\"%s\", first_view_ts))\n",
    "                        THEN \"before\" ELSE \"after\" END AS times\n",
    "                FROM test\n",
    "                LEFT JOIN deadlines ON test.labname = deadlines.labs\n",
    "                WHERE labname IN (\"laba04\", \"laba04s\", \"laba05\", \"laba06\", \"laba06s\")\n",
    "                GROUP BY uid, times)\n",
    "        GROUP BY uid\n",
    "        HAVING COUNT(uid) == 2)\n",
    "        GROUP BY times''', db_con)\n",
    "test_results"
   ]
  },
  {
   "cell_type": "code",
   "execution_count": 3,
   "id": "abb648f7-0329-42af-91b3-148ef93c940b",
   "metadata": {},
   "outputs": [
    {
     "data": {
      "text/html": [
       "<div>\n",
       "<style scoped>\n",
       "    .dataframe tbody tr th:only-of-type {\n",
       "        vertical-align: middle;\n",
       "    }\n",
       "\n",
       "    .dataframe tbody tr th {\n",
       "        vertical-align: top;\n",
       "    }\n",
       "\n",
       "    .dataframe thead th {\n",
       "        text-align: right;\n",
       "    }\n",
       "</style>\n",
       "<table border=\"1\" class=\"dataframe\">\n",
       "  <thead>\n",
       "    <tr style=\"text-align: right;\">\n",
       "      <th></th>\n",
       "      <th>times</th>\n",
       "      <th>avg_diff</th>\n",
       "    </tr>\n",
       "  </thead>\n",
       "  <tbody>\n",
       "    <tr>\n",
       "      <th>0</th>\n",
       "      <td>after</td>\n",
       "      <td>-99.322222</td>\n",
       "    </tr>\n",
       "    <tr>\n",
       "      <th>1</th>\n",
       "      <td>before</td>\n",
       "      <td>-98.033333</td>\n",
       "    </tr>\n",
       "  </tbody>\n",
       "</table>\n",
       "</div>"
      ],
      "text/plain": [
       "    times   avg_diff\n",
       "0   after -99.322222\n",
       "1  before -98.033333"
      ]
     },
     "execution_count": 3,
     "metadata": {},
     "output_type": "execute_result"
    }
   ],
   "source": [
    "control_results = pd.io.sql.read_sql('''SELECT times, AVG(avg_diff) as avg_diff\n",
    "        FROM (\n",
    "            SELECT uid, labname,\n",
    "                AVG ((strftime(\"%s\", first_commit_ts) - deadlines) / 3600) AS avg_diff,\n",
    "                    CASE\n",
    "                        WHEN (strftime(\"%s\", first_commit_ts)) < (strftime(\"%s\", first_view_ts))\n",
    "                        THEN \"before\" ELSE \"after\" END AS times\n",
    "            FROM control\n",
    "            LEFT JOIN deadlines ON control.labname = deadlines.labs\n",
    "            WHERE labname IN (\"laba04\", \"laba04s\", \"laba05\", \"laba06\", \"laba06s\")\n",
    "            GROUP BY uid, times)\n",
    "        WHERE uid IN (\n",
    "            SELECT uid\n",
    "            FROM (\n",
    "                SELECT uid, \n",
    "                    CASE\n",
    "                        WHEN (strftime(\"%s\", first_commit_ts)) < (strftime(\"%s\", first_view_ts))\n",
    "                        THEN \"before\" ELSE \"after\" END AS times\n",
    "                FROM control\n",
    "                LEFT JOIN deadlines ON control.labname = deadlines.labs\n",
    "                WHERE labname IN (\"laba04\", \"laba04s\", \"laba05\", \"laba06\", \"laba06s\")\n",
    "                GROUP BY uid, times)\n",
    "        GROUP BY uid\n",
    "        HAVING COUNT(uid) == 2)\n",
    "        GROUP BY times''', db_con)\n",
    "control_results"
   ]
  },
  {
   "cell_type": "markdown",
   "id": "48467b07-8312-4bce-b46a-ee992aabcbc7",
   "metadata": {},
   "source": [
    "3. Закроим соединение с базой данных"
   ]
  },
  {
   "cell_type": "code",
   "execution_count": 4,
   "id": "62b01642-f860-4b6b-8cf9-b893dee2d44d",
   "metadata": {},
   "outputs": [],
   "source": [
    "db_con.close()"
   ]
  },
  {
   "cell_type": "markdown",
   "id": "01abf194-df80-4568-92fe-9a3628829280",
   "metadata": {
    "tags": []
   },
   "source": [
    "4. Наконец, можем сделать вывод, повлияло ли наличие ленты новостей на мотивацию учащихся \\\n",
    "Если значение `delta` в тестовой группе значительно отличается перед первым посещением учащимися ленты новостей и после посещения и подобного не происходит в контрольной группе - значит мы можем рекомендовать компании распространить идею создания ленты новостей на платформе для всех обучающихся"
   ]
  },
  {
   "cell_type": "markdown",
   "id": "17d0f393-0647-4d11-8647-36d0f90172ef",
   "metadata": {
    "tags": []
   },
   "source": [
    "Предположение верное, посещение ленты новостей влияет на поведение учащихся - сроки сдачи в тестовой группе улучшились."
   ]
  }
 ],
 "metadata": {
  "kernelspec": {
   "display_name": "Python 3 (ipykernel)",
   "language": "python",
   "name": "python3"
  },
  "language_info": {
   "codemirror_mode": {
    "name": "ipython",
    "version": 3
   },
   "file_extension": ".py",
   "mimetype": "text/x-python",
   "name": "python",
   "nbconvert_exporter": "python",
   "pygments_lexer": "ipython3",
   "version": "3.11.3"
  }
 },
 "nbformat": 4,
 "nbformat_minor": 5
}
