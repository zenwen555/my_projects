{
 "cells": [
  {
   "cell_type": "markdown",
   "id": "1926efc0-f048-436c-91a5-ed112b9424aa",
   "metadata": {},
   "source": [
    "### Task 3"
   ]
  },
  {
   "cell_type": "markdown",
   "id": "342e2740-8084-4175-9a0d-d28f83bffc5d",
   "metadata": {},
   "source": [
    "В этом упражнении ты создашь так называемую витрину данных. Она представляет собой таблицу, \n",
    "которую можно использовать для аналитических целей. Обычно она создается путем объединения нескольких отдельных таблиц. \n",
    "В этом упражнении мы будем собирать различные данные о наших пользователях: когда они сделали свои первые коммиты, \n",
    "когда они впервые посетили ленту новостей и т. д. Это поможет позднее выполнить анализ данных.\n",
    "\n",
    "Что тебе нужно сделать в этом упражнении (ознакомься с полным описанием задания):\n",
    "\n",
    "1. Создай соединение с базой данных с помощью библиотеки `sqlite3`."
   ]
  },
  {
   "cell_type": "code",
   "execution_count": 6,
   "id": "725fd15b-3af9-4de0-a6b4-8eb1c9f30e2b",
   "metadata": {},
   "outputs": [],
   "source": [
    "import sqlite3\n",
    "\n",
    "db_con = sqlite3.connect('..\\..\\data\\checking-logs.sqlite')"
   ]
  },
  {
   "cell_type": "markdown",
   "id": "bf72ad1c-cbd7-4862-b1aa-046439b106cb",
   "metadata": {},
   "source": [
    "2. Создай новую таблицу `datamart` в базе данных, объединив таблицы `pageviews` и `checker` с помощью только **одного** запроса.\n",
    "    - Таблица должна содержать следующие столбцы: `uid`, `labname`, `first_commit_ts`, `first_view_ts`.\n",
    "    - `first_commit_ts` — это просто новое имя для столбца `timestamp` из таблицы `checker`; он показывает первый коммит конкретного лабораторного задания конкретного пользователя.\n",
    "    - `first_view_ts` — первое посещение пользователем из таблицы `pageviews`, метка времени посещения пользователем ленты новостей.\n",
    "    - По-прежнему нужно использовать фильтр `status = 'ready'`.\n",
    "    - По-прежнему нужно использовать фильтр `numTrials = 1`.\n",
    "    - Имена лабораторных заданий по-прежнему должны быть из следующего списка: `laba04`, `laba04s`, `laba05`, `laba06`, `laba06s`, `project1`.\n",
    "    - Таблица должна содержать только пользователей (`uid` с `user_*`), а не администраторов.\n",
    "    - `first_commit_ts` и `first_view_ts` должны быть распарсены как `datetime64[ns]`."
   ]
  },
  {
   "cell_type": "code",
   "execution_count": 7,
   "id": "0cac8fb0-9d86-4bcb-a280-282a20467fad",
   "metadata": {
    "tags": []
   },
   "outputs": [
    {
     "name": "stdout",
     "output_type": "stream",
     "text": [
      "<class 'pandas.core.frame.DataFrame'>\n",
      "RangeIndex: 140 entries, 0 to 139\n",
      "Data columns (total 4 columns):\n",
      " #   Column           Non-Null Count  Dtype         \n",
      "---  ------           --------------  -----         \n",
      " 0   uid              140 non-null    object        \n",
      " 1   labname          140 non-null    object        \n",
      " 2   first_commit_ts  140 non-null    datetime64[ns]\n",
      " 3   first_view_ts    59 non-null     datetime64[ns]\n",
      "dtypes: datetime64[ns](2), object(2)\n",
      "memory usage: 4.5+ KB\n"
     ]
    }
   ],
   "source": [
    "import pandas as pd\n",
    "\n",
    "datamart = pd.io.sql.read_sql('SELECT ch.uid, ch.labname, ch.timestamp AS first_commit_ts, MIN(pag.datetime) AS first_view_ts\\\n",
    "                              FROM checker AS ch\\\n",
    "                              LEFT JOIN pageviews AS pag\\\n",
    "                              ON ch.uid = pag.uid\\\n",
    "                              WHERE ch.status = \"ready\" AND\\\n",
    "                              ch.numTrials = 1 AND\\\n",
    "                              ch.labname IN (\"laba04\", \"laba04s\", \"laba05\", \"laba06\", \"laba06s\", \"project1\") AND\\\n",
    "                              ch.uid LIKE \"user_%\"\\\n",
    "                              GROUP BY ch.timestamp, ch.uid', db_con,  parse_dates=['first_commit_ts','first_view_ts']) # распарсены как datetime64[ns]\n",
    "\n",
    "datamart.to_sql('datamart', db_con, if_exists='replace')  # сохранили df в БД \n",
    "\n",
    "datamart.info()\n",
    "#datamart"
   ]
  },
  {
   "cell_type": "markdown",
   "id": "fd8b9692-e98c-45a3-b88f-82a34f2c6910",
   "metadata": {},
   "source": [
    "3. Используя методы библиотеки Pandas, создай два датафрейма: `test` и `control`.\n",
    "    - `test` должен включать пользователей, у которых имеются значения в `first_view_ts`.\n",
    "    - `control` должен включать пользователей, у которых отсутствуют значения в `first_view_ts`.\n",
    "    - Замени пропущенные значения в `control` средним значением `first_view_ts` пользователей из `test` (оно пригодится нам для анализа в будущем).\n",
    "    - Сохрани обе таблицы в базе данных (вы будете использовать их в следующих упражнениях)."
   ]
  },
  {
   "cell_type": "code",
   "execution_count": 8,
   "id": "4b21adcf-12de-45a3-a1e1-b9b379caa14d",
   "metadata": {
    "tags": []
   },
   "outputs": [
    {
     "name": "stdout",
     "output_type": "stream",
     "text": [
      "<class 'pandas.core.frame.DataFrame'>\n",
      "Index: 59 entries, 3 to 139\n",
      "Data columns (total 4 columns):\n",
      " #   Column           Non-Null Count  Dtype         \n",
      "---  ------           --------------  -----         \n",
      " 0   uid              59 non-null     object        \n",
      " 1   labname          59 non-null     object        \n",
      " 2   first_commit_ts  59 non-null     datetime64[ns]\n",
      " 3   first_view_ts    59 non-null     datetime64[ns]\n",
      "dtypes: datetime64[ns](2), object(2)\n",
      "memory usage: 2.3+ KB\n"
     ]
    }
   ],
   "source": [
    "test = datamart[datamart['first_view_ts'].notnull()] \n",
    "control = datamart[datamart['first_view_ts'].isnull()]\n",
    "\n",
    "control.loc[:, 'first_view_ts'] = test['first_view_ts'].mean()\n",
    "\n",
    "test.to_sql('test', db_con, if_exists='replace') # сохранили оба df в БД \n",
    "control.to_sql('control', db_con, if_exists='replace')\n",
    "\n",
    "test.info()"
   ]
  },
  {
   "cell_type": "code",
   "execution_count": 9,
   "id": "7327220a-7251-4eb7-b9d4-dd7bd5af266c",
   "metadata": {},
   "outputs": [
    {
     "name": "stdout",
     "output_type": "stream",
     "text": [
      "<class 'pandas.core.frame.DataFrame'>\n",
      "Index: 81 entries, 0 to 137\n",
      "Data columns (total 4 columns):\n",
      " #   Column           Non-Null Count  Dtype         \n",
      "---  ------           --------------  -----         \n",
      " 0   uid              81 non-null     object        \n",
      " 1   labname          81 non-null     object        \n",
      " 2   first_commit_ts  81 non-null     datetime64[ns]\n",
      " 3   first_view_ts    81 non-null     datetime64[ns]\n",
      "dtypes: datetime64[ns](2), object(2)\n",
      "memory usage: 3.2+ KB\n"
     ]
    }
   ],
   "source": [
    "control.info()"
   ]
  },
  {
   "cell_type": "markdown",
   "id": "a8763c03-183e-4522-ba17-503f0e561f0c",
   "metadata": {},
   "source": [
    "4. Закрой соединение."
   ]
  },
  {
   "cell_type": "code",
   "execution_count": 10,
   "id": "24996aed-bd69-4359-8099-54d7d8f17997",
   "metadata": {},
   "outputs": [],
   "source": [
    "db_con.close()"
   ]
  },
  {
   "cell_type": "markdown",
   "id": "5ce485c6-1512-42fc-b39f-87de7b60a1c1",
   "metadata": {},
   "source": [
    "Небольшой совет — выполняй все операции поочередно, от простой к более сложной, а не пытаясь сделать всё вместе и сразу. Это поможет в отладке твоих запросов."
   ]
  }
 ],
 "metadata": {
  "kernelspec": {
   "display_name": "Python 3 (ipykernel)",
   "language": "python",
   "name": "python3"
  },
  "language_info": {
   "codemirror_mode": {
    "name": "ipython",
    "version": 3
   },
   "file_extension": ".py",
   "mimetype": "text/x-python",
   "name": "python",
   "nbconvert_exporter": "python",
   "pygments_lexer": "ipython3",
   "version": "3.11.3"
  }
 },
 "nbformat": 4,
 "nbformat_minor": 5
}
