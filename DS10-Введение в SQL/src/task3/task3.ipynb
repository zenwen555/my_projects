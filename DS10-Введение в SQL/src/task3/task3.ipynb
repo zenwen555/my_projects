{
 "cells": [
  {
   "cell_type": "markdown",
   "id": "1926efc0-f048-436c-91a5-ed112b9424aa",
   "metadata": {},
   "source": [
    "### Task 3"
   ]
  },
  {
   "cell_type": "markdown",
   "id": "342e2740-8084-4175-9a0d-d28f83bffc5d",
   "metadata": {},
   "source": [
    "В этом задании мы создадим витрину данных, объединяя несколько таблиц, для дальнейшего анализа этих данных \\\n",
    "Нас интересуют следующие данные: даты первых коммитов заданий, дата первого посещения ленты новостей и др."
   ]
  },
  {
   "cell_type": "markdown",
   "id": "7cd4d611",
   "metadata": {},
   "source": [
    "1. Используя библиотеку *sqlite3*, создадим соединение с базой данных"
   ]
  },
  {
   "cell_type": "code",
   "execution_count": 1,
   "id": "725fd15b-3af9-4de0-a6b4-8eb1c9f30e2b",
   "metadata": {},
   "outputs": [],
   "source": [
    "import sqlite3\n",
    "\n",
    "db_con = sqlite3.connect('..\\..\\data\\checking-logs.sqlite')"
   ]
  },
  {
   "cell_type": "markdown",
   "id": "bf72ad1c-cbd7-4862-b1aa-046439b106cb",
   "metadata": {},
   "source": [
    "2. Используя только *один* запрос, объединим таблицы `pageviews` и `checker` в таблицу **datamart**, удовлетворящую следующим условиям:\n",
    "    - Таблица должна иметь столбцы - `uid`, `labname`, `first_commit_ts`, `first_view_ts`, где\n",
    "        - `first_commit_ts` - это новое имя столбца `timestamp` из таблицы `checker`, который содержит дату первого коммита каждого задания каждого учащегося\n",
    "        - `first_view_ts` -  это новое имя столбца `datetime` из таблицы `pageviews`, который содержит дату первого посещения учащимся ленты новостей\n",
    "    - Так же рассматриваем только готовые задания `status = 'ready'`\n",
    "    - Так же рассматриваем только первые коммиты `numTrials = 1`\n",
    "    - Так же нас интересуют только задания: `laba04`, `laba04s`, `laba05`, `laba06`, `laba06s`, `project1`\n",
    "    - Так же нас интересуют только учащиеся `uid = user_*`\n",
    "    - `first_commit_ts` и `first_view_ts` нужно распарсить как *datetime64[ns]*"
   ]
  },
  {
   "cell_type": "code",
   "execution_count": 2,
   "id": "0cac8fb0-9d86-4bcb-a280-282a20467fad",
   "metadata": {
    "tags": []
   },
   "outputs": [
    {
     "name": "stdout",
     "output_type": "stream",
     "text": [
      "<class 'pandas.core.frame.DataFrame'>\n",
      "RangeIndex: 140 entries, 0 to 139\n",
      "Data columns (total 4 columns):\n",
      " #   Column           Non-Null Count  Dtype         \n",
      "---  ------           --------------  -----         \n",
      " 0   uid              140 non-null    object        \n",
      " 1   labname          140 non-null    object        \n",
      " 2   first_commit_ts  140 non-null    datetime64[ns]\n",
      " 3   first_view_ts    59 non-null     datetime64[ns]\n",
      "dtypes: datetime64[ns](2), object(2)\n",
      "memory usage: 4.5+ KB\n"
     ]
    }
   ],
   "source": [
    "import pandas as pd\n",
    "\n",
    "datamart = pd.io.sql.read_sql('SELECT ch.uid, ch.labname, ch.timestamp AS first_commit_ts, MIN(pag.datetime) AS first_view_ts\\\n",
    "                              FROM checker AS ch\\\n",
    "                              LEFT JOIN pageviews AS pag\\\n",
    "                              ON ch.uid = pag.uid\\\n",
    "                              WHERE ch.status = \"ready\" AND\\\n",
    "                              ch.numTrials = 1 AND\\\n",
    "                              ch.labname IN (\"laba04\", \"laba04s\", \"laba05\", \"laba06\", \"laba06s\", \"project1\") AND\\\n",
    "                              ch.uid LIKE \"user_%\"\\\n",
    "                              GROUP BY ch.timestamp, ch.uid', db_con,  parse_dates=['first_commit_ts','first_view_ts']) # распарсены как datetime64[ns]\n",
    "\n",
    "datamart.to_sql('datamart', db_con, if_exists='replace')  # сохранили df в БД \n",
    "\n",
    "datamart.info()\n",
    "#datamart"
   ]
  },
  {
   "cell_type": "markdown",
   "id": "fd8b9692-e98c-45a3-b88f-82a34f2c6910",
   "metadata": {},
   "source": [
    "3. Создадим два датафрейма **test** и **control**, с помощью методов библиотеки **Pandas**\n",
    "    - в `test` включаем учащихся, у которых есть значения в `first_view_ts`, т.е. кто посещал ленту новостей\n",
    "    - в `control` включаем учащихся, у которых нет значения в `first_view_ts`, т.е. кто не посещал ленту новостей\n",
    "    - отсутствующие значения `first_view_ts` в `control` заменим на среднее значение `first_view_ts` из `test`, в дальнейшем будем использовать его для анализа\n",
    "    - сохраним **test** и **control** в базе данных"
   ]
  },
  {
   "cell_type": "code",
   "execution_count": 3,
   "id": "4b21adcf-12de-45a3-a1e1-b9b379caa14d",
   "metadata": {
    "tags": []
   },
   "outputs": [
    {
     "name": "stdout",
     "output_type": "stream",
     "text": [
      "<class 'pandas.core.frame.DataFrame'>\n",
      "Index: 59 entries, 3 to 139\n",
      "Data columns (total 4 columns):\n",
      " #   Column           Non-Null Count  Dtype         \n",
      "---  ------           --------------  -----         \n",
      " 0   uid              59 non-null     object        \n",
      " 1   labname          59 non-null     object        \n",
      " 2   first_commit_ts  59 non-null     datetime64[ns]\n",
      " 3   first_view_ts    59 non-null     datetime64[ns]\n",
      "dtypes: datetime64[ns](2), object(2)\n",
      "memory usage: 2.3+ KB\n"
     ]
    }
   ],
   "source": [
    "test = datamart[datamart['first_view_ts'].notnull()] \n",
    "control = datamart[datamart['first_view_ts'].isnull()]\n",
    "\n",
    "control.loc[:, 'first_view_ts'] = test['first_view_ts'].mean()\n",
    "\n",
    "test.to_sql('test', db_con, if_exists='replace') # сохранили оба df в БД \n",
    "control.to_sql('control', db_con, if_exists='replace')\n",
    "\n",
    "test.info()"
   ]
  },
  {
   "cell_type": "code",
   "execution_count": 4,
   "id": "7327220a-7251-4eb7-b9d4-dd7bd5af266c",
   "metadata": {},
   "outputs": [
    {
     "name": "stdout",
     "output_type": "stream",
     "text": [
      "<class 'pandas.core.frame.DataFrame'>\n",
      "Index: 81 entries, 0 to 137\n",
      "Data columns (total 4 columns):\n",
      " #   Column           Non-Null Count  Dtype         \n",
      "---  ------           --------------  -----         \n",
      " 0   uid              81 non-null     object        \n",
      " 1   labname          81 non-null     object        \n",
      " 2   first_commit_ts  81 non-null     datetime64[ns]\n",
      " 3   first_view_ts    81 non-null     datetime64[ns]\n",
      "dtypes: datetime64[ns](2), object(2)\n",
      "memory usage: 3.2+ KB\n"
     ]
    }
   ],
   "source": [
    "control.info()"
   ]
  },
  {
   "cell_type": "markdown",
   "id": "a8763c03-183e-4522-ba17-503f0e561f0c",
   "metadata": {},
   "source": [
    "4. Закроим соединение с базой данных"
   ]
  },
  {
   "cell_type": "code",
   "execution_count": null,
   "id": "4391484b",
   "metadata": {},
   "outputs": [],
   "source": [
    "db_con.close()"
   ]
  }
 ],
 "metadata": {
  "kernelspec": {
   "display_name": "Python 3 (ipykernel)",
   "language": "python",
   "name": "python3"
  },
  "language_info": {
   "codemirror_mode": {
    "name": "ipython",
    "version": 3
   },
   "file_extension": ".py",
   "mimetype": "text/x-python",
   "name": "python",
   "nbconvert_exporter": "python",
   "pygments_lexer": "ipython3",
   "version": "3.11.3"
  }
 },
 "nbformat": 4,
 "nbformat_minor": 5
}
