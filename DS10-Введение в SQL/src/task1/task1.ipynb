{
 "cells": [
  {
   "cell_type": "markdown",
   "id": "b698b69d-6ee1-4eb7-be13-aad510bec83a",
   "metadata": {
    "tags": []
   },
   "source": [
    "### Task 1"
   ]
  },
  {
   "cell_type": "markdown",
   "metadata": {},
   "source": [
    "Отсортируем, отфильтруем и приобразуем данные из базы"
   ]
  },
  {
   "cell_type": "markdown",
   "id": "0d65e79d-edc4-446b-82ce-f456c38ce55f",
   "metadata": {
    "tags": []
   },
   "source": [
    "1. Используя библиотеку *sqlite3*, создадим соединение с базой данных "
   ]
  },
  {
   "cell_type": "code",
   "execution_count": 1,
   "id": "05351865-7195-40e5-91c5-b6d5f43ed9a7",
   "metadata": {
    "ExecuteTime": {
     "end_time": "2023-07-21T19:05:28.961356200Z",
     "start_time": "2023-07-21T19:05:28.887785200Z"
    },
    "tags": []
   },
   "outputs": [],
   "source": [
    "import sqlite3\n",
    "\n",
    "db_con = sqlite3.connect('..\\..\\data\\checking-logs.sqlite') # создаём не явное соединение с БД в текущ. каталоге"
   ]
  },
  {
   "cell_type": "markdown",
   "id": "17585489-a19c-47ea-8112-23c3a75da265",
   "metadata": {},
   "source": [
    "2. Выведем информацию о таблице `pageviews`"
   ]
  },
  {
   "cell_type": "code",
   "execution_count": 2,
   "id": "a4064c05-304e-4cd1-9085-34c5901c25ea",
   "metadata": {
    "ExecuteTime": {
     "end_time": "2023-07-21T19:05:29.860957500Z",
     "start_time": "2023-07-21T19:05:28.894852Z"
    }
   },
   "outputs": [
    {
     "data": {
      "text/html": [
       "<div>\n",
       "<style scoped>\n",
       "    .dataframe tbody tr th:only-of-type {\n",
       "        vertical-align: middle;\n",
       "    }\n",
       "\n",
       "    .dataframe tbody tr th {\n",
       "        vertical-align: top;\n",
       "    }\n",
       "\n",
       "    .dataframe thead th {\n",
       "        text-align: right;\n",
       "    }\n",
       "</style>\n",
       "<table border=\"1\" class=\"dataframe\">\n",
       "  <thead>\n",
       "    <tr style=\"text-align: right;\">\n",
       "      <th></th>\n",
       "      <th>cid</th>\n",
       "      <th>name</th>\n",
       "      <th>type</th>\n",
       "      <th>notnull</th>\n",
       "      <th>dflt_value</th>\n",
       "      <th>pk</th>\n",
       "    </tr>\n",
       "  </thead>\n",
       "  <tbody>\n",
       "    <tr>\n",
       "      <th>0</th>\n",
       "      <td>0</td>\n",
       "      <td>index</td>\n",
       "      <td>INTEGER</td>\n",
       "      <td>0</td>\n",
       "      <td>None</td>\n",
       "      <td>0</td>\n",
       "    </tr>\n",
       "    <tr>\n",
       "      <th>1</th>\n",
       "      <td>1</td>\n",
       "      <td>uid</td>\n",
       "      <td>TEXT</td>\n",
       "      <td>0</td>\n",
       "      <td>None</td>\n",
       "      <td>0</td>\n",
       "    </tr>\n",
       "    <tr>\n",
       "      <th>2</th>\n",
       "      <td>2</td>\n",
       "      <td>datetime</td>\n",
       "      <td>TIMESTAMP</td>\n",
       "      <td>0</td>\n",
       "      <td>None</td>\n",
       "      <td>0</td>\n",
       "    </tr>\n",
       "  </tbody>\n",
       "</table>\n",
       "</div>"
      ],
      "text/plain": [
       "   cid      name       type  notnull dflt_value  pk\n",
       "0    0     index    INTEGER        0       None   0\n",
       "1    1       uid       TEXT        0       None   0\n",
       "2    2  datetime  TIMESTAMP        0       None   0"
      ]
     },
     "execution_count": 2,
     "metadata": {},
     "output_type": "execute_result"
    }
   ],
   "source": [
    "import pandas as pd\n",
    "\n",
    "pd.io.sql.read_sql('PRAGMA table_info(pageviews)', db_con) # чтение БД в df"
   ]
  },
  {
   "cell_type": "markdown",
   "id": "f1e7ff91-b527-46ea-8d73-152df56aa66d",
   "metadata": {},
   "source": [
    "3. Выведем первые 10 строк таблицы `pageviews`"
   ]
  },
  {
   "cell_type": "code",
   "execution_count": 3,
   "id": "0745408a-d953-4e2c-8e70-ec9008282db3",
   "metadata": {
    "ExecuteTime": {
     "end_time": "2023-07-21T19:05:29.890038100Z",
     "start_time": "2023-07-21T19:05:29.827739300Z"
    },
    "tags": []
   },
   "outputs": [
    {
     "data": {
      "text/html": [
       "<div>\n",
       "<style scoped>\n",
       "    .dataframe tbody tr th:only-of-type {\n",
       "        vertical-align: middle;\n",
       "    }\n",
       "\n",
       "    .dataframe tbody tr th {\n",
       "        vertical-align: top;\n",
       "    }\n",
       "\n",
       "    .dataframe thead th {\n",
       "        text-align: right;\n",
       "    }\n",
       "</style>\n",
       "<table border=\"1\" class=\"dataframe\">\n",
       "  <thead>\n",
       "    <tr style=\"text-align: right;\">\n",
       "      <th></th>\n",
       "      <th>index</th>\n",
       "      <th>uid</th>\n",
       "      <th>datetime</th>\n",
       "    </tr>\n",
       "  </thead>\n",
       "  <tbody>\n",
       "    <tr>\n",
       "      <th>0</th>\n",
       "      <td>0</td>\n",
       "      <td>admin_1</td>\n",
       "      <td>2020-04-17 12:01:08.463179</td>\n",
       "    </tr>\n",
       "    <tr>\n",
       "      <th>1</th>\n",
       "      <td>1</td>\n",
       "      <td>admin_1</td>\n",
       "      <td>2020-04-17 12:01:23.743946</td>\n",
       "    </tr>\n",
       "    <tr>\n",
       "      <th>2</th>\n",
       "      <td>2</td>\n",
       "      <td>admin_3</td>\n",
       "      <td>2020-04-17 12:17:39.287778</td>\n",
       "    </tr>\n",
       "    <tr>\n",
       "      <th>3</th>\n",
       "      <td>3</td>\n",
       "      <td>admin_3</td>\n",
       "      <td>2020-04-17 12:17:40.001768</td>\n",
       "    </tr>\n",
       "    <tr>\n",
       "      <th>4</th>\n",
       "      <td>4</td>\n",
       "      <td>admin_1</td>\n",
       "      <td>2020-04-17 12:27:30.646665</td>\n",
       "    </tr>\n",
       "    <tr>\n",
       "      <th>5</th>\n",
       "      <td>5</td>\n",
       "      <td>admin_1</td>\n",
       "      <td>2020-04-17 12:35:44.884757</td>\n",
       "    </tr>\n",
       "    <tr>\n",
       "      <th>6</th>\n",
       "      <td>6</td>\n",
       "      <td>admin_1</td>\n",
       "      <td>2020-04-17 12:35:52.735016</td>\n",
       "    </tr>\n",
       "    <tr>\n",
       "      <th>7</th>\n",
       "      <td>7</td>\n",
       "      <td>admin_3</td>\n",
       "      <td>2020-04-17 12:36:21.401412</td>\n",
       "    </tr>\n",
       "    <tr>\n",
       "      <th>8</th>\n",
       "      <td>8</td>\n",
       "      <td>admin_3</td>\n",
       "      <td>2020-04-17 12:36:22.023355</td>\n",
       "    </tr>\n",
       "    <tr>\n",
       "      <th>9</th>\n",
       "      <td>9</td>\n",
       "      <td>admin_1</td>\n",
       "      <td>2020-04-17 13:55:19.129243</td>\n",
       "    </tr>\n",
       "  </tbody>\n",
       "</table>\n",
       "</div>"
      ],
      "text/plain": [
       "   index      uid                    datetime\n",
       "0      0  admin_1  2020-04-17 12:01:08.463179\n",
       "1      1  admin_1  2020-04-17 12:01:23.743946\n",
       "2      2  admin_3  2020-04-17 12:17:39.287778\n",
       "3      3  admin_3  2020-04-17 12:17:40.001768\n",
       "4      4  admin_1  2020-04-17 12:27:30.646665\n",
       "5      5  admin_1  2020-04-17 12:35:44.884757\n",
       "6      6  admin_1  2020-04-17 12:35:52.735016\n",
       "7      7  admin_3  2020-04-17 12:36:21.401412\n",
       "8      8  admin_3  2020-04-17 12:36:22.023355\n",
       "9      9  admin_1  2020-04-17 13:55:19.129243"
      ]
     },
     "execution_count": 3,
     "metadata": {},
     "output_type": "execute_result"
    }
   ],
   "source": [
    "pd.io.sql.read_sql('SELECT * FROM pageviews LIMIT 10', db_con)"
   ]
  },
  {
   "cell_type": "markdown",
   "id": "31a44b5a-aa58-4bcf-a384-e463d7b77b1d",
   "metadata": {},
   "source": [
    "4. Получим подтаблицу с помощью *одного* запроса, в котором:\n",
    "    - используюем столбцы `uid` и `datetime`;\n",
    "    - не рассматриваем данные администраторов, а только пользователей `user_*`;\n",
    "    - сортируем по `uid` в порядке возрастания;\n",
    "    - столбец индекса — это `datetime`;\n",
    "    - данные `datetime` преобразуем в индекс *DatetimeIndex*;\n",
    "    - имя датафрейма — **pageviews**"
   ]
  },
  {
   "cell_type": "code",
   "execution_count": 4,
   "id": "d2428ea0-ef53-40fd-a934-783c2d9c614f",
   "metadata": {
    "ExecuteTime": {
     "end_time": "2023-07-21T19:05:29.942648400Z",
     "start_time": "2023-07-21T19:05:29.844355100Z"
    },
    "tags": []
   },
   "outputs": [
    {
     "data": {
      "text/html": [
       "<div>\n",
       "<style scoped>\n",
       "    .dataframe tbody tr th:only-of-type {\n",
       "        vertical-align: middle;\n",
       "    }\n",
       "\n",
       "    .dataframe tbody tr th {\n",
       "        vertical-align: top;\n",
       "    }\n",
       "\n",
       "    .dataframe thead th {\n",
       "        text-align: right;\n",
       "    }\n",
       "</style>\n",
       "<table border=\"1\" class=\"dataframe\">\n",
       "  <thead>\n",
       "    <tr style=\"text-align: right;\">\n",
       "      <th></th>\n",
       "      <th>uid</th>\n",
       "    </tr>\n",
       "    <tr>\n",
       "      <th>datetime</th>\n",
       "      <th></th>\n",
       "    </tr>\n",
       "  </thead>\n",
       "  <tbody>\n",
       "    <tr>\n",
       "      <th>2020-04-26 21:53:59.624136</th>\n",
       "      <td>user_1</td>\n",
       "    </tr>\n",
       "    <tr>\n",
       "      <th>2020-04-26 22:06:19.478143</th>\n",
       "      <td>user_1</td>\n",
       "    </tr>\n",
       "    <tr>\n",
       "      <th>2020-04-26 22:12:09.614497</th>\n",
       "      <td>user_1</td>\n",
       "    </tr>\n",
       "    <tr>\n",
       "      <th>2020-04-30 19:29:01.831635</th>\n",
       "      <td>user_1</td>\n",
       "    </tr>\n",
       "    <tr>\n",
       "      <th>2020-05-05 20:26:32.894852</th>\n",
       "      <td>user_1</td>\n",
       "    </tr>\n",
       "  </tbody>\n",
       "</table>\n",
       "</div>"
      ],
      "text/plain": [
       "                               uid\n",
       "datetime                          \n",
       "2020-04-26 21:53:59.624136  user_1\n",
       "2020-04-26 22:06:19.478143  user_1\n",
       "2020-04-26 22:12:09.614497  user_1\n",
       "2020-04-30 19:29:01.831635  user_1\n",
       "2020-05-05 20:26:32.894852  user_1"
      ]
     },
     "execution_count": 4,
     "metadata": {},
     "output_type": "execute_result"
    }
   ],
   "source": [
    "pageviews = pd.io.sql.read_sql('SELECT uid, datetime FROM pageviews WHERE uid LIKE \"user_%\" ORDER BY uid',\n",
    "                            db_con, parse_dates = ['datetime'], index_col = 'datetime')\n",
    "pageviews.head()"
   ]
  },
  {
   "cell_type": "code",
   "execution_count": 5,
   "id": "04634979-9e1e-4cff-ad38-bd8706fff6b9",
   "metadata": {
    "ExecuteTime": {
     "end_time": "2023-07-21T19:05:29.942648400Z",
     "start_time": "2023-07-21T19:05:29.875011400Z"
    },
    "tags": []
   },
   "outputs": [
    {
     "name": "stdout",
     "output_type": "stream",
     "text": [
      "<class 'pandas.core.frame.DataFrame'>\n",
      "DatetimeIndex: 987 entries, 2020-04-26 21:53:59.624136 to 2020-05-21 16:36:40.915488\n",
      "Data columns (total 1 columns):\n",
      " #   Column  Non-Null Count  Dtype \n",
      "---  ------  --------------  ----- \n",
      " 0   uid     987 non-null    object\n",
      "dtypes: object(1)\n",
      "memory usage: 15.4+ KB\n"
     ]
    }
   ],
   "source": [
    "pageviews.info()"
   ]
  },
  {
   "cell_type": "markdown",
   "id": "779dd8b0-ad9a-4d97-a4f2-5d47ed73b42d",
   "metadata": {},
   "source": [
    "5. В конце закроим соединение с базой данных"
   ]
  },
  {
   "cell_type": "code",
   "execution_count": 6,
   "id": "84160250-5de7-4021-af59-6bf1712da815",
   "metadata": {
    "ExecuteTime": {
     "end_time": "2023-07-21T19:05:29.942648400Z",
     "start_time": "2023-07-21T19:05:29.897801500Z"
    },
    "tags": []
   },
   "outputs": [],
   "source": [
    "db_con.close()"
   ]
  },
  {
   "cell_type": "code",
   "execution_count": 6,
   "id": "e7d7f0b6-46ac-41de-ba2e-c01928429ca8",
   "metadata": {
    "ExecuteTime": {
     "end_time": "2023-07-21T19:05:30.008679700Z",
     "start_time": "2023-07-21T19:05:29.903405Z"
    }
   },
   "outputs": [],
   "source": []
  }
 ],
 "metadata": {
  "kernelspec": {
   "display_name": "Python 3 (ipykernel)",
   "language": "python",
   "name": "python3"
  },
  "language_info": {
   "codemirror_mode": {
    "name": "ipython",
    "version": 3
   },
   "file_extension": ".py",
   "mimetype": "text/x-python",
   "name": "python",
   "nbconvert_exporter": "python",
   "pygments_lexer": "ipython3",
   "version": "3.11.3"
  }
 },
 "nbformat": 4,
 "nbformat_minor": 5
}
