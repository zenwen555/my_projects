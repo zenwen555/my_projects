{
 "cells": [
  {
   "cell_type": "markdown",
   "id": "333d1e76-c8d0-45d1-a458-32f8042ea524",
   "metadata": {},
   "source": [
    "### Task 4"
   ]
  },
  {
   "cell_type": "markdown",
   "id": "44d83aaa-672f-4cb7-b9e6-601f5c4eb97e",
   "metadata": {},
   "source": [
    "Теперь проанализируем, влияет ли просмотр ленты новостей на сроки сдачи работ \\\n",
    " Сроки сдачи соответствующих заданий загружены в таблице **deadlines** \\\n",
    " Нашей метрикой будет  - разница между датой начала работы над заданием и датой его сдачи"
   ]
  },
  {
   "cell_type": "markdown",
   "id": "b212dd30",
   "metadata": {},
   "source": [
    "1. Используя библиотеку *sqlite3*, создадим соединение с базой данных"
   ]
  },
  {
   "cell_type": "code",
   "execution_count": 1,
   "id": "7e003e4f-8de7-46dc-938d-48008ea86b5e",
   "metadata": {},
   "outputs": [],
   "source": [
    "import sqlite3\n",
    "\n",
    "db_con = sqlite3.connect('..\\..\\data\\checking-logs.sqlite')"
   ]
  },
  {
   "cell_type": "markdown",
   "id": "29181fc0-245f-4d29-9991-515151c4dace",
   "metadata": {},
   "source": [
    "2. Выведем информацию о таблице `test`"
   ]
  },
  {
   "cell_type": "code",
   "execution_count": 2,
   "id": "cdf4a1ce-8e03-4435-94cc-674f96800928",
   "metadata": {},
   "outputs": [
    {
     "data": {
      "text/html": [
       "<div>\n",
       "<style scoped>\n",
       "    .dataframe tbody tr th:only-of-type {\n",
       "        vertical-align: middle;\n",
       "    }\n",
       "\n",
       "    .dataframe tbody tr th {\n",
       "        vertical-align: top;\n",
       "    }\n",
       "\n",
       "    .dataframe thead th {\n",
       "        text-align: right;\n",
       "    }\n",
       "</style>\n",
       "<table border=\"1\" class=\"dataframe\">\n",
       "  <thead>\n",
       "    <tr style=\"text-align: right;\">\n",
       "      <th></th>\n",
       "      <th>cid</th>\n",
       "      <th>name</th>\n",
       "      <th>type</th>\n",
       "      <th>notnull</th>\n",
       "      <th>dflt_value</th>\n",
       "      <th>pk</th>\n",
       "    </tr>\n",
       "  </thead>\n",
       "  <tbody>\n",
       "    <tr>\n",
       "      <th>0</th>\n",
       "      <td>0</td>\n",
       "      <td>index</td>\n",
       "      <td>INTEGER</td>\n",
       "      <td>0</td>\n",
       "      <td>None</td>\n",
       "      <td>0</td>\n",
       "    </tr>\n",
       "    <tr>\n",
       "      <th>1</th>\n",
       "      <td>1</td>\n",
       "      <td>uid</td>\n",
       "      <td>TEXT</td>\n",
       "      <td>0</td>\n",
       "      <td>None</td>\n",
       "      <td>0</td>\n",
       "    </tr>\n",
       "    <tr>\n",
       "      <th>2</th>\n",
       "      <td>2</td>\n",
       "      <td>labname</td>\n",
       "      <td>TEXT</td>\n",
       "      <td>0</td>\n",
       "      <td>None</td>\n",
       "      <td>0</td>\n",
       "    </tr>\n",
       "    <tr>\n",
       "      <th>3</th>\n",
       "      <td>3</td>\n",
       "      <td>first_commit_ts</td>\n",
       "      <td>TIMESTAMP</td>\n",
       "      <td>0</td>\n",
       "      <td>None</td>\n",
       "      <td>0</td>\n",
       "    </tr>\n",
       "    <tr>\n",
       "      <th>4</th>\n",
       "      <td>4</td>\n",
       "      <td>first_view_ts</td>\n",
       "      <td>TIMESTAMP</td>\n",
       "      <td>0</td>\n",
       "      <td>None</td>\n",
       "      <td>0</td>\n",
       "    </tr>\n",
       "  </tbody>\n",
       "</table>\n",
       "</div>"
      ],
      "text/plain": [
       "   cid             name       type  notnull dflt_value  pk\n",
       "0    0            index    INTEGER        0       None   0\n",
       "1    1              uid       TEXT        0       None   0\n",
       "2    2          labname       TEXT        0       None   0\n",
       "3    3  first_commit_ts  TIMESTAMP        0       None   0\n",
       "4    4    first_view_ts  TIMESTAMP        0       None   0"
      ]
     },
     "execution_count": 2,
     "metadata": {},
     "output_type": "execute_result"
    }
   ],
   "source": [
    "import pandas as pd\n",
    "\n",
    "pd.io.sql.read_sql('PRAGMA table_info(test)', db_con)"
   ]
  },
  {
   "cell_type": "markdown",
   "id": "239ab1bc-6414-40f9-9a4e-516b13af3523",
   "metadata": {},
   "source": [
    "3. Выведем первые 10 строк таблицы `test`"
   ]
  },
  {
   "cell_type": "code",
   "execution_count": 3,
   "id": "bf5fb662-29c5-42bf-8919-111b6b0d9546",
   "metadata": {},
   "outputs": [
    {
     "data": {
      "text/html": [
       "<div>\n",
       "<style scoped>\n",
       "    .dataframe tbody tr th:only-of-type {\n",
       "        vertical-align: middle;\n",
       "    }\n",
       "\n",
       "    .dataframe tbody tr th {\n",
       "        vertical-align: top;\n",
       "    }\n",
       "\n",
       "    .dataframe thead th {\n",
       "        text-align: right;\n",
       "    }\n",
       "</style>\n",
       "<table border=\"1\" class=\"dataframe\">\n",
       "  <thead>\n",
       "    <tr style=\"text-align: right;\">\n",
       "      <th></th>\n",
       "      <th>index</th>\n",
       "      <th>uid</th>\n",
       "      <th>labname</th>\n",
       "      <th>first_commit_ts</th>\n",
       "      <th>first_view_ts</th>\n",
       "    </tr>\n",
       "  </thead>\n",
       "  <tbody>\n",
       "    <tr>\n",
       "      <th>0</th>\n",
       "      <td>3</td>\n",
       "      <td>user_17</td>\n",
       "      <td>project1</td>\n",
       "      <td>2020-04-18 07:56:45.408648</td>\n",
       "      <td>2020-04-18 10:56:55.833899</td>\n",
       "    </tr>\n",
       "    <tr>\n",
       "      <th>1</th>\n",
       "      <td>4</td>\n",
       "      <td>user_30</td>\n",
       "      <td>laba04</td>\n",
       "      <td>2020-04-18 13:36:53.971502</td>\n",
       "      <td>2020-04-17 22:46:26.785035</td>\n",
       "    </tr>\n",
       "    <tr>\n",
       "      <th>2</th>\n",
       "      <td>7</td>\n",
       "      <td>user_30</td>\n",
       "      <td>laba04s</td>\n",
       "      <td>2020-04-18 14:51:37.498399</td>\n",
       "      <td>2020-04-17 22:46:26.785035</td>\n",
       "    </tr>\n",
       "    <tr>\n",
       "      <th>3</th>\n",
       "      <td>8</td>\n",
       "      <td>user_14</td>\n",
       "      <td>laba04</td>\n",
       "      <td>2020-04-18 15:14:00.312338</td>\n",
       "      <td>2020-04-18 10:53:52.623447</td>\n",
       "    </tr>\n",
       "    <tr>\n",
       "      <th>4</th>\n",
       "      <td>11</td>\n",
       "      <td>user_14</td>\n",
       "      <td>laba04s</td>\n",
       "      <td>2020-04-18 22:30:30.247628</td>\n",
       "      <td>2020-04-18 10:53:52.623447</td>\n",
       "    </tr>\n",
       "    <tr>\n",
       "      <th>5</th>\n",
       "      <td>18</td>\n",
       "      <td>user_19</td>\n",
       "      <td>laba04</td>\n",
       "      <td>2020-04-20 19:05:01.297780</td>\n",
       "      <td>2020-04-21 20:30:38.034966</td>\n",
       "    </tr>\n",
       "    <tr>\n",
       "      <th>6</th>\n",
       "      <td>19</td>\n",
       "      <td>user_25</td>\n",
       "      <td>laba04</td>\n",
       "      <td>2020-04-20 19:16:50.673054</td>\n",
       "      <td>2020-05-09 23:54:54.260791</td>\n",
       "    </tr>\n",
       "    <tr>\n",
       "      <th>7</th>\n",
       "      <td>20</td>\n",
       "      <td>user_21</td>\n",
       "      <td>laba04</td>\n",
       "      <td>2020-04-21 17:48:00.487806</td>\n",
       "      <td>2020-04-22 22:40:36.824081</td>\n",
       "    </tr>\n",
       "    <tr>\n",
       "      <th>8</th>\n",
       "      <td>21</td>\n",
       "      <td>user_30</td>\n",
       "      <td>project1</td>\n",
       "      <td>2020-04-22 12:36:24.053518</td>\n",
       "      <td>2020-04-17 22:46:26.785035</td>\n",
       "    </tr>\n",
       "    <tr>\n",
       "      <th>9</th>\n",
       "      <td>23</td>\n",
       "      <td>user_21</td>\n",
       "      <td>laba04s</td>\n",
       "      <td>2020-04-22 20:09:21.857747</td>\n",
       "      <td>2020-04-22 22:40:36.824081</td>\n",
       "    </tr>\n",
       "  </tbody>\n",
       "</table>\n",
       "</div>"
      ],
      "text/plain": [
       "   index      uid   labname             first_commit_ts   \n",
       "0      3  user_17  project1  2020-04-18 07:56:45.408648  \\\n",
       "1      4  user_30    laba04  2020-04-18 13:36:53.971502   \n",
       "2      7  user_30   laba04s  2020-04-18 14:51:37.498399   \n",
       "3      8  user_14    laba04  2020-04-18 15:14:00.312338   \n",
       "4     11  user_14   laba04s  2020-04-18 22:30:30.247628   \n",
       "5     18  user_19    laba04  2020-04-20 19:05:01.297780   \n",
       "6     19  user_25    laba04  2020-04-20 19:16:50.673054   \n",
       "7     20  user_21    laba04  2020-04-21 17:48:00.487806   \n",
       "8     21  user_30  project1  2020-04-22 12:36:24.053518   \n",
       "9     23  user_21   laba04s  2020-04-22 20:09:21.857747   \n",
       "\n",
       "                first_view_ts  \n",
       "0  2020-04-18 10:56:55.833899  \n",
       "1  2020-04-17 22:46:26.785035  \n",
       "2  2020-04-17 22:46:26.785035  \n",
       "3  2020-04-18 10:53:52.623447  \n",
       "4  2020-04-18 10:53:52.623447  \n",
       "5  2020-04-21 20:30:38.034966  \n",
       "6  2020-05-09 23:54:54.260791  \n",
       "7  2020-04-22 22:40:36.824081  \n",
       "8  2020-04-17 22:46:26.785035  \n",
       "9  2020-04-22 22:40:36.824081  "
      ]
     },
     "execution_count": 3,
     "metadata": {},
     "output_type": "execute_result"
    }
   ],
   "source": [
    "pd.io.sql.read_sql('SELECT * FROM test LIMIT 10;', db_con)"
   ]
  },
  {
   "cell_type": "markdown",
   "id": "124ba4aa-f941-4810-b767-a54441232f88",
   "metadata": {},
   "source": [
    "4. Найдём и выведем минимальное значение `delta` и имя пользователя с этим минимальным периодом, используя *один* запрос \\\n",
    "Для этого:\n",
    "    - объединим данные своей таблицы с данными таблицы `deadlines`\n",
    "    - переведём период времи в часы\n",
    "    - задание `project1` учитывать не будем, т.к. у него длинный срок сдачи\n",
    "    - в датафрейме **df_min** сохраним значение `delta` и соответствующий `uid`"
   ]
  },
  {
   "cell_type": "code",
   "execution_count": 4,
   "id": "63a60ae4-4da4-4b25-b515-5035ae0c0b0d",
   "metadata": {},
   "outputs": [
    {
     "data": {
      "text/html": [
       "<div>\n",
       "<style scoped>\n",
       "    .dataframe tbody tr th:only-of-type {\n",
       "        vertical-align: middle;\n",
       "    }\n",
       "\n",
       "    .dataframe tbody tr th {\n",
       "        vertical-align: top;\n",
       "    }\n",
       "\n",
       "    .dataframe thead th {\n",
       "        text-align: right;\n",
       "    }\n",
       "</style>\n",
       "<table border=\"1\" class=\"dataframe\">\n",
       "  <thead>\n",
       "    <tr style=\"text-align: right;\">\n",
       "      <th></th>\n",
       "      <th>uid</th>\n",
       "      <th>MIN_diff</th>\n",
       "    </tr>\n",
       "  </thead>\n",
       "  <tbody>\n",
       "    <tr>\n",
       "      <th>0</th>\n",
       "      <td>user_30</td>\n",
       "      <td>-202</td>\n",
       "    </tr>\n",
       "  </tbody>\n",
       "</table>\n",
       "</div>"
      ],
      "text/plain": [
       "       uid  MIN_diff\n",
       "0  user_30      -202"
      ]
     },
     "execution_count": 4,
     "metadata": {},
     "output_type": "execute_result"
    }
   ],
   "source": [
    "df_min =  pd.io.sql.read_sql('SELECT uid, MIN((strftime(\"%s\", first_commit_ts)- deadlines)/3600) as MIN_diff\\\n",
    "                             FROM (SELECT * from test\\\n",
    "                             WHERE labname IN (\"laba04\", \"laba04s\", \"laba05\", \"laba06\", \"laba06s\"))\\\n",
    "                             LEFT JOIN deadlines ON labname = labs', db_con)\n",
    "df_min"
   ]
  },
  {
   "cell_type": "markdown",
   "id": "01144ac6-aa06-4ea6-af22-c967182f93c6",
   "metadata": {},
   "source": [
    "5. Сделаем тоже самое для максимального значения `delta`, используя *один* запрос и название датафрейма - **df_max**"
   ]
  },
  {
   "cell_type": "code",
   "execution_count": 5,
   "id": "b1172234-4817-4f22-9048-f7b1ad777e04",
   "metadata": {},
   "outputs": [
    {
     "data": {
      "text/html": [
       "<div>\n",
       "<style scoped>\n",
       "    .dataframe tbody tr th:only-of-type {\n",
       "        vertical-align: middle;\n",
       "    }\n",
       "\n",
       "    .dataframe tbody tr th {\n",
       "        vertical-align: top;\n",
       "    }\n",
       "\n",
       "    .dataframe thead th {\n",
       "        text-align: right;\n",
       "    }\n",
       "</style>\n",
       "<table border=\"1\" class=\"dataframe\">\n",
       "  <thead>\n",
       "    <tr style=\"text-align: right;\">\n",
       "      <th></th>\n",
       "      <th>uid</th>\n",
       "      <th>MAX_diff</th>\n",
       "    </tr>\n",
       "  </thead>\n",
       "  <tbody>\n",
       "    <tr>\n",
       "      <th>0</th>\n",
       "      <td>user_25</td>\n",
       "      <td>-2</td>\n",
       "    </tr>\n",
       "  </tbody>\n",
       "</table>\n",
       "</div>"
      ],
      "text/plain": [
       "       uid  MAX_diff\n",
       "0  user_25        -2"
      ]
     },
     "execution_count": 5,
     "metadata": {},
     "output_type": "execute_result"
    }
   ],
   "source": [
    "df_max =  pd.io.sql.read_sql('SELECT uid, MAX((strftime(\"%s\", first_commit_ts) - deadlines)/3600) as MAX_diff\\\n",
    "                             FROM (SELECT * from test\\\n",
    "                             WHERE labname IN (\"laba04\", \"laba04s\", \"laba05\", \"laba06\", \"laba06s\"))\\\n",
    "                             LEFT JOIN deadlines ON labname = labs', db_con)\n",
    "df_max"
   ]
  },
  {
   "cell_type": "markdown",
   "id": "245321d5-e86b-4107-b2a7-3dd5e2b79e47",
   "metadata": {},
   "source": [
    "6. Сделаем тоже самое для среднего значения `delta`, используя *один* запрос, название датафрейма - **df_avg** и в нём будет отсутствовать столбец `uid`"
   ]
  },
  {
   "cell_type": "code",
   "execution_count": 6,
   "id": "327f901c-af80-494c-a4b8-b0b847f249f2",
   "metadata": {},
   "outputs": [
    {
     "data": {
      "text/html": [
       "<div>\n",
       "<style scoped>\n",
       "    .dataframe tbody tr th:only-of-type {\n",
       "        vertical-align: middle;\n",
       "    }\n",
       "\n",
       "    .dataframe tbody tr th {\n",
       "        vertical-align: top;\n",
       "    }\n",
       "\n",
       "    .dataframe thead th {\n",
       "        text-align: right;\n",
       "    }\n",
       "</style>\n",
       "<table border=\"1\" class=\"dataframe\">\n",
       "  <thead>\n",
       "    <tr style=\"text-align: right;\">\n",
       "      <th></th>\n",
       "      <th>AVG_diff</th>\n",
       "    </tr>\n",
       "  </thead>\n",
       "  <tbody>\n",
       "    <tr>\n",
       "      <th>0</th>\n",
       "      <td>-89.125</td>\n",
       "    </tr>\n",
       "  </tbody>\n",
       "</table>\n",
       "</div>"
      ],
      "text/plain": [
       "   AVG_diff\n",
       "0   -89.125"
      ]
     },
     "execution_count": 6,
     "metadata": {},
     "output_type": "execute_result"
    }
   ],
   "source": [
    "df_avg =  pd.io.sql.read_sql('SELECT AVG((strftime(\"%s\", first_commit_ts) - deadlines)/3600) as AVG_diff\\\n",
    "                             FROM (SELECT * from test\\\n",
    "                             WHERE labname IN (\"laba04\", \"laba04s\", \"laba05\", \"laba06\", \"laba06s\"))\\\n",
    "                             LEFT JOIN deadlines ON labname = labs', db_con)\n",
    "df_avg"
   ]
  },
  {
   "cell_type": "markdown",
   "id": "c1fc512b-5f2b-4b5f-a28b-a4187b8dff4f",
   "metadata": {},
   "source": [
    "7. Теперь проверим верно ли, что у учащихся, просматривающих ленту новостей, срок сдачи заданий меньше \\\n",
    " Рассчитаем для этого коэффициент корреляции между количеством посещений ленты новостей и средним значением `delta` для каждого учащегося\n",
    "    - С помощью *одного* запрос, создадим таблицу со столбцами: `uid`, `avg_diff`, `pageviews`, где\n",
    "        - `uid` - это `uid` учащихся из таблицы `test`;\n",
    "        - `avg_diff` - среднее значение `delta`, т.е. период между датой первого коммита и датой сдачи для каждого задания каждого учащегося;\n",
    "        - `pageviews` — количество посещений ленты новостей каждым учащимся;\n",
    "        - задание `project1` учитывать не будем;\n",
    "        - сохраним данные в датафрейме **views_diff** \n",
    "    - Чтоб вычислить коэффициент корреляции между количеством посещений ленты новостей и значением `delta`, воспользуемся методом *corr()* библиотеки **Pandas**"
   ]
  },
  {
   "cell_type": "code",
   "execution_count": 7,
   "id": "39bbaa43-fa91-44d9-8da4-e15f7672cec3",
   "metadata": {},
   "outputs": [
    {
     "data": {
      "text/html": [
       "<div>\n",
       "<style scoped>\n",
       "    .dataframe tbody tr th:only-of-type {\n",
       "        vertical-align: middle;\n",
       "    }\n",
       "\n",
       "    .dataframe tbody tr th {\n",
       "        vertical-align: top;\n",
       "    }\n",
       "\n",
       "    .dataframe thead th {\n",
       "        text-align: right;\n",
       "    }\n",
       "</style>\n",
       "<table border=\"1\" class=\"dataframe\">\n",
       "  <thead>\n",
       "    <tr style=\"text-align: right;\">\n",
       "      <th></th>\n",
       "      <th>avg_diff</th>\n",
       "      <th>pageviews</th>\n",
       "    </tr>\n",
       "  </thead>\n",
       "  <tbody>\n",
       "    <tr>\n",
       "      <th>avg_diff</th>\n",
       "      <td>1.000000</td>\n",
       "      <td>-0.279736</td>\n",
       "    </tr>\n",
       "    <tr>\n",
       "      <th>pageviews</th>\n",
       "      <td>-0.279736</td>\n",
       "      <td>1.000000</td>\n",
       "    </tr>\n",
       "  </tbody>\n",
       "</table>\n",
       "</div>"
      ],
      "text/plain": [
       "           avg_diff  pageviews\n",
       "avg_diff   1.000000  -0.279736\n",
       "pageviews -0.279736   1.000000"
      ]
     },
     "execution_count": 7,
     "metadata": {},
     "output_type": "execute_result"
    }
   ],
   "source": [
    "views_diff = pd.io.sql.read_sql('SELECT uid, avg_diff, pageviews FROM (SELECT uid, AVG((strftime(\"%s\", first_commit_ts) - deadlines) / 3600) AS avg_diff\\\n",
    "                                FROM test\\\n",
    "                                LEFT JOIN deadlines\\\n",
    "                                ON test.labname = deadlines.labs\\\n",
    "                                WHERE test.labname IN (\"laba04\", \"laba04s\", \"laba05\", \"laba06\", \"laba06s\")\\\n",
    "                                GROUP BY uid)\\\n",
    "                                LEFT JOIN\\\n",
    "                                (SELECT uid as uid_, COUNT(uid) as pageviews\\\n",
    "                                FROM pageviews\\\n",
    "                                GROUP BY uid)\\\n",
    "                                ON uid = uid_', db_con, index_col=\"uid\")\n",
    "#views_diff\n",
    "views_diff.corr()"
   ]
  },
  {
   "cell_type": "markdown",
   "id": "3ccc218a-350e-4f28-84b8-32757cd72920",
   "metadata": {},
   "source": [
    "8. Закроим соединение с базой данных"
   ]
  },
  {
   "cell_type": "code",
   "execution_count": 8,
   "id": "93c80bd1-4f16-4587-9a24-75bfa6a77664",
   "metadata": {},
   "outputs": [],
   "source": [
    "db_con.close()"
   ]
  }
 ],
 "metadata": {
  "kernelspec": {
   "display_name": "Python 3 (ipykernel)",
   "language": "python",
   "name": "python3"
  },
  "language_info": {
   "codemirror_mode": {
    "name": "ipython",
    "version": 3
   },
   "file_extension": ".py",
   "mimetype": "text/x-python",
   "name": "python",
   "nbconvert_exporter": "python",
   "pygments_lexer": "ipython3",
   "version": "3.11.3"
  }
 },
 "nbformat": 4,
 "nbformat_minor": 5
}
